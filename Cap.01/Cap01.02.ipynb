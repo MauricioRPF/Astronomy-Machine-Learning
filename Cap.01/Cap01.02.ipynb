{
  "metadata": {
    "colab": {
      "provenance": []
    },
    "kernelspec": {
      "display_name": "Python 3",
      "name": "python3"
    },
    "language_info": {
      "codemirror_mode": {
        "name": "ipython",
        "version": 3
      },
      "file_extension": ".py",
      "mimetype": "text/x-python",
      "name": "python",
      "nbconvert_exporter": "python",
      "pygments_lexer": "ipython3",
      "version": "3.12.1"
    },
    "kaggle": {
      "accelerator": "nvidiaTeslaT4",
      "dataSources": [
        {
          "sourceId": 1544285,
          "sourceType": "datasetVersion",
          "datasetId": 910930
        }
      ],
      "dockerImageVersionId": 30733,
      "isInternetEnabled": true,
      "language": "python",
      "sourceType": "notebook",
      "isGpuEnabled": true
    }
  },
  "nbformat_minor": 0,
  "nbformat": 4,
  "cells": [
    {
      "cell_type": "markdown",
      "source": [
        "# <center> W1S3 | Python II"
      ],
      "metadata": {
        "id": "bKuBeNGORFjA"
      }
    },
    {
      "cell_type": "markdown",
      "source": [
        "## So far what we have covered:-\n",
        "1. Comments\n",
        "2. Variables and Constants\n",
        "3. Data Types - Strings, Integers, Floats, Boolean\n",
        "4. Data Type Conversions (String to Float, e.t.c.)\n",
        "5. I/O Operations\n",
        "6. String Operations\n",
        "\n",
        "## Today what we shall cover:-\n",
        "1. Data Structures - List, Tuple, Dictionary\n",
        "2. Unpacking of List and Tuple\n",
        "3. Conversion from List to Tuple and Vice-Versa\n",
        "4. Control Flow - Loops and Condition Statements"
      ],
      "metadata": {
        "id": "vTApYH7ERKWu"
      }
    },
    {
      "cell_type": "markdown",
      "source": [
        "### 1. List"
      ],
      "metadata": {
        "id": "Z36D9bDGkADT"
      }
    },
    {
      "cell_type": "code",
      "source": [
        "# Creating list of your three fav planets and print it\n",
        "\n",
        "Favortite_planets = ['Mercury', 'Venus', 'Earth']\n",
        "print(Favortite_planets)"
      ],
      "metadata": {
        "id": "4qGBsxzakBGV",
        "outputId": "d46995b7-7274-45a7-8dfd-0893ab43f9be",
        "colab": {
          "base_uri": "https://localhost:8080/"
        }
      },
      "execution_count": 1,
      "outputs": [
        {
          "output_type": "stream",
          "name": "stdout",
          "text": [
            "['Mercury', 'Venus', 'Earth']\n"
          ]
        }
      ]
    },
    {
      "cell_type": "code",
      "source": [
        "# Check the type of the above created list\n",
        "type(Favortite_planets)"
      ],
      "metadata": {
        "id": "HkgUELL-7nqd",
        "outputId": "de61e7ea-9a43-4b97-b23d-3d15420bbf50",
        "colab": {
          "base_uri": "https://localhost:8080/"
        }
      },
      "execution_count": 3,
      "outputs": [
        {
          "output_type": "execute_result",
          "data": {
            "text/plain": [
              "list"
            ]
          },
          "metadata": {},
          "execution_count": 3
        }
      ]
    },
    {
      "cell_type": "code",
      "source": [
        "# Nested List Example -> List within a List\n",
        "NestedPlanets = [Favortite_planets, ['Mars', 'Jupiter', 'Saturn']]\n",
        "print(NestedPlanets)"
      ],
      "metadata": {
        "id": "4OiP7o4mkr6E",
        "outputId": "69d2641b-cf7d-458b-e44a-ceb455989559",
        "colab": {
          "base_uri": "https://localhost:8080/"
        }
      },
      "execution_count": 6,
      "outputs": [
        {
          "output_type": "stream",
          "name": "stdout",
          "text": [
            "[['Mercury', 'Venus', 'Earth'], ['Mars', 'Jupiter', 'Saturn']]\n"
          ]
        }
      ]
    },
    {
      "cell_type": "code",
      "source": [
        "# Indexing a list - using above Nested List\n",
        "NestedPlanets[0][1]"
      ],
      "metadata": {
        "id": "N9OiKpwSk_pm",
        "outputId": "8b855594-29b4-4e19-c29e-34241136b0c7",
        "colab": {
          "base_uri": "https://localhost:8080/",
          "height": 35
        }
      },
      "execution_count": 7,
      "outputs": [
        {
          "output_type": "execute_result",
          "data": {
            "text/plain": [
              "'Venus'"
            ],
            "application/vnd.google.colaboratory.intrinsic+json": {
              "type": "string"
            }
          },
          "metadata": {},
          "execution_count": 7
        }
      ]
    },
    {
      "cell_type": "code",
      "source": [
        "# Guess the output question based on Nested List\n"
      ],
      "metadata": {
        "id": "eK3EfJC2lFb6"
      },
      "execution_count": null,
      "outputs": []
    },
    {
      "cell_type": "code",
      "source": [
        "# Change any element using indexing within a list -> Lists are Mutable\n",
        "NestedPlanets[0][1], NestedPlanets[1][1] = NestedPlanets[1][1], NestedPlanets[0][1]\n",
        "print(NestedPlanets)"
      ],
      "metadata": {
        "id": "-gtD11gLlY-D",
        "outputId": "15db05b5-e347-4619-a163-21f8a7189097",
        "colab": {
          "base_uri": "https://localhost:8080/"
        }
      },
      "execution_count": 8,
      "outputs": [
        {
          "output_type": "stream",
          "name": "stdout",
          "text": [
            "[['Mercury', 'Jupiter', 'Earth'], ['Mars', 'Venus', 'Saturn']]\n"
          ]
        }
      ]
    },
    {
      "cell_type": "code",
      "source": [
        "# To add element to fav_planets list, use .append(element) on that fav_planets list\n",
        "NestedPlanets[1].append('Pluto')\n",
        "print(NestedPlanets)\n"
      ],
      "metadata": {
        "id": "45e97AegmGhN",
        "outputId": "e3a71e1c-8d3b-4db5-cbf6-196dde1d11ee",
        "colab": {
          "base_uri": "https://localhost:8080/"
        }
      },
      "execution_count": 11,
      "outputs": [
        {
          "output_type": "stream",
          "name": "stdout",
          "text": [
            "[['Mercury', 'Jupiter', 'Earth'], ['Mars', 'Venus', 'Saturn', 'Pluto']]\n"
          ]
        }
      ]
    },
    {
      "cell_type": "markdown",
      "source": [
        "### 2. Tuple"
      ],
      "metadata": {
        "id": "3ni3ly7koHb8"
      }
    },
    {
      "cell_type": "code",
      "source": [
        "# Create a simple tuple of fav_celestial_bodies\n",
        "Celestial_bodies = ('Black Hole', 'Exoplanets', 'Neutron Star')\n",
        "print(Celestial_bodies)"
      ],
      "metadata": {
        "id": "bi8kswux7nqf",
        "outputId": "461830e6-2377-42e2-aeb1-2da20a3a5d39",
        "colab": {
          "base_uri": "https://localhost:8080/"
        }
      },
      "execution_count": 12,
      "outputs": [
        {
          "output_type": "stream",
          "name": "stdout",
          "text": [
            "('Black Hole', 'Exoplanets', 'Neutron Star')\n"
          ]
        }
      ]
    },
    {
      "cell_type": "code",
      "source": [
        "# You can have a nested tuple too!\n",
        "NestedCelestial_bodies = (Celestial_bodies, ('white star', 'Moon', 'Galaxy'))\n",
        "print(NestedCelestial_bodies)"
      ],
      "metadata": {
        "id": "ZnVJTxnvoJK0",
        "outputId": "3119dea5-e015-4c64-f6b8-a7f3a143b963",
        "colab": {
          "base_uri": "https://localhost:8080/"
        }
      },
      "execution_count": 15,
      "outputs": [
        {
          "output_type": "stream",
          "name": "stdout",
          "text": [
            "(('Black Hole', 'Exoplanets', 'Neutron Star'), ('white star', 'Moon', 'Galaxy'))\n"
          ]
        }
      ]
    },
    {
      "cell_type": "code",
      "source": [
        "# Check the type of the above created tuple\n",
        "type(NestedCelestial_bodies)"
      ],
      "metadata": {
        "id": "rsNTQS_3oUxM",
        "outputId": "e95ab590-c264-4b91-fa54-b32b11ccafc0",
        "colab": {
          "base_uri": "https://localhost:8080/"
        }
      },
      "execution_count": 16,
      "outputs": [
        {
          "output_type": "execute_result",
          "data": {
            "text/plain": [
              "tuple"
            ]
          },
          "metadata": {},
          "execution_count": 16
        }
      ]
    },
    {
      "cell_type": "code",
      "source": [
        "# Try to see what happens if you change a element like you did for list!\n",
        "\n",
        "NestedCelestial_bodies[0][1], NestedCelestial_bodies[1][1] = NestedCelestial_bodies[1][1], NestedCelestial_bodies[0][1]\n",
        "print(NestedCelestial_bodies)"
      ],
      "metadata": {
        "id": "TXOlaSRAomFP",
        "outputId": "6d425497-8440-4441-cd47-920b83be315f",
        "colab": {
          "base_uri": "https://localhost:8080/",
          "height": 193
        }
      },
      "execution_count": 17,
      "outputs": [
        {
          "output_type": "error",
          "ename": "TypeError",
          "evalue": "'tuple' object does not support item assignment",
          "traceback": [
            "\u001b[0;31m---------------------------------------------------------------------------\u001b[0m",
            "\u001b[0;31mTypeError\u001b[0m                                 Traceback (most recent call last)",
            "\u001b[0;32m<ipython-input-17-a589abae05e7>\u001b[0m in \u001b[0;36m<cell line: 0>\u001b[0;34m()\u001b[0m\n\u001b[1;32m      1\u001b[0m \u001b[0;31m# Try to see what happens if you change a element like you did for list!\u001b[0m\u001b[0;34m\u001b[0m\u001b[0;34m\u001b[0m\u001b[0m\n\u001b[1;32m      2\u001b[0m \u001b[0;34m\u001b[0m\u001b[0m\n\u001b[0;32m----> 3\u001b[0;31m \u001b[0mNestedCelestial_bodies\u001b[0m\u001b[0;34m[\u001b[0m\u001b[0;36m0\u001b[0m\u001b[0;34m]\u001b[0m\u001b[0;34m[\u001b[0m\u001b[0;36m1\u001b[0m\u001b[0;34m]\u001b[0m\u001b[0;34m,\u001b[0m \u001b[0mNestedCelestial_bodies\u001b[0m\u001b[0;34m[\u001b[0m\u001b[0;36m1\u001b[0m\u001b[0;34m]\u001b[0m\u001b[0;34m[\u001b[0m\u001b[0;36m1\u001b[0m\u001b[0;34m]\u001b[0m \u001b[0;34m=\u001b[0m \u001b[0mNestedCelestial_bodies\u001b[0m\u001b[0;34m[\u001b[0m\u001b[0;36m1\u001b[0m\u001b[0;34m]\u001b[0m\u001b[0;34m[\u001b[0m\u001b[0;36m1\u001b[0m\u001b[0;34m]\u001b[0m\u001b[0;34m,\u001b[0m \u001b[0mNestedCelestial_bodies\u001b[0m\u001b[0;34m[\u001b[0m\u001b[0;36m0\u001b[0m\u001b[0;34m]\u001b[0m\u001b[0;34m[\u001b[0m\u001b[0;36m1\u001b[0m\u001b[0;34m]\u001b[0m\u001b[0;34m\u001b[0m\u001b[0;34m\u001b[0m\u001b[0m\n\u001b[0m\u001b[1;32m      4\u001b[0m \u001b[0mprint\u001b[0m\u001b[0;34m(\u001b[0m\u001b[0mNestedCelestial_bodies\u001b[0m\u001b[0;34m)\u001b[0m\u001b[0;34m\u001b[0m\u001b[0;34m\u001b[0m\u001b[0m\n",
            "\u001b[0;31mTypeError\u001b[0m: 'tuple' object does not support item assignment"
          ]
        }
      ]
    },
    {
      "cell_type": "markdown",
      "source": [
        "### 3. Unpacking of list and tuple"
      ],
      "metadata": {
        "id": "Dbwluhi3o14n"
      }
    },
    {
      "cell_type": "code",
      "source": [
        "# Create a list of integers between 1 to 10 (both inclusive)\n",
        "lst_demo = [1, 2, 3, 4, 5]\n",
        "\n",
        "# Unpack the values of 1 and 2 in x and y variable respectively and others as a list\n",
        "\n",
        "lst_demo = [1, 2, 3, 4, 5]\n",
        "x, y, z, *rest = lst_demo\n",
        "print(f\"x: {x}, y: {y}, z: {z} rest: {rest}\")\n",
        "\n"
      ],
      "metadata": {
        "id": "P5n0wwZa7nqg",
        "outputId": "1ada7ea5-56dd-4716-d95a-40b2ac164e38",
        "colab": {
          "base_uri": "https://localhost:8080/"
        }
      },
      "execution_count": 21,
      "outputs": [
        {
          "output_type": "stream",
          "name": "stdout",
          "text": [
            "x: 1, y: 2, z: 3 rest: [4, 5]\n"
          ]
        }
      ]
    },
    {
      "cell_type": "code",
      "source": [
        "# Try to do it on the tuple by yourself!"
      ],
      "metadata": {
        "id": "U2R6GOl2o0KV"
      },
      "execution_count": null,
      "outputs": []
    },
    {
      "cell_type": "markdown",
      "source": [
        "### 4. Conversion between list and tuple"
      ],
      "metadata": {
        "id": "tb6nWZgVpZH7"
      }
    },
    {
      "cell_type": "code",
      "source": [
        "# Convert fav_planets list to a tuple and convert that tuple back to list\n",
        "NestedPlanets_T=tuple(NestedPlanets)\n",
        "print(NestedPlanets_T)\n",
        "\n",
        "print()\n",
        "\n",
        "NestedPlanets_L=list(NestedPlanets_T)\n",
        "print(NestedPlanets_L)"
      ],
      "metadata": {
        "id": "cQO3uMjz7nqg",
        "outputId": "bacd455a-7b13-4e83-c0e7-87a33b414972",
        "colab": {
          "base_uri": "https://localhost:8080/"
        }
      },
      "execution_count": 24,
      "outputs": [
        {
          "output_type": "stream",
          "name": "stdout",
          "text": [
            "(['Mercury', 'Jupiter', 'Earth'], ['Mars', 'Venus', 'Saturn', 'Pluto'])\n",
            "\n",
            "[['Mercury', 'Jupiter', 'Earth'], ['Mars', 'Venus', 'Saturn', 'Pluto']]\n"
          ]
        }
      ]
    },
    {
      "cell_type": "markdown",
      "source": [
        "### 5. Dictionary"
      ],
      "metadata": {
        "id": "iNSQwVa6p3sl"
      }
    },
    {
      "cell_type": "code",
      "source": [
        "# Create a dictionary for inner solar system planets and moons\n",
        "# It stores data in the form of key-value pair\n",
        "# key - planet, value - moons\n",
        "\n",
        "inner_planets_moon_info = {\n",
        "    'Mercury': 0,\n",
        "    'Venus': 0,\n",
        "    'Earth': 1,\n",
        "    'Mars': 2\n",
        "}\n",
        "\n",
        "print(inner_planets_moon_info)"
      ],
      "metadata": {
        "id": "JqpqIeslp5Ij",
        "outputId": "53677b55-c0d8-43e3-b7e0-747df93108e2",
        "colab": {
          "base_uri": "https://localhost:8080/"
        }
      },
      "execution_count": 36,
      "outputs": [
        {
          "output_type": "stream",
          "name": "stdout",
          "text": [
            "{'Mercury': 0, 'Venus': 0, 'Earth': 1, 'Mars': 2}\n"
          ]
        }
      ]
    },
    {
      "cell_type": "code",
      "source": [
        "# Check the type of the above created dictionary\n",
        "type(inner_planets_moon_info)"
      ],
      "metadata": {
        "id": "rt7Smu9_qttH",
        "outputId": "071a5557-4328-45e1-a64c-26afa096198b",
        "colab": {
          "base_uri": "https://localhost:8080/"
        }
      },
      "execution_count": 26,
      "outputs": [
        {
          "output_type": "execute_result",
          "data": {
            "text/plain": [
              "dict"
            ]
          },
          "metadata": {},
          "execution_count": 26
        }
      ]
    },
    {
      "cell_type": "code",
      "source": [
        "# Print the moons of Mars\n",
        "print(inner_planets_moon_info['Mars'])"
      ],
      "metadata": {
        "id": "P0SNakRFqxrv",
        "outputId": "c1984b53-a4b6-4069-91c0-7a4e58c0a1e4",
        "colab": {
          "base_uri": "https://localhost:8080/"
        }
      },
      "execution_count": 32,
      "outputs": [
        {
          "output_type": "stream",
          "name": "stdout",
          "text": [
            "2\n"
          ]
        }
      ]
    },
    {
      "cell_type": "code",
      "source": [
        "# Change the number of moons of Earth to 2\n",
        "inner_planets_moon_info['Earth'] = 2\n",
        "print(inner_planets_moon_info)"
      ],
      "metadata": {
        "id": "YXAhQSomrJKO",
        "outputId": "b8e1fe3b-c071-4cc8-d7d9-67611986a489",
        "colab": {
          "base_uri": "https://localhost:8080/"
        }
      },
      "execution_count": 37,
      "outputs": [
        {
          "output_type": "stream",
          "name": "stdout",
          "text": [
            "{'Mercury': 0, 'Venus': 0, 'Earth': 2, 'Mars': 2}\n"
          ]
        }
      ]
    },
    {
      "cell_type": "code",
      "source": [
        "# Add Jupiter Key with value of 92\n",
        "inner_planets_moon_info['Jupiter'] = 92\n",
        "print(inner_planets_moon_info)"
      ],
      "metadata": {
        "id": "Su9G8ekirNBL",
        "outputId": "be65128e-a5db-4921-d299-78d300500b80",
        "colab": {
          "base_uri": "https://localhost:8080/"
        }
      },
      "execution_count": 38,
      "outputs": [
        {
          "output_type": "stream",
          "name": "stdout",
          "text": [
            "{'Mercury': 0, 'Venus': 0, 'Earth': 2, 'Mars': 2, 'Jupiter': 92}\n"
          ]
        }
      ]
    },
    {
      "cell_type": "code",
      "source": [
        "# Remove the jupiter value using pop operation on the dictionary with input as Key you want to remove\n",
        "inner_planets_moon_info.pop('Jupiter')\n",
        "print(inner_planets_moon_info)"
      ],
      "metadata": {
        "id": "NY88ciOgrZC7",
        "outputId": "96e56af7-e55c-4747-f868-55ec3344e885",
        "colab": {
          "base_uri": "https://localhost:8080/"
        }
      },
      "execution_count": 39,
      "outputs": [
        {
          "output_type": "stream",
          "name": "stdout",
          "text": [
            "{'Mercury': 0, 'Venus': 0, 'Earth': 2, 'Mars': 2}\n"
          ]
        }
      ]
    },
    {
      "cell_type": "code",
      "source": [
        "# Get keys, values, items of above dictionary and convert them to list\n",
        "inner_planets_moon_info_keys = list(inner_planets_moon_info.keys())\n",
        "inner_planets_moon_info_values = list(inner_planets_moon_info.values())\n",
        "inner_planets_moon_info_items = list(inner_planets_moon_info.items())\n",
        "\n",
        "print(inner_planets_moon_info_keys)\n",
        "print(inner_planets_moon_info_values)\n",
        "print(inner_planets_moon_info_items)"
      ],
      "metadata": {
        "id": "qcFy2HD_s41D",
        "outputId": "ba6ef73b-5339-485d-c3ac-20cd962293dc",
        "colab": {
          "base_uri": "https://localhost:8080/"
        }
      },
      "execution_count": 40,
      "outputs": [
        {
          "output_type": "stream",
          "name": "stdout",
          "text": [
            "['Mercury', 'Venus', 'Earth', 'Mars']\n",
            "[0, 0, 2, 2]\n",
            "[('Mercury', 0), ('Venus', 0), ('Earth', 2), ('Mars', 2)]\n"
          ]
        }
      ]
    }
  ]
}