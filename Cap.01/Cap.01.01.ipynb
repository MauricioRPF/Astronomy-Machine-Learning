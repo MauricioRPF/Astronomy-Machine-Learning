{
  "nbformat": 4,
  "nbformat_minor": 0,
  "metadata": {
    "colab": {
      "provenance": []
    },
    "kernelspec": {
      "name": "python3",
      "display_name": "Python 3"
    },
    "language_info": {
      "name": "python"
    }
  },
  "cells": [
    {
      "cell_type": "markdown",
      "source": [
        "## <center> W1S2 | Python - I\n",
        "\n",
        "---"
      ],
      "metadata": {
        "id": "oHb8SKYBpr0e"
      }
    },
    {
      "cell_type": "markdown",
      "source": [
        "### 1. Python Comments"
      ],
      "metadata": {
        "id": "N4VAZhiZqq-f"
      }
    },
    {
      "cell_type": "code",
      "source": [
        "# This is Python Comment - Used to describe the code"
      ],
      "metadata": {
        "id": "GCV9cUOkpx6d"
      },
      "execution_count": null,
      "outputs": []
    },
    {
      "cell_type": "code",
      "source": [
        "'''\n",
        "This is multi-line comment in Python\n",
        "You can use this to describe multiple things at the same time about the code\n",
        "'''"
      ],
      "metadata": {
        "id": "7tujCLUxqJ2Q",
        "colab": {
          "base_uri": "https://localhost:8080/",
          "height": 35
        },
        "outputId": "85ce74ce-9808-44dd-ba42-408775e42316"
      },
      "execution_count": null,
      "outputs": [
        {
          "output_type": "execute_result",
          "data": {
            "text/plain": [
              "'\\nThis is multi-line comment in Python\\nYou can use this to describe multiple things at the same time about the code\\n'"
            ],
            "application/vnd.google.colaboratory.intrinsic+json": {
              "type": "string"
            }
          },
          "metadata": {},
          "execution_count": 6
        }
      ]
    },
    {
      "cell_type": "code",
      "source": [
        "# You can highlight the code and press ctrl + / to comment full code!\n",
        "# Here is the example.\n",
        "# Select the full code\n",
        "# Now press ctrl + / and see the magic"
      ],
      "metadata": {
        "id": "Dn5Jx98fuU5R"
      },
      "execution_count": null,
      "outputs": []
    },
    {
      "cell_type": "markdown",
      "source": [
        "### 2. Strings"
      ],
      "metadata": {
        "id": "Twx12Cn-qwlX"
      }
    },
    {
      "cell_type": "code",
      "source": [
        "# Strings - When you encapsulate a thing within quotations (single, double, tripple) are expresed as string\n",
        "'This is a string # 45645489496'"
      ],
      "metadata": {
        "id": "ExBtNa3_qRE-",
        "colab": {
          "base_uri": "https://localhost:8080/",
          "height": 35
        },
        "outputId": "3b145bb3-ccc9-4f59-99ad-ad964968314f"
      },
      "execution_count": null,
      "outputs": [
        {
          "output_type": "execute_result",
          "data": {
            "text/plain": [
              "'This is a string # 45645489496'"
            ],
            "application/vnd.google.colaboratory.intrinsic+json": {
              "type": "string"
            }
          },
          "metadata": {},
          "execution_count": 10
        }
      ]
    },
    {
      "cell_type": "code",
      "source": [
        "# Use type() command in Python to check the data type\n",
        "type('This is a string # 45645489496')"
      ],
      "metadata": {
        "id": "79HyFw5-rOc2",
        "colab": {
          "base_uri": "https://localhost:8080/"
        },
        "outputId": "46874591-7dec-49db-b326-25fc9bf2f8f8"
      },
      "execution_count": null,
      "outputs": [
        {
          "output_type": "execute_result",
          "data": {
            "text/plain": [
              "str"
            ]
          },
          "metadata": {},
          "execution_count": 11
        }
      ]
    },
    {
      "cell_type": "code",
      "source": [
        "# Use print() command to print Hello World!\n",
        "print('This is a string # 45645489496')"
      ],
      "metadata": {
        "id": "Tau5luZmtV97",
        "colab": {
          "base_uri": "https://localhost:8080/"
        },
        "outputId": "38102af7-a261-4a76-ad05-91e90bdaba5b"
      },
      "execution_count": null,
      "outputs": [
        {
          "output_type": "stream",
          "name": "stdout",
          "text": [
            "This is a string # 45645489496\n"
          ]
        }
      ]
    },
    {
      "cell_type": "code",
      "source": [
        "# By the way the comment below is also a string! It can be used for multi-line comments as explained above\n",
        "print('''\n",
        "You might notice that we didn't use print command in previous code cells, yet it was printing it\n",
        "Now, that's how this colab notebook works!\n",
        "- Just note that it prints without print statement only for the last code line in your code cell\n",
        "- If you have multiple lines of code, it won't print data if it is not the last line\n",
        "''')\n",
        "\n",
        "# Check the code below\n",
        "print('This will be printed now'\n",
        "\"The above line won't be printed. Use print() command on it to print that as well!\")"
      ],
      "metadata": {
        "id": "MluSvg7mta6X",
        "colab": {
          "base_uri": "https://localhost:8080/"
        },
        "outputId": "d0408e18-3b71-4b52-c953-01a11b3e0ff6"
      },
      "execution_count": null,
      "outputs": [
        {
          "output_type": "stream",
          "name": "stdout",
          "text": [
            "\n",
            "You might notice that we didn't use print command in previous code cells, yet it was printing it\n",
            "Now, that's how this colab notebook works!\n",
            "- Just note that it prints without print statement only for the last code line in your code cell\n",
            "- If you have multiple lines of code, it won't print data if it is not the last line\n",
            "\n",
            "This will be printed nowThe above line won't be printed. Use print() command on it to print that as well!\n"
          ]
        }
      ]
    },
    {
      "cell_type": "code",
      "source": [
        "\"\"\"\n",
        "Check what happens if you write the text without quotation marks\n",
        "- It shall raise a NameError as Python recgonize text without quotation marks as variables/constants\n",
        "- As we haven't defined such a thing yet, it shall raise the error\n",
        "\"\"\"\n",
        "demo_string"
      ],
      "metadata": {
        "id": "lDkRVmUmq1Il",
        "colab": {
          "base_uri": "https://localhost:8080/",
          "height": 176
        },
        "outputId": "ae60b5ef-e1e1-4514-ca19-c27cb14beb54"
      },
      "execution_count": null,
      "outputs": [
        {
          "output_type": "error",
          "ename": "NameError",
          "evalue": "name 'demo_string' is not defined",
          "traceback": [
            "\u001b[0;31m---------------------------------------------------------------------------\u001b[0m",
            "\u001b[0;31mNameError\u001b[0m                                 Traceback (most recent call last)",
            "\u001b[0;32m<ipython-input-1-0f01c9cfbf47>\u001b[0m in \u001b[0;36m<cell line: 6>\u001b[0;34m()\u001b[0m\n\u001b[1;32m      4\u001b[0m \u001b[0;34m-\u001b[0m \u001b[0mAs\u001b[0m \u001b[0mwe\u001b[0m \u001b[0mhaven\u001b[0m\u001b[0;31m'\u001b[0m\u001b[0mt\u001b[0m \u001b[0mdefined\u001b[0m \u001b[0msuch\u001b[0m \u001b[0ma\u001b[0m \u001b[0mthing\u001b[0m \u001b[0myet\u001b[0m\u001b[0;34m,\u001b[0m \u001b[0mit\u001b[0m \u001b[0mshall\u001b[0m \u001b[0;32mraise\u001b[0m \u001b[0mthe\u001b[0m \u001b[0merror\u001b[0m\u001b[0;34m\u001b[0m\u001b[0;34m\u001b[0m\u001b[0m\n\u001b[1;32m      5\u001b[0m \"\"\"\n\u001b[0;32m----> 6\u001b[0;31m \u001b[0mdemo_string\u001b[0m\u001b[0;34m\u001b[0m\u001b[0;34m\u001b[0m\u001b[0m\n\u001b[0m",
            "\u001b[0;31mNameError\u001b[0m: name 'demo_string' is not defined"
          ]
        }
      ]
    },
    {
      "cell_type": "markdown",
      "source": [
        "### 3. Variables and Constants"
      ],
      "metadata": {
        "id": "C0VbSqTvrMKm"
      }
    },
    {
      "cell_type": "code",
      "source": [
        "# Variables can store different data types. Let's store a string in a variable called demo_string\n",
        "demo_string = 'some text'"
      ],
      "metadata": {
        "id": "RerJwZGmr6A1"
      },
      "execution_count": null,
      "outputs": []
    },
    {
      "cell_type": "code",
      "source": [
        "# Now demo_string variable can be written without quotation mark as we have defined what it means\n",
        "demo_string"
      ],
      "metadata": {
        "id": "JGAHTyvasPBa",
        "colab": {
          "base_uri": "https://localhost:8080/",
          "height": 35
        },
        "outputId": "52405352-4a5e-4eec-af59-b672325420cc"
      },
      "execution_count": null,
      "outputs": [
        {
          "output_type": "execute_result",
          "data": {
            "text/plain": [
              "'some text'"
            ],
            "application/vnd.google.colaboratory.intrinsic+json": {
              "type": "string"
            }
          },
          "metadata": {},
          "execution_count": 3
        }
      ]
    },
    {
      "cell_type": "code",
      "source": [
        "demo_string = 'this is a new value assigned to demo_string variable'\n",
        "demo_string"
      ],
      "metadata": {
        "colab": {
          "base_uri": "https://localhost:8080/",
          "height": 35
        },
        "id": "ummI6indKD_a",
        "outputId": "ca0df32f-154f-440e-f4e1-80739d7f1e5e"
      },
      "execution_count": null,
      "outputs": [
        {
          "output_type": "execute_result",
          "data": {
            "text/plain": [
              "'this is a new value assigned to demo_string variable'"
            ],
            "application/vnd.google.colaboratory.intrinsic+json": {
              "type": "string"
            }
          },
          "metadata": {},
          "execution_count": 6
        }
      ]
    },
    {
      "cell_type": "code",
      "source": [
        "# Constant are defined in upper case letters. This indicates that this value doesn't change anywhere in code\n",
        "CONST_STR = 'This string will never change'"
      ],
      "metadata": {
        "id": "FqzOzmwEs0T-"
      },
      "execution_count": null,
      "outputs": []
    },
    {
      "cell_type": "markdown",
      "source": [
        "#### 4. f-String"
      ],
      "metadata": {
        "id": "9VuLyuOUtMxI"
      }
    },
    {
      "cell_type": "code",
      "source": [
        "# We use f-string to print a variable that can take multiple values! Check the example below"
      ],
      "metadata": {
        "id": "8CxV3I-ptKdS"
      },
      "execution_count": null,
      "outputs": []
    },
    {
      "cell_type": "code",
      "source": [
        "# Define a variable that stores the information about moons count of Saturn\n",
        "saturn_moons = 149"
      ],
      "metadata": {
        "id": "59YZvy0jvCI0"
      },
      "execution_count": null,
      "outputs": []
    },
    {
      "cell_type": "code",
      "source": [
        "# Print the statement displaying the count of moons of Saturn\n",
        "print('Saturn has 146 Moons') # If saturn's moons count increases in future, we manually have to change this value"
      ],
      "metadata": {
        "id": "2bfAYZPavWkI",
        "colab": {
          "base_uri": "https://localhost:8080/"
        },
        "outputId": "31fe9afc-20f3-4c6b-f1cf-fcdc19a55166"
      },
      "execution_count": null,
      "outputs": [
        {
          "output_type": "stream",
          "name": "stdout",
          "text": [
            "Saturn has 146 Moons\n"
          ]
        }
      ]
    },
    {
      "cell_type": "code",
      "source": [
        "# f-string method to dyanamically change the value based on the varibale!\n",
        "saturn_moons = 146\n",
        "print(f'Saturn has {saturn_moons} Moons')"
      ],
      "metadata": {
        "id": "glFJqcr5vXrB",
        "colab": {
          "base_uri": "https://localhost:8080/"
        },
        "outputId": "83b153dd-a33e-425c-e15f-79500e1b847e"
      },
      "execution_count": null,
      "outputs": [
        {
          "output_type": "stream",
          "name": "stdout",
          "text": [
            "Saturn has 146 Moons\n"
          ]
        }
      ]
    },
    {
      "cell_type": "markdown",
      "source": [
        "### 5. Numeric Data Types"
      ],
      "metadata": {
        "id": "gI1ka9_yv_mH"
      }
    },
    {
      "cell_type": "code",
      "source": [
        "# Create bunch of variables and store numeric data in them\n",
        "var1 = 8    # int\n",
        "var2 = 8.0  # float\n",
        "var3 = 16/2 # float\n",
        "var4 = 123  # int\n",
        "var5 = 123.5 #float"
      ],
      "metadata": {
        "id": "BnAzeGkrwBHu"
      },
      "execution_count": 17,
      "outputs": []
    },
    {
      "cell_type": "code",
      "source": [
        "# Check the type for each and every variables above\n",
        "print(type(var1))\n",
        "print(type(var2))\n",
        "print(type(var3))\n",
        "print(type(var4))\n",
        "print(type(var5))"
      ],
      "metadata": {
        "id": "DUxaQQmVwJB1",
        "colab": {
          "base_uri": "https://localhost:8080/"
        },
        "outputId": "bbfc848c-ee2a-41ec-9460-913a369f928c"
      },
      "execution_count": 18,
      "outputs": [
        {
          "output_type": "stream",
          "name": "stdout",
          "text": [
            "<class 'int'>\n",
            "<class 'float'>\n",
            "<class 'float'>\n",
            "<class 'int'>\n",
            "<class 'float'>\n"
          ]
        }
      ]
    },
    {
      "cell_type": "code",
      "source": [
        "# experimenting with 16/2\n",
        "16/2"
      ],
      "metadata": {
        "colab": {
          "base_uri": "https://localhost:8080/"
        },
        "id": "kWGZikLfNa_R",
        "outputId": "4e4d163f-e205-4283-bdaa-53f6d84cd50f"
      },
      "execution_count": 19,
      "outputs": [
        {
          "output_type": "execute_result",
          "data": {
            "text/plain": [
              "8.0"
            ]
          },
          "metadata": {},
          "execution_count": 19
        }
      ]
    },
    {
      "cell_type": "markdown",
      "source": [
        "### 6. Data Type Conversions"
      ],
      "metadata": {
        "id": "LVxzCfI2wsYM"
      }
    },
    {
      "cell_type": "code",
      "source": [
        "# Convert an integer into a string\n",
        "int_data = 3\n",
        "print(int_data)\n",
        "print(type(int_data))\n",
        "\n",
        "print()\n",
        "\n",
        "# Print the data after converting the int data to str type\n",
        "int_to_str_data = str(int_data)\n",
        "print(int_to_str_data)\n",
        "print(type(int_to_str_data))"
      ],
      "metadata": {
        "id": "QBReoNGFwumU",
        "colab": {
          "base_uri": "https://localhost:8080/"
        },
        "outputId": "86ec8f2d-7da8-41a3-b5d0-a9a1054a59a1"
      },
      "execution_count": 20,
      "outputs": [
        {
          "output_type": "stream",
          "name": "stdout",
          "text": [
            "3\n",
            "<class 'int'>\n",
            "\n",
            "3\n",
            "<class 'str'>\n"
          ]
        }
      ]
    },
    {
      "cell_type": "code",
      "source": [
        "# Note that int_data have not changed its original data type because it was not overwritten!\n",
        "type(int_data)"
      ],
      "metadata": {
        "colab": {
          "base_uri": "https://localhost:8080/"
        },
        "id": "L-sWDFYMO9jd",
        "outputId": "09b98fd4-0b59-4893-a0ed-3184b96813ed"
      },
      "execution_count": 21,
      "outputs": [
        {
          "output_type": "execute_result",
          "data": {
            "text/plain": [
              "int"
            ]
          },
          "metadata": {},
          "execution_count": 21
        }
      ]
    },
    {
      "cell_type": "code",
      "source": [
        "# Convert that same integer data into float\n",
        "int_to_float_data = float(int_data)\n",
        "print(int_to_float_data)\n",
        "print(type(int_to_float_data))"
      ],
      "metadata": {
        "id": "1Z75ziJBxTIZ",
        "colab": {
          "base_uri": "https://localhost:8080/"
        },
        "outputId": "934c66ed-1a39-4347-db7d-1709a2c71919"
      },
      "execution_count": 22,
      "outputs": [
        {
          "output_type": "stream",
          "name": "stdout",
          "text": [
            "3.0\n",
            "<class 'float'>\n"
          ]
        }
      ]
    },
    {
      "cell_type": "code",
      "source": [
        "# Convert the string data to float\n",
        "str_data = '3'\n",
        "print(str_data)\n",
        "print(type(str_data))\n",
        "\n",
        "print()\n",
        "\n",
        "str_to_float_data = float(str_data)\n",
        "print(str_to_float_data)"
      ],
      "metadata": {
        "id": "-nk699yjxotC",
        "colab": {
          "base_uri": "https://localhost:8080/"
        },
        "outputId": "4d7ecd1b-6510-4979-c9da-832daa224fdd"
      },
      "execution_count": 23,
      "outputs": [
        {
          "output_type": "stream",
          "name": "stdout",
          "text": [
            "3\n",
            "<class 'str'>\n",
            "\n",
            "3.0\n"
          ]
        }
      ]
    },
    {
      "cell_type": "code",
      "source": [
        "# Note that only numeric strings can be converted to numeric data\n",
        "str_data = 'Non-Numeric String'\n",
        "str_to_numeric_data = float(str_data)"
      ],
      "metadata": {
        "id": "UikmSVGTyNTV",
        "colab": {
          "base_uri": "https://localhost:8080/",
          "height": 176
        },
        "outputId": "fe30b7ba-cbbc-434d-80ee-45d05c507ec2"
      },
      "execution_count": 24,
      "outputs": [
        {
          "output_type": "error",
          "ename": "ValueError",
          "evalue": "could not convert string to float: 'Non-Numeric String'",
          "traceback": [
            "\u001b[0;31m---------------------------------------------------------------------------\u001b[0m",
            "\u001b[0;31mValueError\u001b[0m                                Traceback (most recent call last)",
            "\u001b[0;32m<ipython-input-24-4f1b34a710f9>\u001b[0m in \u001b[0;36m<cell line: 3>\u001b[0;34m()\u001b[0m\n\u001b[1;32m      1\u001b[0m \u001b[0;31m# Note that only numeric strings can be converted to numeric data\u001b[0m\u001b[0;34m\u001b[0m\u001b[0;34m\u001b[0m\u001b[0m\n\u001b[1;32m      2\u001b[0m \u001b[0mstr_data\u001b[0m \u001b[0;34m=\u001b[0m \u001b[0;34m'Non-Numeric String'\u001b[0m\u001b[0;34m\u001b[0m\u001b[0;34m\u001b[0m\u001b[0m\n\u001b[0;32m----> 3\u001b[0;31m \u001b[0mstr_to_numeric_data\u001b[0m \u001b[0;34m=\u001b[0m \u001b[0mfloat\u001b[0m\u001b[0;34m(\u001b[0m\u001b[0mstr_data\u001b[0m\u001b[0;34m)\u001b[0m\u001b[0;34m\u001b[0m\u001b[0;34m\u001b[0m\u001b[0m\n\u001b[0m",
            "\u001b[0;31mValueError\u001b[0m: could not convert string to float: 'Non-Numeric String'"
          ]
        }
      ]
    },
    {
      "cell_type": "code",
      "source": [
        "# Numeric string with decimals cannot be converted to integers!\n",
        "str_float_data = '3.2'\n",
        "str_to_int_data = int(float(str_float_data))\n",
        "print(str_to_int_data)"
      ],
      "metadata": {
        "id": "KhHTxJLxy93c",
        "colab": {
          "base_uri": "https://localhost:8080/"
        },
        "outputId": "5fa48eef-f432-4ce6-c98d-14803f2107c8"
      },
      "execution_count": 26,
      "outputs": [
        {
          "output_type": "stream",
          "name": "stdout",
          "text": [
            "3\n"
          ]
        }
      ]
    },
    {
      "cell_type": "markdown",
      "source": [
        "### 7. Boolean Data Type and Python Operators"
      ],
      "metadata": {
        "id": "a8kwEaVR3W96"
      }
    },
    {
      "cell_type": "code",
      "source": [
        "# Boolean --> True or False\n",
        "print(type(True))\n",
        "print(type(False))"
      ],
      "metadata": {
        "id": "c4lTvQNX3Zpg",
        "colab": {
          "base_uri": "https://localhost:8080/"
        },
        "outputId": "d3ab5783-c17a-4f1f-899b-7e42f6641262"
      },
      "execution_count": 27,
      "outputs": [
        {
          "output_type": "stream",
          "name": "stdout",
          "text": [
            "<class 'bool'>\n",
            "<class 'bool'>\n"
          ]
        }
      ]
    },
    {
      "cell_type": "code",
      "source": [
        "# It is mostly used to check conditions in Python and get a boolean output for the same\n",
        "print(5>2)\n",
        "print(5<2)\n",
        "print(5+1==3+3)   # Equal Condition\n",
        "print(3-2!=1)     # Not Equal Condition"
      ],
      "metadata": {
        "id": "muOUte3w3qPE",
        "colab": {
          "base_uri": "https://localhost:8080/"
        },
        "outputId": "c6b68e51-e3b4-4f63-bb94-b44cce417806"
      },
      "execution_count": 28,
      "outputs": [
        {
          "output_type": "stream",
          "name": "stdout",
          "text": [
            "True\n",
            "False\n",
            "True\n",
            "False\n"
          ]
        }
      ]
    },
    {
      "cell_type": "code",
      "source": [
        "# Modulo operator\n",
        "3%2 # Gives you the remainder of 3/2"
      ],
      "metadata": {
        "id": "mDI9vx8840hk",
        "colab": {
          "base_uri": "https://localhost:8080/"
        },
        "outputId": "ec3550d2-fdc3-441c-cb4b-d68c1c4787cd"
      },
      "execution_count": 29,
      "outputs": [
        {
          "output_type": "execute_result",
          "data": {
            "text/plain": [
              "1"
            ]
          },
          "metadata": {},
          "execution_count": 29
        }
      ]
    },
    {
      "cell_type": "code",
      "source": [
        "# Normal Division\n",
        "5/2 # Performs the division operation"
      ],
      "metadata": {
        "id": "jO8OjRCl5Ivl",
        "colab": {
          "base_uri": "https://localhost:8080/"
        },
        "outputId": "b5b323b6-6b4f-40bd-be9d-4b7521a59265"
      },
      "execution_count": 33,
      "outputs": [
        {
          "output_type": "execute_result",
          "data": {
            "text/plain": [
              "2.5"
            ]
          },
          "metadata": {},
          "execution_count": 33
        }
      ]
    },
    {
      "cell_type": "code",
      "source": [
        "# Floor Division\n",
        "5//2 # Rounds down to integer of 5/2 output"
      ],
      "metadata": {
        "id": "6Oi1cvw15CZm",
        "colab": {
          "base_uri": "https://localhost:8080/"
        },
        "outputId": "d5ce0317-58a9-4d5f-c220-03dc134d1da6"
      },
      "execution_count": 34,
      "outputs": [
        {
          "output_type": "execute_result",
          "data": {
            "text/plain": [
              "2"
            ]
          },
          "metadata": {},
          "execution_count": 34
        }
      ]
    },
    {
      "cell_type": "markdown",
      "source": [
        "### 8. Take User Input"
      ],
      "metadata": {
        "id": "qZ9C9PpO5U06"
      }
    },
    {
      "cell_type": "code",
      "source": [
        "# Using input() method you can ask user to provide some information\n",
        "input(\"Enter your fav number:- \")"
      ],
      "metadata": {
        "id": "egCLdPmN5gaB",
        "colab": {
          "base_uri": "https://localhost:8080/",
          "height": 52
        },
        "outputId": "4ca9e4fb-94dd-4ab3-876a-a86b91dbf864"
      },
      "execution_count": 3,
      "outputs": [
        {
          "name": "stdout",
          "output_type": "stream",
          "text": [
            "Enter your fav number:- 9\n"
          ]
        },
        {
          "output_type": "execute_result",
          "data": {
            "text/plain": [
              "'9'"
            ],
            "application/vnd.google.colaboratory.intrinsic+json": {
              "type": "string"
            }
          },
          "metadata": {},
          "execution_count": 3
        }
      ]
    },
    {
      "cell_type": "code",
      "source": [
        "# How will take an input from user and convert it to numeric type?\n",
        "num_input = int(input(\"Enter your fav number:- \"))"
      ],
      "metadata": {
        "id": "y_6051_R54qt",
        "colab": {
          "base_uri": "https://localhost:8080/"
        },
        "outputId": "1e3a880a-81d2-4cad-8fd5-12121f6f8fbb"
      },
      "execution_count": 4,
      "outputs": [
        {
          "name": "stdout",
          "output_type": "stream",
          "text": [
            "Enter your fav number:- 9\n"
          ]
        }
      ]
    },
    {
      "cell_type": "code",
      "source": [
        "type(num_input)"
      ],
      "metadata": {
        "colab": {
          "base_uri": "https://localhost:8080/"
        },
        "id": "WucJybPXZlEj",
        "outputId": "3b22521a-9068-43bb-fb0f-a84cf6947af9"
      },
      "execution_count": 5,
      "outputs": [
        {
          "output_type": "execute_result",
          "data": {
            "text/plain": [
              "int"
            ]
          },
          "metadata": {},
          "execution_count": 5
        }
      ]
    },
    {
      "cell_type": "markdown",
      "source": [
        "### 9. Common String Operations"
      ],
      "metadata": {
        "id": "F56Lw38o6YZ9"
      }
    },
    {
      "cell_type": "code",
      "source": [
        "# Count the length of the string\n",
        "str_ = 'How many charachters are there in this string?'\n",
        "print(len(str_))"
      ],
      "metadata": {
        "id": "ZIdUq1vY6Kmi",
        "colab": {
          "base_uri": "https://localhost:8080/"
        },
        "outputId": "6ecfe05c-93fa-440b-8906-617394c90fc2"
      },
      "execution_count": 9,
      "outputs": [
        {
          "output_type": "stream",
          "name": "stdout",
          "text": [
            "46\n"
          ]
        }
      ]
    },
    {
      "cell_type": "code",
      "source": [
        "# Change the first letter of every word to upper case\n",
        "str_method_1 = 'this is a string'\n",
        "print(str_method_1)\n",
        "\n",
        "str_method_1 = str_method_1.title()\n",
        "print(str_method_1)"
      ],
      "metadata": {
        "id": "KZudSbCG7wpT",
        "colab": {
          "base_uri": "https://localhost:8080/"
        },
        "outputId": "87b39094-1ab8-4dfb-a880-071c88e52456"
      },
      "execution_count": 11,
      "outputs": [
        {
          "output_type": "stream",
          "name": "stdout",
          "text": [
            "this is a string\n",
            "This Is A String\n"
          ]
        }
      ]
    },
    {
      "cell_type": "code",
      "source": [
        "# Change the string to upper case\n",
        "str_method_2 = str_method_1.upper()\n",
        "print(str_method_2)"
      ],
      "metadata": {
        "id": "eyU_PWn98l1o",
        "colab": {
          "base_uri": "https://localhost:8080/"
        },
        "outputId": "706c055f-d750-4f51-d946-4d3aa6a3b1a5"
      },
      "execution_count": 12,
      "outputs": [
        {
          "output_type": "stream",
          "name": "stdout",
          "text": [
            "THIS IS A STRING\n"
          ]
        }
      ]
    },
    {
      "cell_type": "code",
      "source": [
        "# Change the string to lower case\n",
        "str_method_3 = str_method_2.lower()\n",
        "print(str_method_3)"
      ],
      "metadata": {
        "id": "z3Cc-wLH8r4O",
        "colab": {
          "base_uri": "https://localhost:8080/"
        },
        "outputId": "28b9ffd6-3a3b-416b-f1fe-22c93f81f423"
      },
      "execution_count": 14,
      "outputs": [
        {
          "output_type": "stream",
          "name": "stdout",
          "text": [
            "this is a string\n"
          ]
        }
      ]
    },
    {
      "cell_type": "code",
      "source": [
        "# Split a string\n",
        "string_ = \"rohan@shah@lmao\"\n",
        "str_method_4 = string_.split('@')\n",
        "print(str_method_4)"
      ],
      "metadata": {
        "id": "rcgwXpUG8zbS",
        "colab": {
          "base_uri": "https://localhost:8080/"
        },
        "outputId": "83a976db-b019-49e5-d7d3-7a7f4e3a5cde"
      },
      "execution_count": 22,
      "outputs": [
        {
          "output_type": "stream",
          "name": "stdout",
          "text": [
            "['rohan', 'shah', 'lmao']\n"
          ]
        }
      ]
    },
    {
      "cell_type": "code",
      "source": [
        "# Replace a string\n",
        "\n",
        "# Create a string\n",
        "demo_string = 'Hello\\nThis is the second line'\n",
        "print('Before:-')\n",
        "print(demo_string)\n",
        "\n",
        "print()\n",
        "\n",
        "# Replace \\n with a space\n",
        "demo_string = demo_string.replace(\"\\n\", \" \")\n",
        "print('After replacing the string:-')\n",
        "print(demo_string)"
      ],
      "metadata": {
        "id": "Pw4GOITQ7jvI",
        "colab": {
          "base_uri": "https://localhost:8080/"
        },
        "outputId": "062f3404-2d85-4ae4-f4e9-2622d0aa7495"
      },
      "execution_count": 23,
      "outputs": [
        {
          "output_type": "stream",
          "name": "stdout",
          "text": [
            "Before:-\n",
            "Hello\n",
            "This is the second line\n",
            "\n",
            "After replacing the string:-\n",
            "Hello This is the second line\n"
          ]
        }
      ]
    },
    {
      "cell_type": "markdown",
      "source": [
        "<img src='https://cdn.programiz.com/sites/tutorial2program/files/python-list-index.png' width=50%>"
      ],
      "metadata": {
        "id": "oeYhZUbe8mkV"
      }
    },
    {
      "cell_type": "code",
      "source": [
        "str_ = 'probe'\n",
        "str_[3]"
      ],
      "metadata": {
        "colab": {
          "base_uri": "https://localhost:8080/",
          "height": 35
        },
        "id": "kQqOuxU7enlu",
        "outputId": "61aa7965-65a3-493f-9980-e0d91f27c06f"
      },
      "execution_count": 25,
      "outputs": [
        {
          "output_type": "execute_result",
          "data": {
            "text/plain": [
              "'b'"
            ],
            "application/vnd.google.colaboratory.intrinsic+json": {
              "type": "string"
            }
          },
          "metadata": {},
          "execution_count": 25
        }
      ]
    },
    {
      "cell_type": "code",
      "source": [
        "# Indexing String\n",
        "\n",
        "# Python index starts from index 0 (from the end it starts from -1 - both side indexing is possible)\n",
        "\n",
        "str_ = 'probe'\n",
        "\n",
        "# Grab 'b' from the above string using positive and negative indexing\n",
        "print(str_[3])\n",
        "print(str_[-2])"
      ],
      "metadata": {
        "id": "TbTKQ0Lt8TJY",
        "colab": {
          "base_uri": "https://localhost:8080/"
        },
        "outputId": "07e4f599-a266-4250-9967-96c73a37d8b6"
      },
      "execution_count": 30,
      "outputs": [
        {
          "output_type": "stream",
          "name": "stdout",
          "text": [
            "b\n",
            "b\n"
          ]
        }
      ]
    },
    {
      "cell_type": "code",
      "source": [
        "# Slicing String\n",
        "\n",
        "# Grab 'rob' from the string above\n",
        "# print(str_[1:-1]) # [inclusive_index_value:exclusive_index_value]\n",
        "# print(str_[1:4])\n",
        "\n",
        "# # Grab 'obe' from the string above\n",
        "# print(str_[2:5])\n",
        "# print(str_[2:])"
      ],
      "metadata": {
        "id": "mLQBKRDM89xw"
      },
      "execution_count": null,
      "outputs": []
    },
    {
      "cell_type": "code",
      "source": [
        "# Can you grab 'pro' from the above string?\n",
        "print(str_[:3])"
      ],
      "metadata": {
        "id": "cm9kPfYB9aC_",
        "colab": {
          "base_uri": "https://localhost:8080/"
        },
        "outputId": "bfecb897-35c4-4012-ff4b-5a86566dc2e2"
      },
      "execution_count": 39,
      "outputs": [
        {
          "output_type": "stream",
          "name": "stdout",
          "text": [
            "pro\n"
          ]
        }
      ]
    },
    {
      "cell_type": "markdown",
      "source": [
        "### 10. Practice Questions and its Solutions - Try by yourself"
      ],
      "metadata": {
        "id": "m6r9Q77o9M3w"
      }
    },
    {
      "cell_type": "markdown",
      "source": [
        "**Q1)** Is the code below a correct way to comment the code in Python?\n",
        "\n",
        "```\n",
        "\"'\"\n",
        "Python Comment Line - 1\n",
        "Python Comment Line - 2\n",
        "\"'\"\n",
        "```"
      ],
      "metadata": {
        "id": "vQcF-wFqCluC"
      }
    },
    {
      "cell_type": "markdown",
      "source": [
        "**A1)** Nope, as there is a mixture of single and double quotations, it is not a correct way to comment a Python code.\n",
        "* You can either have a single quotes or double quotes  for three times for a valid python comment for multiple lines."
      ],
      "metadata": {
        "id": "1LuGwr0rC-uv"
      }
    },
    {
      "cell_type": "code",
      "source": [
        "\"'\"\n",
        "Python Comment Line - 1\n",
        "Python Comment Line - 2\n",
        "\"'\""
      ],
      "metadata": {
        "id": "xcbtE_sPCiVn"
      },
      "execution_count": null,
      "outputs": []
    },
    {
      "cell_type": "code",
      "source": [
        "# Correct way for multiline comments in Python\n",
        "\"\"\"\n",
        "Python Comment Line - 1\n",
        "Python Comment Line - 2\n",
        "\"\"\""
      ],
      "metadata": {
        "id": "4OAlzK3tEHNI"
      },
      "execution_count": null,
      "outputs": []
    },
    {
      "cell_type": "markdown",
      "source": [
        "**Q2)** Follow the steps below:-\n",
        "1. Create three variables that will store your name, date of birth and height.\n",
        "2. Print the statement that introduces the person based on the input details.\n",
        "\n",
        "**Note:-** No specific format to follow, introduce the user the way you want. Keep the tone as first person."
      ],
      "metadata": {
        "id": "FGB0U7vcERjw"
      }
    },
    {
      "cell_type": "code",
      "source": [
        "# Write your solution here\n",
        "\n",
        "\n"
      ],
      "metadata": {
        "id": "MrofsiQzE4_V"
      },
      "execution_count": null,
      "outputs": []
    },
    {
      "cell_type": "code",
      "source": [
        "# Soln\n",
        "name = input('Enter your name:- ').title() # title will ensure the first letter of each word is capital\n",
        "dob = input('Give your Date of Birth in the format (dd/mm/yyyy):- ')\n",
        "height = input('Give your height in the format (x Ft and y In):- ')\n",
        "print()\n",
        "\n",
        "# Using f-string for this task\n",
        "print(f'Hello, I am {name} and I was born on {dob}. My height is {height}.')"
      ],
      "metadata": {
        "id": "8O-1GuQxE7dL"
      },
      "execution_count": null,
      "outputs": []
    },
    {
      "cell_type": "markdown",
      "source": [
        "**Q3)** Follow the steps:-\n",
        "1. Ask user to input any number of their choice.\n",
        "2. Ask again to input any number of their choice.\n",
        "3. Give them the sum of the two numbers they provided.\n",
        "\n",
        "**Note:-** Give an introduction of what you want from user and what is it all about."
      ],
      "metadata": {
        "id": "Lws0hSeBHZwj"
      }
    },
    {
      "cell_type": "code",
      "source": [
        "# Write your solution here\n",
        "\n",
        "\n",
        "\n"
      ],
      "metadata": {
        "id": "ldjC4rVIJMuX"
      },
      "execution_count": null,
      "outputs": []
    },
    {
      "cell_type": "code",
      "source": [
        "# Introduce user to the interface\n",
        "print('Give me two numbers, and I will find its sum for you...')\n",
        "print()\n",
        "\n",
        "# Take user inputs\n",
        "num1 = float(input('Choose any number of your choice:- '))\n",
        "num2 = float(input('Choose another number of your choice:- '))\n",
        "\n",
        "print()\n",
        "\n",
        "# Output will display the following content - Note we used ''' ''' for multiline in print\n",
        "print(f'''You provided {num1} and {num2} as two inputs.\n",
        "Here is the sum of these two numbers:- {num1} + {num2} = {num1+num2}''')\n"
      ],
      "metadata": {
        "id": "mZy_XwmxIFrh"
      },
      "execution_count": null,
      "outputs": []
    },
    {
      "cell_type": "markdown",
      "source": [
        "**Q4)** Print `True` or `False` based on if the user input numbers in Q3 are divisible by each other.\n",
        "* Basically, check if the first number given by the user is divisible by the second number or not\n",
        "* You are not supposed to use `if-else` statements"
      ],
      "metadata": {
        "id": "lmzABpwAJThs"
      }
    },
    {
      "cell_type": "code",
      "source": [
        "# Write your code here\n"
      ],
      "metadata": {
        "id": "JN__p0y3KXcA"
      },
      "execution_count": null,
      "outputs": []
    },
    {
      "cell_type": "code",
      "source": [
        "# Soln\n",
        "print(num1%num2==0)"
      ],
      "metadata": {
        "id": "IiNmCdAmKEtp"
      },
      "execution_count": null,
      "outputs": []
    },
    {
      "cell_type": "markdown",
      "source": [
        "**Q5)** How many errors can you spot?\n",
        "\n",
        "```\n",
        "var1 = '2.3'\n",
        "Print(This is not a valid code)\n",
        "```\n",
        "\n",
        "Give reason to your answer.\n"
      ],
      "metadata": {
        "id": "KVgoSolIKxn9"
      }
    },
    {
      "cell_type": "markdown",
      "source": [
        "**A5)** Below are the mistakes in the code above:-\n",
        "1. `Print()` isn't the correct command in Python. It should be `print()`.\n",
        "2. The input of the print is wihtout quotation and the input isn't predefined hence it is an error."
      ],
      "metadata": {
        "id": "dQLJzYbPLBHH"
      }
    },
    {
      "cell_type": "code",
      "source": [
        "var1 = '2.3'\n",
        "Print(This is not a valid code)"
      ],
      "metadata": {
        "id": "L3E6caC5LAyy"
      },
      "execution_count": null,
      "outputs": []
    },
    {
      "cell_type": "code",
      "source": [
        "# The correct code would be\n",
        "var1 = '2.3' # unused variable in the code cell\n",
        "print('This is not a valid code') # fixed code"
      ],
      "metadata": {
        "id": "WXp6TI7cLUae"
      },
      "execution_count": null,
      "outputs": []
    },
    {
      "cell_type": "markdown",
      "source": [
        "---\n",
        "\n",
        "## In this notebook we covered\n",
        "1. Python comments\n",
        "2. Strings\n",
        "3. Variables\n",
        "4. f-Strings\n",
        "5. Numeric Data Type\n",
        "6. Data Type Conversions\n",
        "7. Boolean Data Type and Python Operators\n",
        "8. User Input\n",
        "9. Common String Operations\n",
        "10. Practice Questions - Try Yourself\n"
      ],
      "metadata": {
        "id": "2RMvyyl5zYLH"
      }
    }
  ]
}