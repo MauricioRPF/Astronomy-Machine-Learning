{
  "cells": [
    {
      "cell_type": "markdown",
      "metadata": {
        "id": "oHb8SKYBpr0e"
      },
      "source": [
        "## <center> Cap 01.01 | Python - I\n",
        "\n",
        "---"
      ]
    },
    {
      "cell_type": "markdown",
      "metadata": {
        "id": "N4VAZhiZqq-f"
      },
      "source": [
        "### 1. Python Comments"
      ]
    },
    {
      "cell_type": "code",
      "execution_count": null,
      "metadata": {
        "id": "GCV9cUOkpx6d"
      },
      "outputs": [],
      "source": [
        "# This is Python Comment - Used to describe the code"
      ]
    },
    {
      "cell_type": "code",
      "execution_count": null,
      "metadata": {
        "colab": {
          "base_uri": "https://localhost:8080/",
          "height": 35
        },
        "id": "7tujCLUxqJ2Q",
        "outputId": "85ce74ce-9808-44dd-ba42-408775e42316"
      },
      "outputs": [
        {
          "data": {
            "application/vnd.google.colaboratory.intrinsic+json": {
              "type": "string"
            },
            "text/plain": [
              "'\\nThis is multi-line comment in Python\\nYou can use this to describe multiple things at the same time about the code\\n'"
            ]
          },
          "execution_count": 6,
          "metadata": {},
          "output_type": "execute_result"
        }
      ],
      "source": [
        "'''\n",
        "This is multi-line comment in Python\n",
        "You can use this to describe multiple things at the same time about the code\n",
        "'''"
      ]
    },
    {
      "cell_type": "code",
      "execution_count": null,
      "metadata": {
        "id": "Dn5Jx98fuU5R"
      },
      "outputs": [],
      "source": [
        "# You can highlight the code and press ctrl + / to comment full code!\n",
        "# Here is the example.\n",
        "# Select the full code\n",
        "# Now press ctrl + / and see the magic"
      ]
    },
    {
      "cell_type": "markdown",
      "metadata": {
        "id": "Twx12Cn-qwlX"
      },
      "source": [
        "### 2. Strings"
      ]
    },
    {
      "cell_type": "code",
      "execution_count": null,
      "metadata": {
        "colab": {
          "base_uri": "https://localhost:8080/",
          "height": 35
        },
        "id": "ExBtNa3_qRE-",
        "outputId": "3b145bb3-ccc9-4f59-99ad-ad964968314f"
      },
      "outputs": [
        {
          "data": {
            "application/vnd.google.colaboratory.intrinsic+json": {
              "type": "string"
            },
            "text/plain": [
              "'This is a string # 45645489496'"
            ]
          },
          "execution_count": 10,
          "metadata": {},
          "output_type": "execute_result"
        }
      ],
      "source": [
        "# Strings - When you encapsulate a thing within quotations (single, double, tripple) are expresed as string\n",
        "'This is a string # 45645489496'"
      ]
    },
    {
      "cell_type": "code",
      "execution_count": null,
      "metadata": {
        "colab": {
          "base_uri": "https://localhost:8080/"
        },
        "id": "79HyFw5-rOc2",
        "outputId": "46874591-7dec-49db-b326-25fc9bf2f8f8"
      },
      "outputs": [
        {
          "data": {
            "text/plain": [
              "str"
            ]
          },
          "execution_count": 11,
          "metadata": {},
          "output_type": "execute_result"
        }
      ],
      "source": [
        "# Use type() command in Python to check the data type\n",
        "type('This is a string # 45645489496')"
      ]
    },
    {
      "cell_type": "code",
      "execution_count": null,
      "metadata": {
        "colab": {
          "base_uri": "https://localhost:8080/"
        },
        "id": "Tau5luZmtV97",
        "outputId": "38102af7-a261-4a76-ad05-91e90bdaba5b"
      },
      "outputs": [
        {
          "name": "stdout",
          "output_type": "stream",
          "text": [
            "This is a string # 45645489496\n"
          ]
        }
      ],
      "source": [
        "# Use print() command to print Hello World!\n",
        "print('This is a string # 45645489496')"
      ]
    },
    {
      "cell_type": "code",
      "execution_count": null,
      "metadata": {
        "colab": {
          "base_uri": "https://localhost:8080/"
        },
        "id": "MluSvg7mta6X",
        "outputId": "d0408e18-3b71-4b52-c953-01a11b3e0ff6"
      },
      "outputs": [
        {
          "name": "stdout",
          "output_type": "stream",
          "text": [
            "\n",
            "You might notice that we didn't use print command in previous code cells, yet it was printing it\n",
            "Now, that's how this colab notebook works!\n",
            "- Just note that it prints without print statement only for the last code line in your code cell\n",
            "- If you have multiple lines of code, it won't print data if it is not the last line\n",
            "\n",
            "This will be printed nowThe above line won't be printed. Use print() command on it to print that as well!\n"
          ]
        }
      ],
      "source": [
        "# By the way the comment below is also a string! It can be used for multi-line comments as explained above\n",
        "print('''\n",
        "You might notice that we didn't use print command in previous code cells, yet it was printing it\n",
        "Now, that's how this colab notebook works!\n",
        "- Just note that it prints without print statement only for the last code line in your code cell\n",
        "- If you have multiple lines of code, it won't print data if it is not the last line\n",
        "''')\n",
        "\n",
        "# Check the code below\n",
        "print('This will be printed now'\n",
        "\"The above line won't be printed. Use print() command on it to print that as well!\")"
      ]
    },
    {
      "cell_type": "code",
      "execution_count": null,
      "metadata": {
        "colab": {
          "base_uri": "https://localhost:8080/",
          "height": 176
        },
        "id": "lDkRVmUmq1Il",
        "outputId": "ae60b5ef-e1e1-4514-ca19-c27cb14beb54"
      },
      "outputs": [
        {
          "ename": "NameError",
          "evalue": "name 'demo_string' is not defined",
          "output_type": "error",
          "traceback": [
            "\u001b[0;31m---------------------------------------------------------------------------\u001b[0m",
            "\u001b[0;31mNameError\u001b[0m                                 Traceback (most recent call last)",
            "\u001b[0;32m<ipython-input-1-0f01c9cfbf47>\u001b[0m in \u001b[0;36m<cell line: 6>\u001b[0;34m()\u001b[0m\n\u001b[1;32m      4\u001b[0m \u001b[0;34m-\u001b[0m \u001b[0mAs\u001b[0m \u001b[0mwe\u001b[0m \u001b[0mhaven\u001b[0m\u001b[0;31m'\u001b[0m\u001b[0mt\u001b[0m \u001b[0mdefined\u001b[0m \u001b[0msuch\u001b[0m \u001b[0ma\u001b[0m \u001b[0mthing\u001b[0m \u001b[0myet\u001b[0m\u001b[0;34m,\u001b[0m \u001b[0mit\u001b[0m \u001b[0mshall\u001b[0m \u001b[0;32mraise\u001b[0m \u001b[0mthe\u001b[0m \u001b[0merror\u001b[0m\u001b[0;34m\u001b[0m\u001b[0;34m\u001b[0m\u001b[0m\n\u001b[1;32m      5\u001b[0m \"\"\"\n\u001b[0;32m----> 6\u001b[0;31m \u001b[0mdemo_string\u001b[0m\u001b[0;34m\u001b[0m\u001b[0;34m\u001b[0m\u001b[0m\n\u001b[0m",
            "\u001b[0;31mNameError\u001b[0m: name 'demo_string' is not defined"
          ]
        }
      ],
      "source": [
        "\"\"\"\n",
        "Check what happens if you write the text without quotation marks\n",
        "- It shall raise a NameError as Python recgonize text without quotation marks as variables/constants\n",
        "- As we haven't defined such a thing yet, it shall raise the error\n",
        "\"\"\"\n",
        "demo_string"
      ]
    },
    {
      "cell_type": "markdown",
      "metadata": {
        "id": "C0VbSqTvrMKm"
      },
      "source": [
        "### 3. Variables and Constants"
      ]
    },
    {
      "cell_type": "code",
      "execution_count": null,
      "metadata": {
        "id": "RerJwZGmr6A1"
      },
      "outputs": [],
      "source": [
        "# Variables can store different data types. Let's store a string in a variable called demo_string\n",
        "demo_string = 'some text'"
      ]
    },
    {
      "cell_type": "code",
      "execution_count": null,
      "metadata": {
        "colab": {
          "base_uri": "https://localhost:8080/",
          "height": 35
        },
        "id": "JGAHTyvasPBa",
        "outputId": "52405352-4a5e-4eec-af59-b672325420cc"
      },
      "outputs": [
        {
          "data": {
            "application/vnd.google.colaboratory.intrinsic+json": {
              "type": "string"
            },
            "text/plain": [
              "'some text'"
            ]
          },
          "execution_count": 3,
          "metadata": {},
          "output_type": "execute_result"
        }
      ],
      "source": [
        "# Now demo_string variable can be written without quotation mark as we have defined what it means\n",
        "demo_string"
      ]
    },
    {
      "cell_type": "code",
      "execution_count": null,
      "metadata": {
        "colab": {
          "base_uri": "https://localhost:8080/",
          "height": 35
        },
        "id": "ummI6indKD_a",
        "outputId": "ca0df32f-154f-440e-f4e1-80739d7f1e5e"
      },
      "outputs": [
        {
          "data": {
            "application/vnd.google.colaboratory.intrinsic+json": {
              "type": "string"
            },
            "text/plain": [
              "'this is a new value assigned to demo_string variable'"
            ]
          },
          "execution_count": 6,
          "metadata": {},
          "output_type": "execute_result"
        }
      ],
      "source": [
        "demo_string = 'this is a new value assigned to demo_string variable'\n",
        "demo_string"
      ]
    },
    {
      "cell_type": "code",
      "execution_count": null,
      "metadata": {
        "id": "FqzOzmwEs0T-"
      },
      "outputs": [],
      "source": [
        "# Constant are defined in upper case letters. This indicates that this value doesn't change anywhere in code\n",
        "CONST_STR = 'This string will never change'"
      ]
    },
    {
      "cell_type": "markdown",
      "metadata": {
        "id": "9VuLyuOUtMxI"
      },
      "source": [
        "#### 4. f-String"
      ]
    },
    {
      "cell_type": "code",
      "execution_count": null,
      "metadata": {
        "id": "8CxV3I-ptKdS"
      },
      "outputs": [],
      "source": [
        "# We use f-string to print a variable that can take multiple values! Check the example below"
      ]
    },
    {
      "cell_type": "code",
      "execution_count": null,
      "metadata": {
        "id": "59YZvy0jvCI0"
      },
      "outputs": [],
      "source": [
        "# Define a variable that stores the information about moons count of Saturn\n",
        "saturn_moons = 149"
      ]
    },
    {
      "cell_type": "code",
      "execution_count": null,
      "metadata": {
        "colab": {
          "base_uri": "https://localhost:8080/"
        },
        "id": "2bfAYZPavWkI",
        "outputId": "31fe9afc-20f3-4c6b-f1cf-fcdc19a55166"
      },
      "outputs": [
        {
          "name": "stdout",
          "output_type": "stream",
          "text": [
            "Saturn has 146 Moons\n"
          ]
        }
      ],
      "source": [
        "# Print the statement displaying the count of moons of Saturn\n",
        "print('Saturn has 146 Moons') # If saturn's moons count increases in future, we manually have to change this value"
      ]
    },
    {
      "cell_type": "code",
      "execution_count": null,
      "metadata": {
        "colab": {
          "base_uri": "https://localhost:8080/"
        },
        "id": "glFJqcr5vXrB",
        "outputId": "83b153dd-a33e-425c-e15f-79500e1b847e"
      },
      "outputs": [
        {
          "name": "stdout",
          "output_type": "stream",
          "text": [
            "Saturn has 146 Moons\n"
          ]
        }
      ],
      "source": [
        "# f-string method to dyanamically change the value based on the varibale!\n",
        "saturn_moons = 146\n",
        "print(f'Saturn has {saturn_moons} Moons')"
      ]
    },
    {
      "cell_type": "markdown",
      "metadata": {
        "id": "gI1ka9_yv_mH"
      },
      "source": [
        "### 5. Numeric Data Types"
      ]
    },
    {
      "cell_type": "code",
      "execution_count": 17,
      "metadata": {
        "id": "BnAzeGkrwBHu"
      },
      "outputs": [],
      "source": [
        "# Create bunch of variables and store numeric data in them\n",
        "var1 = 8    # int\n",
        "var2 = 8.0  # float\n",
        "var3 = 16/2 # float\n",
        "var4 = 123  # int\n",
        "var5 = 123.5 #float"
      ]
    },
    {
      "cell_type": "code",
      "execution_count": 18,
      "metadata": {
        "colab": {
          "base_uri": "https://localhost:8080/"
        },
        "id": "DUxaQQmVwJB1",
        "outputId": "bbfc848c-ee2a-41ec-9460-913a369f928c"
      },
      "outputs": [
        {
          "name": "stdout",
          "output_type": "stream",
          "text": [
            "<class 'int'>\n",
            "<class 'float'>\n",
            "<class 'float'>\n",
            "<class 'int'>\n",
            "<class 'float'>\n"
          ]
        }
      ],
      "source": [
        "# Check the type for each and every variables above\n",
        "print(type(var1))\n",
        "print(type(var2))\n",
        "print(type(var3))\n",
        "print(type(var4))\n",
        "print(type(var5))"
      ]
    },
    {
      "cell_type": "code",
      "execution_count": 19,
      "metadata": {
        "colab": {
          "base_uri": "https://localhost:8080/"
        },
        "id": "kWGZikLfNa_R",
        "outputId": "4e4d163f-e205-4283-bdaa-53f6d84cd50f"
      },
      "outputs": [
        {
          "data": {
            "text/plain": [
              "8.0"
            ]
          },
          "execution_count": 19,
          "metadata": {},
          "output_type": "execute_result"
        }
      ],
      "source": [
        "# experimenting with 16/2\n",
        "16/2"
      ]
    },
    {
      "cell_type": "markdown",
      "metadata": {
        "id": "LVxzCfI2wsYM"
      },
      "source": [
        "### 6. Data Type Conversions"
      ]
    },
    {
      "cell_type": "code",
      "execution_count": 20,
      "metadata": {
        "colab": {
          "base_uri": "https://localhost:8080/"
        },
        "id": "QBReoNGFwumU",
        "outputId": "86ec8f2d-7da8-41a3-b5d0-a9a1054a59a1"
      },
      "outputs": [
        {
          "name": "stdout",
          "output_type": "stream",
          "text": [
            "3\n",
            "<class 'int'>\n",
            "\n",
            "3\n",
            "<class 'str'>\n"
          ]
        }
      ],
      "source": [
        "# Convert an integer into a string\n",
        "int_data = 3\n",
        "print(int_data)\n",
        "print(type(int_data))\n",
        "\n",
        "print()\n",
        "\n",
        "# Print the data after converting the int data to str type\n",
        "int_to_str_data = str(int_data)\n",
        "print(int_to_str_data)\n",
        "print(type(int_to_str_data))"
      ]
    },
    {
      "cell_type": "code",
      "execution_count": 21,
      "metadata": {
        "colab": {
          "base_uri": "https://localhost:8080/"
        },
        "id": "L-sWDFYMO9jd",
        "outputId": "09b98fd4-0b59-4893-a0ed-3184b96813ed"
      },
      "outputs": [
        {
          "data": {
            "text/plain": [
              "int"
            ]
          },
          "execution_count": 21,
          "metadata": {},
          "output_type": "execute_result"
        }
      ],
      "source": [
        "# Note that int_data have not changed its original data type because it was not overwritten!\n",
        "type(int_data)"
      ]
    },
    {
      "cell_type": "code",
      "execution_count": 22,
      "metadata": {
        "colab": {
          "base_uri": "https://localhost:8080/"
        },
        "id": "1Z75ziJBxTIZ",
        "outputId": "934c66ed-1a39-4347-db7d-1709a2c71919"
      },
      "outputs": [
        {
          "name": "stdout",
          "output_type": "stream",
          "text": [
            "3.0\n",
            "<class 'float'>\n"
          ]
        }
      ],
      "source": [
        "# Convert that same integer data into float\n",
        "int_to_float_data = float(int_data)\n",
        "print(int_to_float_data)\n",
        "print(type(int_to_float_data))"
      ]
    },
    {
      "cell_type": "code",
      "execution_count": 23,
      "metadata": {
        "colab": {
          "base_uri": "https://localhost:8080/"
        },
        "id": "-nk699yjxotC",
        "outputId": "4d7ecd1b-6510-4979-c9da-832daa224fdd"
      },
      "outputs": [
        {
          "name": "stdout",
          "output_type": "stream",
          "text": [
            "3\n",
            "<class 'str'>\n",
            "\n",
            "3.0\n"
          ]
        }
      ],
      "source": [
        "# Convert the string data to float\n",
        "str_data = '3'\n",
        "print(str_data)\n",
        "print(type(str_data))\n",
        "\n",
        "print()\n",
        "\n",
        "str_to_float_data = float(str_data)\n",
        "print(str_to_float_data)"
      ]
    },
    {
      "cell_type": "code",
      "execution_count": 24,
      "metadata": {
        "colab": {
          "base_uri": "https://localhost:8080/",
          "height": 176
        },
        "id": "UikmSVGTyNTV",
        "outputId": "fe30b7ba-cbbc-434d-80ee-45d05c507ec2"
      },
      "outputs": [
        {
          "ename": "ValueError",
          "evalue": "could not convert string to float: 'Non-Numeric String'",
          "output_type": "error",
          "traceback": [
            "\u001b[0;31m---------------------------------------------------------------------------\u001b[0m",
            "\u001b[0;31mValueError\u001b[0m                                Traceback (most recent call last)",
            "\u001b[0;32m<ipython-input-24-4f1b34a710f9>\u001b[0m in \u001b[0;36m<cell line: 3>\u001b[0;34m()\u001b[0m\n\u001b[1;32m      1\u001b[0m \u001b[0;31m# Note that only numeric strings can be converted to numeric data\u001b[0m\u001b[0;34m\u001b[0m\u001b[0;34m\u001b[0m\u001b[0m\n\u001b[1;32m      2\u001b[0m \u001b[0mstr_data\u001b[0m \u001b[0;34m=\u001b[0m \u001b[0;34m'Non-Numeric String'\u001b[0m\u001b[0;34m\u001b[0m\u001b[0;34m\u001b[0m\u001b[0m\n\u001b[0;32m----> 3\u001b[0;31m \u001b[0mstr_to_numeric_data\u001b[0m \u001b[0;34m=\u001b[0m \u001b[0mfloat\u001b[0m\u001b[0;34m(\u001b[0m\u001b[0mstr_data\u001b[0m\u001b[0;34m)\u001b[0m\u001b[0;34m\u001b[0m\u001b[0;34m\u001b[0m\u001b[0m\n\u001b[0m",
            "\u001b[0;31mValueError\u001b[0m: could not convert string to float: 'Non-Numeric String'"
          ]
        }
      ],
      "source": [
        "# Note that only numeric strings can be converted to numeric data\n",
        "str_data = 'Non-Numeric String'\n",
        "str_to_numeric_data = float(str_data)"
      ]
    },
    {
      "cell_type": "code",
      "execution_count": 26,
      "metadata": {
        "colab": {
          "base_uri": "https://localhost:8080/"
        },
        "id": "KhHTxJLxy93c",
        "outputId": "5fa48eef-f432-4ce6-c98d-14803f2107c8"
      },
      "outputs": [
        {
          "name": "stdout",
          "output_type": "stream",
          "text": [
            "3\n"
          ]
        }
      ],
      "source": [
        "# Numeric string with decimals cannot be converted to integers!\n",
        "str_float_data = '3.2'\n",
        "str_to_int_data = int(float(str_float_data))\n",
        "print(str_to_int_data)"
      ]
    },
    {
      "cell_type": "markdown",
      "metadata": {
        "id": "a8kwEaVR3W96"
      },
      "source": [
        "### 7. Boolean Data Type and Python Operators"
      ]
    },
    {
      "cell_type": "code",
      "execution_count": 27,
      "metadata": {
        "colab": {
          "base_uri": "https://localhost:8080/"
        },
        "id": "c4lTvQNX3Zpg",
        "outputId": "d3ab5783-c17a-4f1f-899b-7e42f6641262"
      },
      "outputs": [
        {
          "name": "stdout",
          "output_type": "stream",
          "text": [
            "<class 'bool'>\n",
            "<class 'bool'>\n"
          ]
        }
      ],
      "source": [
        "# Boolean --> True or False\n",
        "print(type(True))\n",
        "print(type(False))"
      ]
    },
    {
      "cell_type": "code",
      "execution_count": 28,
      "metadata": {
        "colab": {
          "base_uri": "https://localhost:8080/"
        },
        "id": "muOUte3w3qPE",
        "outputId": "c6b68e51-e3b4-4f63-bb94-b44cce417806"
      },
      "outputs": [
        {
          "name": "stdout",
          "output_type": "stream",
          "text": [
            "True\n",
            "False\n",
            "True\n",
            "False\n"
          ]
        }
      ],
      "source": [
        "# It is mostly used to check conditions in Python and get a boolean output for the same\n",
        "print(5>2)\n",
        "print(5<2)\n",
        "print(5+1==3+3)   # Equal Condition\n",
        "print(3-2!=1)     # Not Equal Condition"
      ]
    },
    {
      "cell_type": "code",
      "execution_count": 29,
      "metadata": {
        "colab": {
          "base_uri": "https://localhost:8080/"
        },
        "id": "mDI9vx8840hk",
        "outputId": "ec3550d2-fdc3-441c-cb4b-d68c1c4787cd"
      },
      "outputs": [
        {
          "data": {
            "text/plain": [
              "1"
            ]
          },
          "execution_count": 29,
          "metadata": {},
          "output_type": "execute_result"
        }
      ],
      "source": [
        "# Modulo operator\n",
        "3%2 # Gives you the remainder of 3/2"
      ]
    },
    {
      "cell_type": "code",
      "execution_count": 33,
      "metadata": {
        "colab": {
          "base_uri": "https://localhost:8080/"
        },
        "id": "jO8OjRCl5Ivl",
        "outputId": "b5b323b6-6b4f-40bd-be9d-4b7521a59265"
      },
      "outputs": [
        {
          "data": {
            "text/plain": [
              "2.5"
            ]
          },
          "execution_count": 33,
          "metadata": {},
          "output_type": "execute_result"
        }
      ],
      "source": [
        "# Normal Division\n",
        "5/2 # Performs the division operation"
      ]
    },
    {
      "cell_type": "code",
      "execution_count": 34,
      "metadata": {
        "colab": {
          "base_uri": "https://localhost:8080/"
        },
        "id": "6Oi1cvw15CZm",
        "outputId": "d5ce0317-58a9-4d5f-c220-03dc134d1da6"
      },
      "outputs": [
        {
          "data": {
            "text/plain": [
              "2"
            ]
          },
          "execution_count": 34,
          "metadata": {},
          "output_type": "execute_result"
        }
      ],
      "source": [
        "# Floor Division\n",
        "5//2 # Rounds down to integer of 5/2 output"
      ]
    },
    {
      "cell_type": "markdown",
      "metadata": {
        "id": "qZ9C9PpO5U06"
      },
      "source": [
        "### 8. Take User Input"
      ]
    },
    {
      "cell_type": "code",
      "execution_count": 3,
      "metadata": {
        "colab": {
          "base_uri": "https://localhost:8080/",
          "height": 52
        },
        "id": "egCLdPmN5gaB",
        "outputId": "4ca9e4fb-94dd-4ab3-876a-a86b91dbf864"
      },
      "outputs": [
        {
          "name": "stdout",
          "output_type": "stream",
          "text": [
            "Enter your fav number:- 9\n"
          ]
        },
        {
          "data": {
            "application/vnd.google.colaboratory.intrinsic+json": {
              "type": "string"
            },
            "text/plain": [
              "'9'"
            ]
          },
          "execution_count": 3,
          "metadata": {},
          "output_type": "execute_result"
        }
      ],
      "source": [
        "# Using input() method you can ask user to provide some information\n",
        "input(\"Enter your fav number:- \")"
      ]
    },
    {
      "cell_type": "code",
      "execution_count": 4,
      "metadata": {
        "colab": {
          "base_uri": "https://localhost:8080/"
        },
        "id": "y_6051_R54qt",
        "outputId": "1e3a880a-81d2-4cad-8fd5-12121f6f8fbb"
      },
      "outputs": [
        {
          "name": "stdout",
          "output_type": "stream",
          "text": [
            "Enter your fav number:- 9\n"
          ]
        }
      ],
      "source": [
        "# How will take an input from user and convert it to numeric type?\n",
        "num_input = int(input(\"Enter your fav number:- \"))"
      ]
    },
    {
      "cell_type": "code",
      "execution_count": 5,
      "metadata": {
        "colab": {
          "base_uri": "https://localhost:8080/"
        },
        "id": "WucJybPXZlEj",
        "outputId": "3b22521a-9068-43bb-fb0f-a84cf6947af9"
      },
      "outputs": [
        {
          "data": {
            "text/plain": [
              "int"
            ]
          },
          "execution_count": 5,
          "metadata": {},
          "output_type": "execute_result"
        }
      ],
      "source": [
        "type(num_input)"
      ]
    },
    {
      "cell_type": "markdown",
      "metadata": {
        "id": "F56Lw38o6YZ9"
      },
      "source": [
        "### 9. Common String Operations"
      ]
    },
    {
      "cell_type": "code",
      "execution_count": 9,
      "metadata": {
        "colab": {
          "base_uri": "https://localhost:8080/"
        },
        "id": "ZIdUq1vY6Kmi",
        "outputId": "6ecfe05c-93fa-440b-8906-617394c90fc2"
      },
      "outputs": [
        {
          "name": "stdout",
          "output_type": "stream",
          "text": [
            "46\n"
          ]
        }
      ],
      "source": [
        "# Count the length of the string\n",
        "str_ = 'How many charachters are there in this string?'\n",
        "print(len(str_))"
      ]
    },
    {
      "cell_type": "code",
      "execution_count": 11,
      "metadata": {
        "colab": {
          "base_uri": "https://localhost:8080/"
        },
        "id": "KZudSbCG7wpT",
        "outputId": "87b39094-1ab8-4dfb-a880-071c88e52456"
      },
      "outputs": [
        {
          "name": "stdout",
          "output_type": "stream",
          "text": [
            "this is a string\n",
            "This Is A String\n"
          ]
        }
      ],
      "source": [
        "# Change the first letter of every word to upper case\n",
        "str_method_1 = 'this is a string'\n",
        "print(str_method_1)\n",
        "\n",
        "str_method_1 = str_method_1.title()\n",
        "print(str_method_1)"
      ]
    },
    {
      "cell_type": "code",
      "execution_count": 12,
      "metadata": {
        "colab": {
          "base_uri": "https://localhost:8080/"
        },
        "id": "eyU_PWn98l1o",
        "outputId": "706c055f-d750-4f51-d946-4d3aa6a3b1a5"
      },
      "outputs": [
        {
          "name": "stdout",
          "output_type": "stream",
          "text": [
            "THIS IS A STRING\n"
          ]
        }
      ],
      "source": [
        "# Change the string to upper case\n",
        "str_method_2 = str_method_1.upper()\n",
        "print(str_method_2)"
      ]
    },
    {
      "cell_type": "code",
      "execution_count": 14,
      "metadata": {
        "colab": {
          "base_uri": "https://localhost:8080/"
        },
        "id": "z3Cc-wLH8r4O",
        "outputId": "28b9ffd6-3a3b-416b-f1fe-22c93f81f423"
      },
      "outputs": [
        {
          "name": "stdout",
          "output_type": "stream",
          "text": [
            "this is a string\n"
          ]
        }
      ],
      "source": [
        "# Change the string to lower case\n",
        "str_method_3 = str_method_2.lower()\n",
        "print(str_method_3)"
      ]
    },
    {
      "cell_type": "code",
      "execution_count": 22,
      "metadata": {
        "colab": {
          "base_uri": "https://localhost:8080/"
        },
        "id": "rcgwXpUG8zbS",
        "outputId": "83a976db-b019-49e5-d7d3-7a7f4e3a5cde"
      },
      "outputs": [
        {
          "name": "stdout",
          "output_type": "stream",
          "text": [
            "['rohan', 'shah', 'lmao']\n"
          ]
        }
      ],
      "source": [
        "# Split a string\n",
        "string_ = \"rohan@shah@lmao\"\n",
        "str_method_4 = string_.split('@')\n",
        "print(str_method_4)"
      ]
    },
    {
      "cell_type": "code",
      "execution_count": 23,
      "metadata": {
        "colab": {
          "base_uri": "https://localhost:8080/"
        },
        "id": "Pw4GOITQ7jvI",
        "outputId": "062f3404-2d85-4ae4-f4e9-2622d0aa7495"
      },
      "outputs": [
        {
          "name": "stdout",
          "output_type": "stream",
          "text": [
            "Before:-\n",
            "Hello\n",
            "This is the second line\n",
            "\n",
            "After replacing the string:-\n",
            "Hello This is the second line\n"
          ]
        }
      ],
      "source": [
        "# Replace a string\n",
        "\n",
        "# Create a string\n",
        "demo_string = 'Hello\\nThis is the second line'\n",
        "print('Before:-')\n",
        "print(demo_string)\n",
        "\n",
        "print()\n",
        "\n",
        "# Replace \\n with a space\n",
        "demo_string = demo_string.replace(\"\\n\", \" \")\n",
        "print('After replacing the string:-')\n",
        "print(demo_string)"
      ]
    },
    {
      "cell_type": "markdown",
      "metadata": {
        "id": "oeYhZUbe8mkV"
      },
      "source": [
        "<img src='https://cdn.programiz.com/sites/tutorial2program/files/python-list-index.png' width=50%>"
      ]
    },
    {
      "cell_type": "code",
      "execution_count": 25,
      "metadata": {
        "colab": {
          "base_uri": "https://localhost:8080/",
          "height": 35
        },
        "id": "kQqOuxU7enlu",
        "outputId": "61aa7965-65a3-493f-9980-e0d91f27c06f"
      },
      "outputs": [
        {
          "data": {
            "application/vnd.google.colaboratory.intrinsic+json": {
              "type": "string"
            },
            "text/plain": [
              "'b'"
            ]
          },
          "execution_count": 25,
          "metadata": {},
          "output_type": "execute_result"
        }
      ],
      "source": [
        "str_ = 'probe'\n",
        "str_[3]"
      ]
    },
    {
      "cell_type": "code",
      "execution_count": 30,
      "metadata": {
        "colab": {
          "base_uri": "https://localhost:8080/"
        },
        "id": "TbTKQ0Lt8TJY",
        "outputId": "07e4f599-a266-4250-9967-96c73a37d8b6"
      },
      "outputs": [
        {
          "name": "stdout",
          "output_type": "stream",
          "text": [
            "b\n",
            "b\n"
          ]
        }
      ],
      "source": [
        "# Indexing String\n",
        "\n",
        "# Python index starts from index 0 (from the end it starts from -1 - both side indexing is possible)\n",
        "\n",
        "str_ = 'probe'\n",
        "\n",
        "# Grab 'b' from the above string using positive and negative indexing\n",
        "print(str_[3])\n",
        "print(str_[-2])"
      ]
    },
    {
      "cell_type": "code",
      "execution_count": null,
      "metadata": {
        "id": "mLQBKRDM89xw"
      },
      "outputs": [],
      "source": [
        "# Slicing String\n",
        "\n",
        "# Grab 'rob' from the string above\n",
        "# print(str_[1:-1]) # [inclusive_index_value:exclusive_index_value]\n",
        "# print(str_[1:4])\n",
        "\n",
        "# # Grab 'obe' from the string above\n",
        "# print(str_[2:5])\n",
        "# print(str_[2:])"
      ]
    },
    {
      "cell_type": "code",
      "execution_count": 39,
      "metadata": {
        "colab": {
          "base_uri": "https://localhost:8080/"
        },
        "id": "cm9kPfYB9aC_",
        "outputId": "bfecb897-35c4-4012-ff4b-5a86566dc2e2"
      },
      "outputs": [
        {
          "name": "stdout",
          "output_type": "stream",
          "text": [
            "pro\n"
          ]
        }
      ],
      "source": [
        "# Can you grab 'pro' from the above string?\n",
        "print(str_[:3])"
      ]
    },
    {
      "cell_type": "markdown",
      "metadata": {
        "id": "2RMvyyl5zYLH"
      },
      "source": [
        "---\n",
        "\n",
        "## In this notebook we covered\n",
        "1. Python comments\n",
        "2. Strings\n",
        "3. Variables\n",
        "4. f-Strings\n",
        "5. Numeric Data Type\n",
        "6. Data Type Conversions\n",
        "7. Boolean Data Type and Python Operators\n",
        "8. User Input\n",
        "9. Common String Operations\n",
        "\n"
      ]
    }
  ],
  "metadata": {
    "colab": {
      "provenance": []
    },
    "kernelspec": {
      "display_name": "Python 3",
      "name": "python3"
    },
    "language_info": {
      "name": "python"
    }
  },
  "nbformat": 4,
  "nbformat_minor": 0
}
