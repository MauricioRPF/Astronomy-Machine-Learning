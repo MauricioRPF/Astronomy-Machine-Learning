{
  "metadata": {
    "kernelspec": {
      "name": "python3",
      "display_name": "Python 3"
    },
    "language_info": {
      "name": "python",
      "version": "3.7.12",
      "mimetype": "text/x-python",
      "codemirror_mode": {
        "name": "ipython",
        "version": 3
      },
      "pygments_lexer": "ipython3",
      "nbconvert_exporter": "python",
      "file_extension": ".py"
    },
    "colab": {
      "provenance": []
    }
  },
  "nbformat_minor": 5,
  "nbformat": 4,
  "cells": [
    {
      "cell_type": "markdown",
      "source": [
        "# <center> Predicting Star Size | Linear Regression\n",
        "---\n",
        "\n",
        "<center> <img src = 'https://drive.google.com/uc?id=1Wr3rLlNCBU5qjr1s7o1l-O3DjgLDZIJi' width = 100%>\n",
        "\n",
        "---\n",
        "\n",
        "## <center> Linear Regression from Scratch\n",
        "\n",
        "---\n",
        "    \n"
      ],
      "metadata": {
        "id": "5hnR8DNhlCau"
      },
      "id": "5hnR8DNhlCau"
    },
    {
      "cell_type": "markdown",
      "source": [
        "**Recall the following topics before we start today's session:-**        \n",
        "**1)** Supervised Learning - When we train the ML algorithms with labeled data.       \n",
        "**2)** Forward Propagation - Consists of two steps which are computing the predicted output and the cost function.         \n",
        "**3)** Backpropagation - Consists of optimization algorithm which will be used to update the model parameters.         \n",
        "**4)** Training - For each epoch we calculate the loss and then update the model parameters.            \n",
        "**5)** Testing - Using new inputs whose respective outputs if we know, we can check how our model is performing.         \n",
        "\n",
        "    \n",
        "**Python Libraires that we need today:-**           \n",
        "**1)** NumPy       \n",
        "**2)** Matplotlib        \n",
        "**3)** Pandas\n",
        "    \n",
        "                                "
      ],
      "metadata": {
        "id": "38Zzj8-CVsDU"
      },
      "id": "38Zzj8-CVsDU"
    },
    {
      "cell_type": "markdown",
      "source": [
        "## Generating the Data for Linear Regression\n"
      ],
      "metadata": {
        "id": "usi6txxdlCax"
      },
      "id": "usi6txxdlCax"
    },
    {
      "cell_type": "code",
      "source": [
        "# Importing Libraries (numpy and pyplot)\n",
        "import numpy as np\n",
        "import pandas as pd\n",
        "import matplotlib.pyplot as plt"
      ],
      "metadata": {
        "id": "wqogQ0zflCay",
        "execution": {
          "iopub.status.busy": "2022-12-14T11:21:07.677357Z",
          "iopub.execute_input": "2022-12-14T11:21:07.677891Z",
          "iopub.status.idle": "2022-12-14T11:21:07.707082Z",
          "shell.execute_reply.started": "2022-12-14T11:21:07.677771Z",
          "shell.execute_reply": "2022-12-14T11:21:07.706177Z"
        },
        "trusted": true
      },
      "execution_count": null,
      "outputs": [],
      "id": "wqogQ0zflCay"
    },
    {
      "cell_type": "code",
      "source": [
        "# Use seed value of 100 so that everyone gets the same output!\n",
        "np.random.seed(100)\n",
        "\n",
        "# Generating Randomized dataset --> X_train and y_train\n",
        "'''\n",
        "X_train = 3*random numbers between 0 and 1 of shape (100, 1)\n",
        "y_train = 9 + 2*X_train + noise, where noise is a random number between 0 and 1 and its shape is (100, 1)\n",
        "The noise will allow to have some randomness in output instead of it simply being in a straight line\n",
        "\n",
        "Our goal of this session is to train ML model --> Linear Regression to predict the values of 9 and 2 in y_train\n",
        "In reality, we don't have y_train formula. Hence, we make ML model to predict what should be the formula!\n",
        "'''\n",
        "\n",
        "# Preparing data using above comments\n",
        "X_train = 3*np.random.random(size=(100, 1)) # Brightness of 100 stars\n",
        "noise = np.random.random(size=(100, 1))     # Adding noise for randomness in the output of brightness\n",
        "y_train = 2*X_train + 9 + noise             # Prediction equation for Size of the star based on inputs of brightness\n",
        "\n",
        "# Scatter plot --> Figsize is (8,6), Xlabel is brightness, ylabel is Size, add title\n",
        "plt.figure(figsize=(8, 6))\n",
        "plt.scatter(X_train, y_train, color='tab:orange')\n",
        "plt.xlabel('Brightness', color='m')\n",
        "plt.ylabel('Size', color='m')\n",
        "plt.title('Brightness vs. Size of the Stars Data', weight='bold', color='royalblue')\n",
        "plt.show()"
      ],
      "metadata": {
        "id": "8135c1d1",
        "execution": {
          "iopub.status.busy": "2022-12-14T11:21:07.709092Z",
          "iopub.execute_input": "2022-12-14T11:21:07.710336Z",
          "iopub.status.idle": "2022-12-14T11:21:07.991112Z",
          "shell.execute_reply.started": "2022-12-14T11:21:07.710288Z",
          "shell.execute_reply": "2022-12-14T11:21:07.990254Z"
        },
        "trusted": true,
        "colab": {
          "base_uri": "https://localhost:8080/",
          "height": 564
        },
        "outputId": "b131d7de-9bf5-4ba5-ad61-b823a3d50c5c"
      },
      "execution_count": null,
      "outputs": [
        {
          "output_type": "display_data",
          "data": {
            "text/plain": [
              "<Figure size 800x600 with 1 Axes>"
            ],
            "image/png": "[encoded data removed]"
          },
          "metadata": {}
        }
      ],
      "id": "8135c1d1"
    },
    {
      "cell_type": "code",
      "source": [
        "# Print first 5 values in X_train and y_train\n",
        "print('First 5 values in X_train:-')\n",
        "print(X_train[:5])\n",
        "\n",
        "print('\\nFirst 5 values in y_train:-')\n",
        "print(y_train[:5])"
      ],
      "metadata": {
        "id": "EjiGClgOENjn",
        "execution": {
          "iopub.status.busy": "2022-12-14T11:21:07.992361Z",
          "iopub.execute_input": "2022-12-14T11:21:07.993206Z",
          "iopub.status.idle": "2022-12-14T11:21:07.999926Z",
          "shell.execute_reply.started": "2022-12-14T11:21:07.993170Z",
          "shell.execute_reply": "2022-12-14T11:21:07.998527Z"
        },
        "trusted": true,
        "colab": {
          "base_uri": "https://localhost:8080/"
        },
        "outputId": "e6fc820a-91a7-427a-8777-fcdb1cb37094"
      },
      "execution_count": null,
      "outputs": [
        {
          "output_type": "stream",
          "name": "stdout",
          "text": [
            "First 5 values in X_train:-\n",
            "[[1.63021483]\n",
            " [0.83510816]\n",
            " [1.27355277]\n",
            " [2.5343284 ]\n",
            " [0.01415657]]\n",
            "\n",
            "First 5 values in y_train:-\n",
            "[[13.03871887]\n",
            " [11.44981471]\n",
            " [12.1574337 ]\n",
            " [14.37765714]\n",
            " [ 9.72604804]]\n"
          ]
        }
      ],
      "id": "EjiGClgOENjn"
    },
    {
      "cell_type": "code",
      "source": [
        "# Check what happens if you remove the noise! --> Remove noise from the y_train and plot again\n",
        "plt.scatter(X_train, 2*X_train + 9)\n",
        "plt.show()"
      ],
      "metadata": {
        "id": "hB1w0wKew-9p",
        "colab": {
          "base_uri": "https://localhost:8080/",
          "height": 430
        },
        "outputId": "09fa338d-7b46-4110-9ffa-a4af0f8258d7"
      },
      "id": "hB1w0wKew-9p",
      "execution_count": null,
      "outputs": [
        {
          "output_type": "display_data",
          "data": {
            "text/plain": [
              "<Figure size 640x480 with 1 Axes>"
            ],
            "image/png": "[encoded data removed]"
          },
          "metadata": {}
        }
      ]
    },
    {
      "cell_type": "markdown",
      "source": [
        "## Model Parameters and Hyperparameters\n",
        "\n",
        "Remember that instead of using gradient and y-intercept, we will be using the actual model parameters for ML algorithms - Weight and Bias!"
      ],
      "metadata": {
        "id": "C3qy8Ov6lCa0"
      },
      "id": "C3qy8Ov6lCa0"
    },
    {
      "cell_type": "code",
      "source": [
        "# Initialise the weight (W) and bias (b) to 0\n",
        "W = 0\n",
        "b = 0\n",
        "\n",
        "# Hyperparameters --> Choose approproate learning_rate (0.01)\n",
        "learning_rate = 0.01"
      ],
      "metadata": {
        "id": "22397f92",
        "execution": {
          "iopub.status.busy": "2022-12-14T11:21:08.002586Z",
          "iopub.execute_input": "2022-12-14T11:21:08.003031Z",
          "iopub.status.idle": "2022-12-14T11:21:08.012646Z",
          "shell.execute_reply.started": "2022-12-14T11:21:08.002998Z",
          "shell.execute_reply": "2022-12-14T11:21:08.011288Z"
        },
        "trusted": true
      },
      "execution_count": null,
      "outputs": [],
      "id": "22397f92"
    },
    {
      "cell_type": "markdown",
      "source": [
        "<img src = \"https://drive.google.com/uc?id=1mFaXv4XF-_b-jyP_MK2vfgYfB2dVd4RZ\">\n",
        "\n",
        "## Computing equations for the forward propagation"
      ],
      "metadata": {
        "id": "uXi2j5fVlCa1"
      },
      "id": "uXi2j5fVlCa1"
    },
    {
      "cell_type": "code",
      "source": [
        "# Create a function for Predicted Output\n",
        "def predict(X, W, b):\n",
        "    '''\n",
        "    X - Inputs\n",
        "    W - Weight\n",
        "    b - Bias\n",
        "\n",
        "    Returns - Predicted output\n",
        "    '''\n",
        "    return W*X + b\n",
        "\n",
        "# MSE cost function\n",
        "def cost_function(X, y, W, b):\n",
        "    '''\n",
        "    y - target values / true values\n",
        "    Returns - MSE\n",
        "    '''\n",
        "    y_cap = predict(X, W, b)\n",
        "    return np.mean((y - y_cap)**2)"
      ],
      "metadata": {
        "id": "f6643906",
        "execution": {
          "iopub.status.busy": "2022-12-14T11:21:08.026493Z",
          "iopub.execute_input": "2022-12-14T11:21:08.026885Z",
          "iopub.status.idle": "2022-12-14T11:21:08.036996Z",
          "shell.execute_reply.started": "2022-12-14T11:21:08.026844Z",
          "shell.execute_reply": "2022-12-14T11:21:08.035848Z"
        },
        "trusted": true
      },
      "execution_count": null,
      "outputs": [],
      "id": "f6643906"
    },
    {
      "cell_type": "code",
      "source": [
        "# Test the cost_function\n",
        "cost_function(X_train, y_train, W, b)"
      ],
      "metadata": {
        "colab": {
          "base_uri": "https://localhost:8080/"
        },
        "id": "L3wwd4HqzA0-",
        "outputId": "dd0f66e0-2789-4735-a4d4-0b86e2618d72"
      },
      "id": "L3wwd4HqzA0-",
      "execution_count": null,
      "outputs": [
        {
          "output_type": "execute_result",
          "data": {
            "text/plain": [
              "155.64746471475698"
            ]
          },
          "metadata": {},
          "execution_count": 8
        }
      ]
    },
    {
      "cell_type": "markdown",
      "source": [
        "<img src = 'https://drive.google.com/uc?id=1ZlXFrHr4ix4w2ND9e1QMZqaMuplh-PTh'>\n",
        "\n",
        "## Computing equations for the backpropagation\n"
      ],
      "metadata": {
        "id": "1U2-9DjSXbT1"
      },
      "id": "1U2-9DjSXbT1"
    },
    {
      "cell_type": "code",
      "source": [
        "def update_params(X, y, W, b, learning_rate):\n",
        "    '''\n",
        "    This function computes all the equations needed for the backpropagation in Linear Regression\n",
        "    '''\n",
        "\n",
        "    # Calculate the y_cap\n",
        "    y_cap = predict(X, W, b)\n",
        "\n",
        "    # Compute the partial derivatives\n",
        "    dJdW = np.mean(-2 * X * (y - y_cap))\n",
        "    dJdb = np.mean(-2 * (y - y_cap))\n",
        "\n",
        "    # Gradient Descent\n",
        "    W = W - learning_rate * dJdW   # W -= learning_rate * dJdW\n",
        "    b = b - learning_rate * dJdb   #   b -= learning_rate * dJdb\n",
        "\n",
        "    return W, b"
      ],
      "metadata": {
        "id": "ba1cd681",
        "execution": {
          "iopub.status.busy": "2022-12-14T11:21:08.038740Z",
          "iopub.execute_input": "2022-12-14T11:21:08.039166Z",
          "iopub.status.idle": "2022-12-14T11:21:08.049570Z",
          "shell.execute_reply.started": "2022-12-14T11:21:08.039130Z",
          "shell.execute_reply": "2022-12-14T11:21:08.048520Z"
        },
        "trusted": true
      },
      "execution_count": null,
      "outputs": [],
      "id": "ba1cd681"
    },
    {
      "cell_type": "code",
      "source": [
        "# Test the update_params function\n",
        "update_params(X_train, y_train, W, b, learning_rate)"
      ],
      "metadata": {
        "colab": {
          "base_uri": "https://localhost:8080/"
        },
        "id": "xfuSEdu30yTX",
        "outputId": "fe76cb4a-ac29-44ae-ca30-6c4d203c421c"
      },
      "id": "xfuSEdu30yTX",
      "execution_count": null,
      "outputs": [
        {
          "output_type": "execute_result",
          "data": {
            "text/plain": [
              "(0.37996848499034985, 0.2470683141174928)"
            ]
          },
          "metadata": {},
          "execution_count": 10
        }
      ]
    },
    {
      "cell_type": "code",
      "source": [
        "# Epoch by epoch train the linear regression to get the best value for W and b\n",
        "def train(X, y, W, b, learning_rate, tol=1e-13, verbose=False):\n",
        "    '''\n",
        "    This function trains the linear regression epoch by epoch\n",
        "    tol - Threshold for when the training should stop based on convergence\n",
        "    verbose - Display the training if it is set to True\n",
        "    '''\n",
        "\n",
        "    # Empty list for costs, and lists with initital values for weights and biases\n",
        "    costs = []\n",
        "    weights = [W]\n",
        "    biases = [b]\n",
        "\n",
        "    # Counter to track the epochs\n",
        "    ct = 0\n",
        "\n",
        "    # While Loop for Training\n",
        "    while True:\n",
        "\n",
        "      # 1) To Calculate the Predicted value and Cost and store the cost value in costs list\n",
        "      cost = cost_function(X, y, W, b)\n",
        "      costs.append(cost)\n",
        "\n",
        "      # 2) Give the condition to stop the training if the costs are converging correct to 13 dp\n",
        "      if ct >= 1 and abs(costs[-1] - costs[-2]) < tol:\n",
        "        break\n",
        "\n",
        "      # 3) Update the model params\n",
        "      W, b = update_params(X, y, W, b, learning_rate)\n",
        "      weights.append(W)\n",
        "      biases.append(b)\n",
        "\n",
        "      # 4) Display the values of weights, biases and costs after every 100 epochs\n",
        "      if verbose and ((ct+1)%100==0):\n",
        "        print(f'After {ct+1} epochs:- W = {W}, b = {b}, cost = {cost}')\n",
        "\n",
        "      # 5) Update the counter value by 1\n",
        "      ct = ct + 1   # ct += 1\n",
        "\n",
        "    return weights, biases, costs, ct"
      ],
      "metadata": {
        "id": "bf2d8e30",
        "execution": {
          "iopub.status.busy": "2022-12-14T11:21:08.051429Z",
          "iopub.execute_input": "2022-12-14T11:21:08.052106Z",
          "iopub.status.idle": "2022-12-14T11:21:08.065419Z",
          "shell.execute_reply.started": "2022-12-14T11:21:08.052069Z",
          "shell.execute_reply": "2022-12-14T11:21:08.064089Z"
        },
        "trusted": true
      },
      "execution_count": null,
      "outputs": [],
      "id": "bf2d8e30"
    },
    {
      "cell_type": "code",
      "source": [
        "# Train the linear regression model\n",
        "weights, biases, costs, iteration_count = train(X_train, y_train, W, b, learning_rate, verbose=True)"
      ],
      "metadata": {
        "id": "11396b5c",
        "execution": {
          "iopub.status.busy": "2022-12-14T11:21:08.069104Z",
          "iopub.execute_input": "2022-12-14T11:21:08.070125Z",
          "iopub.status.idle": "2022-12-14T11:21:08.386822Z",
          "shell.execute_reply.started": "2022-12-14T11:21:08.070085Z",
          "shell.execute_reply": "2022-12-14T11:21:08.385549Z"
        },
        "trusted": true,
        "colab": {
          "base_uri": "https://localhost:8080/"
        },
        "outputId": "e95775d3-71d7-4c3a-89aa-41931d1a006e"
      },
      "execution_count": null,
      "outputs": [
        {
          "output_type": "stream",
          "name": "stdout",
          "text": [
            "After 100 epochs:- W = 4.3222942048210085, b = 5.327063373770924, cost = 5.059233469917248\n",
            "After 200 epochs:- W = 3.51412009319501, b = 6.7890242662687115, cost = 2.2086697160039885\n",
            "After 300 epochs:- W = 2.9835540281786326, b = 7.743346998568343, cost = 0.9907861469991488\n",
            "After 400 epochs:- W = 2.6367501624690695, b = 8.367135449635883, cost = 0.4704415777246173\n",
            "After 500 epochs:- W = 2.410063191668252, b = 8.77487229347111, cost = 0.24812273077542904\n",
            "After 600 epochs:- W = 2.2618901532412243, b = 9.041387862566092, cost = 0.15313630711057427\n",
            "After 700 epochs:- W = 2.1650374349793493, b = 9.215594706132114, cost = 0.11255306010092578\n",
            "After 800 epochs:- W = 2.101730040231323, b = 9.329464317758527, cost = 0.09521374070874238\n",
            "After 900 epochs:- W = 2.0603494130098348, b = 9.403894737290441, cost = 0.08780546219143534\n",
            "After 1000 epochs:- W = 2.0333011303240744, b = 9.452545885499076, cost = 0.08464025199208187\n",
            "After 1100 epochs:- W = 2.015621127738976, b = 9.484346515361228, cost = 0.0832879060209242\n",
            "After 1200 epochs:- W = 2.0040646642458753, b = 9.505132870809462, cost = 0.0827101119691802\n",
            "After 1300 epochs:- W = 1.9965108277673729, b = 9.51871978951809, cost = 0.08246324765091341\n",
            "After 1400 epochs:- W = 1.9915732925449363, b = 9.527600824986513, cost = 0.08235777409775137\n",
            "After 1500 epochs:- W = 1.9883458922507742, b = 9.533405878559195, cost = 0.08231271019181813\n",
            "After 1600 epochs:- W = 1.9862363148625546, b = 9.537200328778612, cost = 0.08229345649686738\n",
            "After 1700 epochs:- W = 1.9848573979786057, b = 9.539680556099059, cost = 0.08228523029539683\n",
            "After 1800 epochs:- W = 1.9839560744322657, b = 9.541301746839572, cost = 0.08228171562505399\n",
            "After 1900 epochs:- W = 1.9833669278748132, b = 9.542361431730336, cost = 0.08228021397114188\n",
            "After 2000 epochs:- W = 1.982981834566679, b = 9.543054090551815, cost = 0.08227957238480478\n",
            "After 2100 epochs:- W = 1.982730119854794, b = 9.54350684424034, cost = 0.08227929826503293\n",
            "After 2200 epochs:- W = 1.982565587532778, b = 9.543802784891227, cost = 0.08227918114650173\n",
            "After 2300 epochs:- W = 1.98245804163375, b = 9.543996225322687, cost = 0.08227913110724248\n",
            "After 2400 epochs:- W = 1.9823877446838503, b = 9.544122666892669, cost = 0.08227910972781226\n",
            "After 2500 epochs:- W = 1.9823417953616538, b = 9.544205314922872, cost = 0.08227910059338375\n",
            "After 2600 epochs:- W = 1.9823117607696377, b = 9.544259337479666, cost = 0.08227909669067054\n",
            "After 2700 epochs:- W = 1.9822921287778157, b = 9.54429464910942, cost = 0.08227909502322417\n",
            "After 2800 epochs:- W = 1.9822792964043061, b = 9.544317730416015, cost = 0.08227909431080241\n",
            "After 2900 epochs:- W = 1.982270908574315, b = 9.544332817420418, cost = 0.08227909400641797\n",
            "After 3000 epochs:- W = 1.9822654259025423, b = 9.544342678980954, cost = 0.08227909387636884\n",
            "After 3100 epochs:- W = 1.982261842175909, b = 9.544349124950834, cost = 0.08227909382080494\n",
            "After 3200 epochs:- W = 1.9822594996872216, b = 9.544353338333456, cost = 0.08227909379706498\n"
          ]
        }
      ],
      "id": "11396b5c"
    },
    {
      "cell_type": "code",
      "source": [
        "# Comparing initial and final values\n",
        "initial = [weights[0], biases[0], costs[0]]\n",
        "final = [weights[-1], biases[-1], costs[-1]]\n",
        "df = pd.DataFrame(list(zip(initial,final)),\n",
        "                  columns = ['Initial', 'Final'],\n",
        "                  index = ['Weight', 'Bias', 'Cost'])\n",
        "df"
      ],
      "metadata": {
        "id": "d59d388b",
        "execution": {
          "iopub.status.busy": "2022-12-14T11:21:08.388563Z",
          "iopub.execute_input": "2022-12-14T11:21:08.389343Z",
          "iopub.status.idle": "2022-12-14T11:21:08.413569Z",
          "shell.execute_reply.started": "2022-12-14T11:21:08.389294Z",
          "shell.execute_reply": "2022-12-14T11:21:08.412495Z"
        },
        "trusted": true,
        "colab": {
          "base_uri": "https://localhost:8080/",
          "height": 143
        },
        "outputId": "3e8a7f51-f14f-493f-922a-cf9ba78ae58b"
      },
      "execution_count": null,
      "outputs": [
        {
          "output_type": "execute_result",
          "data": {
            "text/plain": [
              "           Initial     Final\n",
              "Weight    0.000000  1.982259\n",
              "Bias      0.000000  9.544355\n",
              "Cost    155.647465  0.082279"
            ],
            "text/html": [
              "\n",
              "  <div id=\"df-d41cf118-5140-471e-a124-89d2d66d4a5c\" class=\"colab-df-container\">\n",
              "    <div>\n",
              "<style scoped>\n",
              "    .dataframe tbody tr th:only-of-type {\n",
              "        vertical-align: middle;\n",
              "    }\n",
              "\n",
              "    .dataframe tbody tr th {\n",
              "        vertical-align: top;\n",
              "    }\n",
              "\n",
              "    .dataframe thead th {\n",
              "        text-align: right;\n",
              "    }\n",
              "</style>\n",
              "<table border=\"1\" class=\"dataframe\">\n",
              "  <thead>\n",
              "    <tr style=\"text-align: right;\">\n",
              "      <th></th>\n",
              "      <th>Initial</th>\n",
              "      <th>Final</th>\n",
              "    </tr>\n",
              "  </thead>\n",
              "  <tbody>\n",
              "    <tr>\n",
              "      <th>Weight</th>\n",
              "      <td>0.000000</td>\n",
              "      <td>1.982259</td>\n",
              "    </tr>\n",
              "    <tr>\n",
              "      <th>Bias</th>\n",
              "      <td>0.000000</td>\n",
              "      <td>9.544355</td>\n",
              "    </tr>\n",
              "    <tr>\n",
              "      <th>Cost</th>\n",
              "      <td>155.647465</td>\n",
              "      <td>0.082279</td>\n",
              "    </tr>\n",
              "  </tbody>\n",
              "</table>\n",
              "</div>\n",
              "    <div class=\"colab-df-buttons\">\n",
              "\n",
              "  <div class=\"colab-df-container\">\n",
              "    <button class=\"colab-df-convert\" onclick=\"convertToInteractive('df-d41cf118-5140-471e-a124-89d2d66d4a5c')\"\n",
              "            title=\"Convert this dataframe to an interactive table.\"\n",
              "            style=\"display:none;\">\n",
              "\n",
              "  <svg xmlns=\"http://www.w3.org/2000/svg\" height=\"24px\" viewBox=\"0 -960 960 960\">\n",
              "    <path d=\"M120-120v-720h720v720H120Zm60-500h600v-160H180v160Zm220 220h160v-160H400v160Zm0 220h160v-160H400v160ZM180-400h160v-160H180v160Zm440 0h160v-160H620v160ZM180-180h160v-160H180v160Zm440 0h160v-160H620v160Z\"/>\n",
              "  </svg>\n",
              "    </button>\n",
              "\n",
              "  <style>\n",
              "    .colab-df-container {\n",
              "      display:flex;\n",
              "      gap: 12px;\n",
              "    }\n",
              "\n",
              "    .colab-df-convert {\n",
              "      background-color: #E8F0FE;\n",
              "      border: none;\n",
              "      border-radius: 50%;\n",
              "      cursor: pointer;\n",
              "      display: none;\n",
              "      fill: #1967D2;\n",
              "      height: 32px;\n",
              "      padding: 0 0 0 0;\n",
              "      width: 32px;\n",
              "    }\n",
              "\n",
              "    .colab-df-convert:hover {\n",
              "      background-color: #E2EBFA;\n",
              "      box-shadow: 0px 1px 2px rgba(60, 64, 67, 0.3), 0px 1px 3px 1px rgba(60, 64, 67, 0.15);\n",
              "      fill: #174EA6;\n",
              "    }\n",
              "\n",
              "    .colab-df-buttons div {\n",
              "      margin-bottom: 4px;\n",
              "    }\n",
              "\n",
              "    [theme=dark] .colab-df-convert {\n",
              "      background-color: #3B4455;\n",
              "      fill: #D2E3FC;\n",
              "    }\n",
              "\n",
              "    [theme=dark] .colab-df-convert:hover {\n",
              "      background-color: #434B5C;\n",
              "      box-shadow: 0px 1px 3px 1px rgba(0, 0, 0, 0.15);\n",
              "      filter: drop-shadow(0px 1px 2px rgba(0, 0, 0, 0.3));\n",
              "      fill: #FFFFFF;\n",
              "    }\n",
              "  </style>\n",
              "\n",
              "    <script>\n",
              "      const buttonEl =\n",
              "        document.querySelector('#df-d41cf118-5140-471e-a124-89d2d66d4a5c button.colab-df-convert');\n",
              "      buttonEl.style.display =\n",
              "        google.colab.kernel.accessAllowed ? 'block' : 'none';\n",
              "\n",
              "      async function convertToInteractive(key) {\n",
              "        const element = document.querySelector('#df-d41cf118-5140-471e-a124-89d2d66d4a5c');\n",
              "        const dataTable =\n",
              "          await google.colab.kernel.invokeFunction('convertToInteractive',\n",
              "                                                    [key], {});\n",
              "        if (!dataTable) return;\n",
              "\n",
              "        const docLinkHtml = 'Like what you see? Visit the ' +\n",
              "          '<a target=\"_blank\" href=https://colab.research.google.com/notebooks/data_table.ipynb>data table notebook</a>'\n",
              "          + ' to learn more about interactive tables.';\n",
              "        element.innerHTML = '';\n",
              "        dataTable['output_type'] = 'display_data';\n",
              "        await google.colab.output.renderOutput(dataTable, element);\n",
              "        const docLink = document.createElement('div');\n",
              "        docLink.innerHTML = docLinkHtml;\n",
              "        element.appendChild(docLink);\n",
              "      }\n",
              "    </script>\n",
              "  </div>\n",
              "\n",
              "\n",
              "<div id=\"df-45abdc67-e6b5-414a-a29c-0518c3b58d4d\">\n",
              "  <button class=\"colab-df-quickchart\" onclick=\"quickchart('df-45abdc67-e6b5-414a-a29c-0518c3b58d4d')\"\n",
              "            title=\"Suggest charts\"\n",
              "            style=\"display:none;\">\n",
              "\n",
              "<svg xmlns=\"http://www.w3.org/2000/svg\" height=\"24px\"viewBox=\"0 0 24 24\"\n",
              "     width=\"24px\">\n",
              "    <g>\n",
              "        <path d=\"M19 3H5c-1.1 0-2 .9-2 2v14c0 1.1.9 2 2 2h14c1.1 0 2-.9 2-2V5c0-1.1-.9-2-2-2zM9 17H7v-7h2v7zm4 0h-2V7h2v10zm4 0h-2v-4h2v4z\"/>\n",
              "    </g>\n",
              "</svg>\n",
              "  </button>\n",
              "\n",
              "<style>\n",
              "  .colab-df-quickchart {\n",
              "      --bg-color: #E8F0FE;\n",
              "      --fill-color: #1967D2;\n",
              "      --hover-bg-color: #E2EBFA;\n",
              "      --hover-fill-color: #174EA6;\n",
              "      --disabled-fill-color: #AAA;\n",
              "      --disabled-bg-color: #DDD;\n",
              "  }\n",
              "\n",
              "  [theme=dark] .colab-df-quickchart {\n",
              "      --bg-color: #3B4455;\n",
              "      --fill-color: #D2E3FC;\n",
              "      --hover-bg-color: #434B5C;\n",
              "      --hover-fill-color: #FFFFFF;\n",
              "      --disabled-bg-color: #3B4455;\n",
              "      --disabled-fill-color: #666;\n",
              "  }\n",
              "\n",
              "  .colab-df-quickchart {\n",
              "    background-color: var(--bg-color);\n",
              "    border: none;\n",
              "    border-radius: 50%;\n",
              "    cursor: pointer;\n",
              "    display: none;\n",
              "    fill: var(--fill-color);\n",
              "    height: 32px;\n",
              "    padding: 0;\n",
              "    width: 32px;\n",
              "  }\n",
              "\n",
              "  .colab-df-quickchart:hover {\n",
              "    background-color: var(--hover-bg-color);\n",
              "    box-shadow: 0 1px 2px rgba(60, 64, 67, 0.3), 0 1px 3px 1px rgba(60, 64, 67, 0.15);\n",
              "    fill: var(--button-hover-fill-color);\n",
              "  }\n",
              "\n",
              "  .colab-df-quickchart-complete:disabled,\n",
              "  .colab-df-quickchart-complete:disabled:hover {\n",
              "    background-color: var(--disabled-bg-color);\n",
              "    fill: var(--disabled-fill-color);\n",
              "    box-shadow: none;\n",
              "  }\n",
              "\n",
              "  .colab-df-spinner {\n",
              "    border: 2px solid var(--fill-color);\n",
              "    border-color: transparent;\n",
              "    border-bottom-color: var(--fill-color);\n",
              "    animation:\n",
              "      spin 1s steps(1) infinite;\n",
              "  }\n",
              "\n",
              "  @keyframes spin {\n",
              "    0% {\n",
              "      border-color: transparent;\n",
              "      border-bottom-color: var(--fill-color);\n",
              "      border-left-color: var(--fill-color);\n",
              "    }\n",
              "    20% {\n",
              "      border-color: transparent;\n",
              "      border-left-color: var(--fill-color);\n",
              "      border-top-color: var(--fill-color);\n",
              "    }\n",
              "    30% {\n",
              "      border-color: transparent;\n",
              "      border-left-color: var(--fill-color);\n",
              "      border-top-color: var(--fill-color);\n",
              "      border-right-color: var(--fill-color);\n",
              "    }\n",
              "    40% {\n",
              "      border-color: transparent;\n",
              "      border-right-color: var(--fill-color);\n",
              "      border-top-color: var(--fill-color);\n",
              "    }\n",
              "    60% {\n",
              "      border-color: transparent;\n",
              "      border-right-color: var(--fill-color);\n",
              "    }\n",
              "    80% {\n",
              "      border-color: transparent;\n",
              "      border-right-color: var(--fill-color);\n",
              "      border-bottom-color: var(--fill-color);\n",
              "    }\n",
              "    90% {\n",
              "      border-color: transparent;\n",
              "      border-bottom-color: var(--fill-color);\n",
              "    }\n",
              "  }\n",
              "</style>\n",
              "\n",
              "  <script>\n",
              "    async function quickchart(key) {\n",
              "      const quickchartButtonEl =\n",
              "        document.querySelector('#' + key + ' button');\n",
              "      quickchartButtonEl.disabled = true;  // To prevent multiple clicks.\n",
              "      quickchartButtonEl.classList.add('colab-df-spinner');\n",
              "      try {\n",
              "        const charts = await google.colab.kernel.invokeFunction(\n",
              "            'suggestCharts', [key], {});\n",
              "      } catch (error) {\n",
              "        console.error('Error during call to suggestCharts:', error);\n",
              "      }\n",
              "      quickchartButtonEl.classList.remove('colab-df-spinner');\n",
              "      quickchartButtonEl.classList.add('colab-df-quickchart-complete');\n",
              "    }\n",
              "    (() => {\n",
              "      let quickchartButtonEl =\n",
              "        document.querySelector('#df-45abdc67-e6b5-414a-a29c-0518c3b58d4d button');\n",
              "      quickchartButtonEl.style.display =\n",
              "        google.colab.kernel.accessAllowed ? 'block' : 'none';\n",
              "    })();\n",
              "  </script>\n",
              "</div>\n",
              "    </div>\n",
              "  </div>\n"
            ],
            "application/vnd.google.colaboratory.intrinsic+json": {
              "type": "dataframe",
              "variable_name": "df",
              "summary": "{\n  \"name\": \"df\",\n  \"rows\": 3,\n  \"fields\": [\n    {\n      \"column\": \"Initial\",\n      \"properties\": {\n        \"dtype\": \"number\",\n        \"std\": 89.86310565174772,\n        \"min\": 0.0,\n        \"max\": 155.64746471475698,\n        \"num_unique_values\": 2,\n        \"samples\": [\n          155.64746471475698,\n          0.0\n        ],\n        \"semantic_type\": \"\",\n        \"description\": \"\"\n      }\n    },\n    {\n      \"column\": \"Final\",\n      \"properties\": {\n        \"dtype\": \"number\",\n        \"std\": 5.0054319993379,\n        \"min\": 0.08227909379103014,\n        \"max\": 9.544354806288116,\n        \"num_unique_values\": 3,\n        \"samples\": [\n          1.9822586835574079,\n          9.544354806288116\n        ],\n        \"semantic_type\": \"\",\n        \"description\": \"\"\n      }\n    }\n  ]\n}"
            }
          },
          "metadata": {},
          "execution_count": 19
        }
      ],
      "id": "d59d388b"
    },
    {
      "cell_type": "code",
      "source": [
        "# Visualising the cost wrt epochs\n",
        "plt.figure(figsize=(10, 4))\n",
        "plt.plot(costs, color='m')\n",
        "plt.xlabel('Epochs', color='blue')\n",
        "plt.ylabel('Costs', color='blue')\n",
        "plt.title('Costs vs Epochs', weight='bold', color='maroon')\n",
        "plt.show()"
      ],
      "metadata": {
        "id": "7384e581",
        "execution": {
          "iopub.status.busy": "2022-12-14T11:21:08.415184Z",
          "iopub.execute_input": "2022-12-14T11:21:08.415673Z",
          "iopub.status.idle": "2022-12-14T11:21:08.591299Z",
          "shell.execute_reply.started": "2022-12-14T11:21:08.415627Z",
          "shell.execute_reply": "2022-12-14T11:21:08.590040Z"
        },
        "trusted": true,
        "colab": {
          "base_uri": "https://localhost:8080/",
          "height": 410
        },
        "outputId": "e3fb2240-8872-423f-c173-0273167cc6bf"
      },
      "execution_count": null,
      "outputs": [
        {
          "output_type": "display_data",
          "data": {
            "text/plain": [
              "<Figure size 1000x400 with 1 Axes>"
            ],
            "image/png": "[encoded data removed]"
          },
          "metadata": {}
        }
      ],
      "id": "7384e581"
    },
    {
      "cell_type": "code",
      "source": [
        "# Define a seed value (using different seed value compared to trianing set to avoid data leakage!) --> 5007\n",
        "np.random.seed(5007)  # This number was choose to get the optimal results with random values\n",
        "\n",
        "# Test data\n",
        "X_test = 3*np.random.rand(10,1)\n",
        "y_test = 9 + 2*X_test + np.random.rand(10,1)\n",
        "\n",
        "prediction = predict(X_test, weights[-1], biases[-1])\n",
        "\n",
        "# DataFrame to compare true and predicted outputs on test inputs\n",
        "df1 = pd.DataFrame(list(zip(X_test.reshape(10,), y_test.reshape(10,), prediction.reshape(10,))),\n",
        "                  columns = ['Test Input', 'True Output', 'Predicted Output'])\n",
        "df1"
      ],
      "metadata": {
        "id": "1d03bc56",
        "execution": {
          "iopub.status.busy": "2022-12-14T11:21:08.592750Z",
          "iopub.execute_input": "2022-12-14T11:21:08.593130Z",
          "iopub.status.idle": "2022-12-14T11:21:08.601268Z",
          "shell.execute_reply.started": "2022-12-14T11:21:08.593099Z",
          "shell.execute_reply": "2022-12-14T11:21:08.599852Z"
        },
        "trusted": true,
        "colab": {
          "base_uri": "https://localhost:8080/",
          "height": 363
        },
        "outputId": "6f924c26-058d-4e0c-b60d-b673047c639a"
      },
      "execution_count": null,
      "outputs": [
        {
          "output_type": "execute_result",
          "data": {
            "text/plain": [
              "   Test Input  True Output  Predicted Output\n",
              "0    0.723836    10.889388         10.979186\n",
              "1    1.900129    13.358554         13.310902\n",
              "2    0.126943     9.974414          9.795988\n",
              "3    2.026471    13.566160         13.561344\n",
              "4    2.647429    14.842352         14.792244\n",
              "5    1.238825    12.071978         12.000027\n",
              "6    1.561243    12.881255         12.639142\n",
              "7    2.042729    13.622504         13.593573\n",
              "8    1.230220    12.098017         11.982969\n",
              "9    0.382516    10.325675         10.302601"
            ],
            "text/html": [
              "\n",
              "  <div id=\"df-813f675d-866b-4941-82e1-8b6498e7b7a7\" class=\"colab-df-container\">\n",
              "    <div>\n",
              "<style scoped>\n",
              "    .dataframe tbody tr th:only-of-type {\n",
              "        vertical-align: middle;\n",
              "    }\n",
              "\n",
              "    .dataframe tbody tr th {\n",
              "        vertical-align: top;\n",
              "    }\n",
              "\n",
              "    .dataframe thead th {\n",
              "        text-align: right;\n",
              "    }\n",
              "</style>\n",
              "<table border=\"1\" class=\"dataframe\">\n",
              "  <thead>\n",
              "    <tr style=\"text-align: right;\">\n",
              "      <th></th>\n",
              "      <th>Test Input</th>\n",
              "      <th>True Output</th>\n",
              "      <th>Predicted Output</th>\n",
              "    </tr>\n",
              "  </thead>\n",
              "  <tbody>\n",
              "    <tr>\n",
              "      <th>0</th>\n",
              "      <td>0.723836</td>\n",
              "      <td>10.889388</td>\n",
              "      <td>10.979186</td>\n",
              "    </tr>\n",
              "    <tr>\n",
              "      <th>1</th>\n",
              "      <td>1.900129</td>\n",
              "      <td>13.358554</td>\n",
              "      <td>13.310902</td>\n",
              "    </tr>\n",
              "    <tr>\n",
              "      <th>2</th>\n",
              "      <td>0.126943</td>\n",
              "      <td>9.974414</td>\n",
              "      <td>9.795988</td>\n",
              "    </tr>\n",
              "    <tr>\n",
              "      <th>3</th>\n",
              "      <td>2.026471</td>\n",
              "      <td>13.566160</td>\n",
              "      <td>13.561344</td>\n",
              "    </tr>\n",
              "    <tr>\n",
              "      <th>4</th>\n",
              "      <td>2.647429</td>\n",
              "      <td>14.842352</td>\n",
              "      <td>14.792244</td>\n",
              "    </tr>\n",
              "    <tr>\n",
              "      <th>5</th>\n",
              "      <td>1.238825</td>\n",
              "      <td>12.071978</td>\n",
              "      <td>12.000027</td>\n",
              "    </tr>\n",
              "    <tr>\n",
              "      <th>6</th>\n",
              "      <td>1.561243</td>\n",
              "      <td>12.881255</td>\n",
              "      <td>12.639142</td>\n",
              "    </tr>\n",
              "    <tr>\n",
              "      <th>7</th>\n",
              "      <td>2.042729</td>\n",
              "      <td>13.622504</td>\n",
              "      <td>13.593573</td>\n",
              "    </tr>\n",
              "    <tr>\n",
              "      <th>8</th>\n",
              "      <td>1.230220</td>\n",
              "      <td>12.098017</td>\n",
              "      <td>11.982969</td>\n",
              "    </tr>\n",
              "    <tr>\n",
              "      <th>9</th>\n",
              "      <td>0.382516</td>\n",
              "      <td>10.325675</td>\n",
              "      <td>10.302601</td>\n",
              "    </tr>\n",
              "  </tbody>\n",
              "</table>\n",
              "</div>\n",
              "    <div class=\"colab-df-buttons\">\n",
              "\n",
              "  <div class=\"colab-df-container\">\n",
              "    <button class=\"colab-df-convert\" onclick=\"convertToInteractive('df-813f675d-866b-4941-82e1-8b6498e7b7a7')\"\n",
              "            title=\"Convert this dataframe to an interactive table.\"\n",
              "            style=\"display:none;\">\n",
              "\n",
              "  <svg xmlns=\"http://www.w3.org/2000/svg\" height=\"24px\" viewBox=\"0 -960 960 960\">\n",
              "    <path d=\"M120-120v-720h720v720H120Zm60-500h600v-160H180v160Zm220 220h160v-160H400v160Zm0 220h160v-160H400v160ZM180-400h160v-160H180v160Zm440 0h160v-160H620v160ZM180-180h160v-160H180v160Zm440 0h160v-160H620v160Z\"/>\n",
              "  </svg>\n",
              "    </button>\n",
              "\n",
              "  <style>\n",
              "    .colab-df-container {\n",
              "      display:flex;\n",
              "      gap: 12px;\n",
              "    }\n",
              "\n",
              "    .colab-df-convert {\n",
              "      background-color: #E8F0FE;\n",
              "      border: none;\n",
              "      border-radius: 50%;\n",
              "      cursor: pointer;\n",
              "      display: none;\n",
              "      fill: #1967D2;\n",
              "      height: 32px;\n",
              "      padding: 0 0 0 0;\n",
              "      width: 32px;\n",
              "    }\n",
              "\n",
              "    .colab-df-convert:hover {\n",
              "      background-color: #E2EBFA;\n",
              "      box-shadow: 0px 1px 2px rgba(60, 64, 67, 0.3), 0px 1px 3px 1px rgba(60, 64, 67, 0.15);\n",
              "      fill: #174EA6;\n",
              "    }\n",
              "\n",
              "    .colab-df-buttons div {\n",
              "      margin-bottom: 4px;\n",
              "    }\n",
              "\n",
              "    [theme=dark] .colab-df-convert {\n",
              "      background-color: #3B4455;\n",
              "      fill: #D2E3FC;\n",
              "    }\n",
              "\n",
              "    [theme=dark] .colab-df-convert:hover {\n",
              "      background-color: #434B5C;\n",
              "      box-shadow: 0px 1px 3px 1px rgba(0, 0, 0, 0.15);\n",
              "      filter: drop-shadow(0px 1px 2px rgba(0, 0, 0, 0.3));\n",
              "      fill: #FFFFFF;\n",
              "    }\n",
              "  </style>\n",
              "\n",
              "    <script>\n",
              "      const buttonEl =\n",
              "        document.querySelector('#df-813f675d-866b-4941-82e1-8b6498e7b7a7 button.colab-df-convert');\n",
              "      buttonEl.style.display =\n",
              "        google.colab.kernel.accessAllowed ? 'block' : 'none';\n",
              "\n",
              "      async function convertToInteractive(key) {\n",
              "        const element = document.querySelector('#df-813f675d-866b-4941-82e1-8b6498e7b7a7');\n",
              "        const dataTable =\n",
              "          await google.colab.kernel.invokeFunction('convertToInteractive',\n",
              "                                                    [key], {});\n",
              "        if (!dataTable) return;\n",
              "\n",
              "        const docLinkHtml = 'Like what you see? Visit the ' +\n",
              "          '<a target=\"_blank\" href=https://colab.research.google.com/notebooks/data_table.ipynb>data table notebook</a>'\n",
              "          + ' to learn more about interactive tables.';\n",
              "        element.innerHTML = '';\n",
              "        dataTable['output_type'] = 'display_data';\n",
              "        await google.colab.output.renderOutput(dataTable, element);\n",
              "        const docLink = document.createElement('div');\n",
              "        docLink.innerHTML = docLinkHtml;\n",
              "        element.appendChild(docLink);\n",
              "      }\n",
              "    </script>\n",
              "  </div>\n",
              "\n",
              "\n",
              "<div id=\"df-cfde84b1-8e74-4d8b-a72b-ed6ab7114a60\">\n",
              "  <button class=\"colab-df-quickchart\" onclick=\"quickchart('df-cfde84b1-8e74-4d8b-a72b-ed6ab7114a60')\"\n",
              "            title=\"Suggest charts\"\n",
              "            style=\"display:none;\">\n",
              "\n",
              "<svg xmlns=\"http://www.w3.org/2000/svg\" height=\"24px\"viewBox=\"0 0 24 24\"\n",
              "     width=\"24px\">\n",
              "    <g>\n",
              "        <path d=\"M19 3H5c-1.1 0-2 .9-2 2v14c0 1.1.9 2 2 2h14c1.1 0 2-.9 2-2V5c0-1.1-.9-2-2-2zM9 17H7v-7h2v7zm4 0h-2V7h2v10zm4 0h-2v-4h2v4z\"/>\n",
              "    </g>\n",
              "</svg>\n",
              "  </button>\n",
              "\n",
              "<style>\n",
              "  .colab-df-quickchart {\n",
              "      --bg-color: #E8F0FE;\n",
              "      --fill-color: #1967D2;\n",
              "      --hover-bg-color: #E2EBFA;\n",
              "      --hover-fill-color: #174EA6;\n",
              "      --disabled-fill-color: #AAA;\n",
              "      --disabled-bg-color: #DDD;\n",
              "  }\n",
              "\n",
              "  [theme=dark] .colab-df-quickchart {\n",
              "      --bg-color: #3B4455;\n",
              "      --fill-color: #D2E3FC;\n",
              "      --hover-bg-color: #434B5C;\n",
              "      --hover-fill-color: #FFFFFF;\n",
              "      --disabled-bg-color: #3B4455;\n",
              "      --disabled-fill-color: #666;\n",
              "  }\n",
              "\n",
              "  .colab-df-quickchart {\n",
              "    background-color: var(--bg-color);\n",
              "    border: none;\n",
              "    border-radius: 50%;\n",
              "    cursor: pointer;\n",
              "    display: none;\n",
              "    fill: var(--fill-color);\n",
              "    height: 32px;\n",
              "    padding: 0;\n",
              "    width: 32px;\n",
              "  }\n",
              "\n",
              "  .colab-df-quickchart:hover {\n",
              "    background-color: var(--hover-bg-color);\n",
              "    box-shadow: 0 1px 2px rgba(60, 64, 67, 0.3), 0 1px 3px 1px rgba(60, 64, 67, 0.15);\n",
              "    fill: var(--button-hover-fill-color);\n",
              "  }\n",
              "\n",
              "  .colab-df-quickchart-complete:disabled,\n",
              "  .colab-df-quickchart-complete:disabled:hover {\n",
              "    background-color: var(--disabled-bg-color);\n",
              "    fill: var(--disabled-fill-color);\n",
              "    box-shadow: none;\n",
              "  }\n",
              "\n",
              "  .colab-df-spinner {\n",
              "    border: 2px solid var(--fill-color);\n",
              "    border-color: transparent;\n",
              "    border-bottom-color: var(--fill-color);\n",
              "    animation:\n",
              "      spin 1s steps(1) infinite;\n",
              "  }\n",
              "\n",
              "  @keyframes spin {\n",
              "    0% {\n",
              "      border-color: transparent;\n",
              "      border-bottom-color: var(--fill-color);\n",
              "      border-left-color: var(--fill-color);\n",
              "    }\n",
              "    20% {\n",
              "      border-color: transparent;\n",
              "      border-left-color: var(--fill-color);\n",
              "      border-top-color: var(--fill-color);\n",
              "    }\n",
              "    30% {\n",
              "      border-color: transparent;\n",
              "      border-left-color: var(--fill-color);\n",
              "      border-top-color: var(--fill-color);\n",
              "      border-right-color: var(--fill-color);\n",
              "    }\n",
              "    40% {\n",
              "      border-color: transparent;\n",
              "      border-right-color: var(--fill-color);\n",
              "      border-top-color: var(--fill-color);\n",
              "    }\n",
              "    60% {\n",
              "      border-color: transparent;\n",
              "      border-right-color: var(--fill-color);\n",
              "    }\n",
              "    80% {\n",
              "      border-color: transparent;\n",
              "      border-right-color: var(--fill-color);\n",
              "      border-bottom-color: var(--fill-color);\n",
              "    }\n",
              "    90% {\n",
              "      border-color: transparent;\n",
              "      border-bottom-color: var(--fill-color);\n",
              "    }\n",
              "  }\n",
              "</style>\n",
              "\n",
              "  <script>\n",
              "    async function quickchart(key) {\n",
              "      const quickchartButtonEl =\n",
              "        document.querySelector('#' + key + ' button');\n",
              "      quickchartButtonEl.disabled = true;  // To prevent multiple clicks.\n",
              "      quickchartButtonEl.classList.add('colab-df-spinner');\n",
              "      try {\n",
              "        const charts = await google.colab.kernel.invokeFunction(\n",
              "            'suggestCharts', [key], {});\n",
              "      } catch (error) {\n",
              "        console.error('Error during call to suggestCharts:', error);\n",
              "      }\n",
              "      quickchartButtonEl.classList.remove('colab-df-spinner');\n",
              "      quickchartButtonEl.classList.add('colab-df-quickchart-complete');\n",
              "    }\n",
              "    (() => {\n",
              "      let quickchartButtonEl =\n",
              "        document.querySelector('#df-cfde84b1-8e74-4d8b-a72b-ed6ab7114a60 button');\n",
              "      quickchartButtonEl.style.display =\n",
              "        google.colab.kernel.accessAllowed ? 'block' : 'none';\n",
              "    })();\n",
              "  </script>\n",
              "</div>\n",
              "    </div>\n",
              "  </div>\n"
            ],
            "application/vnd.google.colaboratory.intrinsic+json": {
              "type": "dataframe",
              "variable_name": "df1",
              "summary": "{\n  \"name\": \"df1\",\n  \"rows\": 10,\n  \"fields\": [\n    {\n      \"column\": \"Test Input\",\n      \"properties\": {\n        \"dtype\": \"number\",\n        \"std\": 0.8030697840304065,\n        \"min\": 0.12694282086146402,\n        \"max\": 2.647429217504328,\n        \"num_unique_values\": 10,\n        \"samples\": [\n          1.2302200588085852,\n          1.9001287656565244,\n          1.2388254697490027\n        ],\n        \"semantic_type\": \"\",\n        \"description\": \"\"\n      }\n    },\n    {\n      \"column\": \"True Output\",\n      \"properties\": {\n        \"dtype\": \"number\",\n        \"std\": 1.5854662750571318,\n        \"min\": 9.974413671191092,\n        \"max\": 14.842352456486326,\n        \"num_unique_values\": 10,\n        \"samples\": [\n          12.098017068777105,\n          13.358554192434289,\n          12.071977656552585\n        ],\n        \"semantic_type\": \"\",\n        \"description\": \"\"\n      }\n    },\n    {\n      \"column\": \"Predicted Output\",\n      \"properties\": {\n        \"dtype\": \"number\",\n        \"std\": 1.5918920528968454,\n        \"min\": 9.795988315256025,\n        \"max\": 14.792244361789663,\n        \"num_unique_values\": 10,\n        \"samples\": [\n          11.982969200547938,\n          13.31090155188798,\n          12.00002735111016\n        ],\n        \"semantic_type\": \"\",\n        \"description\": \"\"\n      }\n    }\n  ]\n}"
            }
          },
          "metadata": {},
          "execution_count": 22
        }
      ],
      "id": "1d03bc56"
    },
    {
      "cell_type": "code",
      "source": [
        "# Calculate the mean sqaured error to evaluate the performance\n",
        "mse = np.mean((y_test - prediction)**2)\n",
        "print(f'The Means Squared Error:- {round(mse, 3)} (3dp).')"
      ],
      "metadata": {
        "id": "b1631e94",
        "execution": {
          "iopub.status.busy": "2022-12-14T11:21:08.614239Z",
          "iopub.execute_input": "2022-12-14T11:21:08.614763Z",
          "iopub.status.idle": "2022-12-14T11:21:08.623697Z",
          "shell.execute_reply.started": "2022-12-14T11:21:08.614730Z",
          "shell.execute_reply": "2022-12-14T11:21:08.622599Z"
        },
        "trusted": true,
        "colab": {
          "base_uri": "https://localhost:8080/"
        },
        "outputId": "999fb403-4074-4226-b802-29f56119a7a0"
      },
      "execution_count": null,
      "outputs": [
        {
          "output_type": "stream",
          "name": "stdout",
          "text": [
            "The Means Squared Error:- 0.012 (3dp).\n"
          ]
        }
      ],
      "id": "b1631e94"
    },
    {
      "cell_type": "code",
      "source": [
        "# Visualise the performance of the test data --> (10, 4) figsize, plot(X_test, prediction) and (X_test, y_test)\n",
        "# Customize it\n",
        "plt.figure(figsize = (10,4))\n",
        "plt.plot(X_test, prediction, color=\"k\", linewidth = 0.7)\n",
        "plt.scatter(X_test, y_test, color=\"c\", marker = '*', s = 20, zorder = 2)\n",
        "plt.title(\"Visualisig the performance of the test data\", color = 'red', weight = 'bold')\n",
        "plt.xlabel(\"Test Inputs\", color = 'm', fontsize = 13)\n",
        "plt.ylabel(\"Star Property\", color = 'm', fontsize = 13)\n",
        "plt.legend(['Predicted Linear Regression', 'True Values'], loc='lower right')\n",
        "plt.show()"
      ],
      "metadata": {
        "id": "79de7593",
        "execution": {
          "iopub.status.busy": "2022-12-14T11:21:08.625524Z",
          "iopub.execute_input": "2022-12-14T11:21:08.626114Z",
          "iopub.status.idle": "2022-12-14T11:21:08.818419Z",
          "shell.execute_reply.started": "2022-12-14T11:21:08.626068Z",
          "shell.execute_reply": "2022-12-14T11:21:08.817214Z"
        },
        "trusted": true,
        "colab": {
          "base_uri": "https://localhost:8080/",
          "height": 414
        },
        "outputId": "be487f60-3794-49a7-de18-54de170e46c3"
      },
      "execution_count": null,
      "outputs": [
        {
          "output_type": "display_data",
          "data": {
            "text/plain": [
              "<Figure size 1000x400 with 1 Axes>"
            ],
            "image/png": "[encoded data removed]"
          },
          "metadata": {}
        }
      ],
      "id": "79de7593"
    },
    {
      "cell_type": "markdown",
      "source": [
        "---\n",
        "\n",
        "## <center> Linear Regression using Scikit-Learn library\n",
        "\n",
        "---"
      ],
      "metadata": {
        "id": "wc3pPuthdN3F"
      },
      "id": "wc3pPuthdN3F"
    },
    {
      "cell_type": "markdown",
      "source": [
        "- Linear regression is a foundational algorithm in machine learning.\n",
        "- It is used for predicting a continuous target variable based on one or more input features.\n",
        "- Scikit-learn's `LinearRegression` module provides a straightforward way to implement this technique.\n",
        "- However, it uses Ordinary Least Square Regression to get the line of best fit.\n",
        "\n",
        "Let us compare our Gradient Descent method with sklearn's Ordinary Least Square Regression method...\n"
      ],
      "metadata": {
        "id": "QC-1e2a-xebA"
      },
      "id": "QC-1e2a-xebA"
    },
    {
      "cell_type": "markdown",
      "source": [
        "#### Step 1: Input Data\n",
        "\n",
        "**Gather your data:-**\n",
        "- You need a dataset with input features (independent variables) and corresponding target values (dependent variable).\n",
        "- Both of this data already defined for our usecase."
      ],
      "metadata": {
        "id": "d3eJX_sexwtC"
      },
      "id": "d3eJX_sexwtC"
    },
    {
      "cell_type": "code",
      "source": [
        "# Training data - first 5 sample\n",
        "print('First 5 Independent Feature:-\\n', X_train[:5])\n",
        "print()\n",
        "print('Rescpective Dependent Feature:-\\n', y_train[:5])"
      ],
      "metadata": {
        "id": "fUqWPxk-2CHv",
        "colab": {
          "base_uri": "https://localhost:8080/"
        },
        "outputId": "3c56154b-e1ff-4ecf-e48a-a46523ec875d"
      },
      "id": "fUqWPxk-2CHv",
      "execution_count": null,
      "outputs": [
        {
          "output_type": "stream",
          "name": "stdout",
          "text": [
            "First 5 Independent Feature:-\n",
            " [[1.63021483]\n",
            " [0.83510816]\n",
            " [1.27355277]\n",
            " [2.5343284 ]\n",
            " [0.01415657]]\n",
            "\n",
            "Rescpective Dependent Feature:-\n",
            " [[13.03871887]\n",
            " [11.44981471]\n",
            " [12.1574337 ]\n",
            " [14.37765714]\n",
            " [ 9.72604804]]\n"
          ]
        }
      ]
    },
    {
      "cell_type": "code",
      "source": [
        "# Testing data - first 5 sample\n",
        "print('First 5 Independent Feature:-\\n', X_test[:5])\n",
        "print()\n",
        "print('Rescpective Dependent Feature:-\\n', y_test[:5])"
      ],
      "metadata": {
        "id": "2Uwi6zkm2s_O",
        "colab": {
          "base_uri": "https://localhost:8080/"
        },
        "outputId": "a37a2260-6d9c-4bdc-a91d-0133b80053a9"
      },
      "id": "2Uwi6zkm2s_O",
      "execution_count": null,
      "outputs": [
        {
          "output_type": "stream",
          "name": "stdout",
          "text": [
            "First 5 Independent Feature:-\n",
            " [[0.72383636]\n",
            " [1.90012877]\n",
            " [0.12694282]\n",
            " [2.0264709 ]\n",
            " [2.64742922]]\n",
            "\n",
            "Rescpective Dependent Feature:-\n",
            " [[10.88938808]\n",
            " [13.35855419]\n",
            " [ 9.97441367]\n",
            " [13.56616042]\n",
            " [14.84235246]]\n"
          ]
        }
      ]
    },
    {
      "cell_type": "markdown",
      "source": [
        "#### Step 2: Import and Initialize\n",
        "\n",
        "**Import the necessary modules:-**\n",
        "- Import the `LinearRegression` class from scikit-learn's `linear_model` module.\n",
        "- [Here](https://github.com/scikit-learn/scikit-learn/blob/main/sklearn/linear_model/_base.py) is the official code from sklearn. Just press `ctrl+f` and search for `LinearRegression`.\n",
        "\n",
        "**Create a model instance:-**\n",
        "- Initialize a LinearRegression object.\n",
        "- This represents the linear relationship between the inputs and the target.\n"
      ],
      "metadata": {
        "id": "tM-h_gz-yEYV"
      },
      "id": "tM-h_gz-yEYV"
    },
    {
      "cell_type": "code",
      "source": [
        "from sklearn.linear_model import LinearRegression"
      ],
      "metadata": {
        "id": "35zR0qhudoQV"
      },
      "id": "35zR0qhudoQV",
      "execution_count": null,
      "outputs": []
    },
    {
      "cell_type": "code",
      "source": [
        "# Build the sklearn model of linear regression\n",
        "sklearn_model = LinearRegression(fit_intercept=True,  # If true include intercept\n",
        "                                 copy_X=True,         # If true reserve a copy of X so that it remains unchanged\n",
        "                                 n_jobs=None,         # If none, single CPU core, no parallelization used\n",
        "                                 positive=False)      # If true, forces the coefficients to be positive"
      ],
      "metadata": {
        "id": "YSouZKZ9dzGy"
      },
      "id": "YSouZKZ9dzGy",
      "execution_count": null,
      "outputs": []
    },
    {
      "cell_type": "markdown",
      "source": [
        "#### Step 3: Training\n",
        "\n",
        "**Fit the model:-**\n",
        "- Use the `fit()` method of the model to train it on your data.\n",
        "- The algorithm learns the coefficients and intercept that define the linear relationship.\n",
        "\n",
        "**Learning process:-**\n",
        "- The algorithm internally uses the least squares optimization method.\n",
        "- It is used to minimize the sum of squared differences between the actual target values and the predicted values."
      ],
      "metadata": {
        "id": "ehaeO8A9zPl4"
      },
      "id": "ehaeO8A9zPl4"
    },
    {
      "cell_type": "code",
      "source": [
        "# Using fit command of sklearn on model I can train it\n",
        "sklearn_model.fit(X_train, y_train)"
      ],
      "metadata": {
        "id": "iiOX2w3fzvWE",
        "colab": {
          "base_uri": "https://localhost:8080/",
          "height": 74
        },
        "outputId": "7fca6688-fb0d-402a-b4e4-7b04b8fb7390"
      },
      "id": "iiOX2w3fzvWE",
      "execution_count": null,
      "outputs": [
        {
          "output_type": "execute_result",
          "data": {
            "text/plain": [
              "LinearRegression()"
            ],
            "text/html": [
              "<style>#sk-container-id-1 {color: black;background-color: white;}#sk-container-id-1 pre{padding: 0;}#sk-container-id-1 div.sk-toggleable {background-color: white;}#sk-container-id-1 label.sk-toggleable__label {cursor: pointer;display: block;width: 100%;margin-bottom: 0;padding: 0.3em;box-sizing: border-box;text-align: center;}#sk-container-id-1 label.sk-toggleable__label-arrow:before {content: \"▸\";float: left;margin-right: 0.25em;color: #696969;}#sk-container-id-1 label.sk-toggleable__label-arrow:hover:before {color: black;}#sk-container-id-1 div.sk-estimator:hover label.sk-toggleable__label-arrow:before {color: black;}#sk-container-id-1 div.sk-toggleable__content {max-height: 0;max-width: 0;overflow: hidden;text-align: left;background-color: #f0f8ff;}#sk-container-id-1 div.sk-toggleable__content pre {margin: 0.2em;color: black;border-radius: 0.25em;background-color: #f0f8ff;}#sk-container-id-1 input.sk-toggleable__control:checked~div.sk-toggleable__content {max-height: 200px;max-width: 100%;overflow: auto;}#sk-container-id-1 input.sk-toggleable__control:checked~label.sk-toggleable__label-arrow:before {content: \"▾\";}#sk-container-id-1 div.sk-estimator input.sk-toggleable__control:checked~label.sk-toggleable__label {background-color: #d4ebff;}#sk-container-id-1 div.sk-label input.sk-toggleable__control:checked~label.sk-toggleable__label {background-color: #d4ebff;}#sk-container-id-1 input.sk-hidden--visually {border: 0;clip: rect(1px 1px 1px 1px);clip: rect(1px, 1px, 1px, 1px);height: 1px;margin: -1px;overflow: hidden;padding: 0;position: absolute;width: 1px;}#sk-container-id-1 div.sk-estimator {font-family: monospace;background-color: #f0f8ff;border: 1px dotted black;border-radius: 0.25em;box-sizing: border-box;margin-bottom: 0.5em;}#sk-container-id-1 div.sk-estimator:hover {background-color: #d4ebff;}#sk-container-id-1 div.sk-parallel-item::after {content: \"\";width: 100%;border-bottom: 1px solid gray;flex-grow: 1;}#sk-container-id-1 div.sk-label:hover label.sk-toggleable__label {background-color: #d4ebff;}#sk-container-id-1 div.sk-serial::before {content: \"\";position: absolute;border-left: 1px solid gray;box-sizing: border-box;top: 0;bottom: 0;left: 50%;z-index: 0;}#sk-container-id-1 div.sk-serial {display: flex;flex-direction: column;align-items: center;background-color: white;padding-right: 0.2em;padding-left: 0.2em;position: relative;}#sk-container-id-1 div.sk-item {position: relative;z-index: 1;}#sk-container-id-1 div.sk-parallel {display: flex;align-items: stretch;justify-content: center;background-color: white;position: relative;}#sk-container-id-1 div.sk-item::before, #sk-container-id-1 div.sk-parallel-item::before {content: \"\";position: absolute;border-left: 1px solid gray;box-sizing: border-box;top: 0;bottom: 0;left: 50%;z-index: -1;}#sk-container-id-1 div.sk-parallel-item {display: flex;flex-direction: column;z-index: 1;position: relative;background-color: white;}#sk-container-id-1 div.sk-parallel-item:first-child::after {align-self: flex-end;width: 50%;}#sk-container-id-1 div.sk-parallel-item:last-child::after {align-self: flex-start;width: 50%;}#sk-container-id-1 div.sk-parallel-item:only-child::after {width: 0;}#sk-container-id-1 div.sk-dashed-wrapped {border: 1px dashed gray;margin: 0 0.4em 0.5em 0.4em;box-sizing: border-box;padding-bottom: 0.4em;background-color: white;}#sk-container-id-1 div.sk-label label {font-family: monospace;font-weight: bold;display: inline-block;line-height: 1.2em;}#sk-container-id-1 div.sk-label-container {text-align: center;}#sk-container-id-1 div.sk-container {/* jupyter's `normalize.less` sets `[hidden] { display: none; }` but bootstrap.min.css set `[hidden] { display: none !important; }` so we also need the `!important` here to be able to override the default hidden behavior on the sphinx rendered scikit-learn.org. See: https://github.com/scikit-learn/scikit-learn/issues/21755 */display: inline-block !important;position: relative;}#sk-container-id-1 div.sk-text-repr-fallback {display: none;}</style><div id=\"sk-container-id-1\" class=\"sk-top-container\"><div class=\"sk-text-repr-fallback\"><pre>LinearRegression()</pre><b>In a Jupyter environment, please rerun this cell to show the HTML representation or trust the notebook. <br />On GitHub, the HTML representation is unable to render, please try loading this page with nbviewer.org.</b></div><div class=\"sk-container\" hidden><div class=\"sk-item\"><div class=\"sk-estimator sk-toggleable\"><input class=\"sk-toggleable__control sk-hidden--visually\" id=\"sk-estimator-id-1\" type=\"checkbox\" checked><label for=\"sk-estimator-id-1\" class=\"sk-toggleable__label sk-toggleable__label-arrow\">LinearRegression</label><div class=\"sk-toggleable__content\"><pre>LinearRegression()</pre></div></div></div></div></div>"
            ]
          },
          "metadata": {},
          "execution_count": 31
        }
      ]
    },
    {
      "cell_type": "code",
      "source": [
        "print('Scikit-Learn model:-')\n",
        "print('Optimal Weight = {}'.format(sklearn_model.coef_[0][0]))\n",
        "print('Optimal Bias = {}'.format(sklearn_model.intercept_[0]))\n",
        "\n",
        "print()\n",
        "\n",
        "print('Scratch model:-')\n",
        "print('Optimal Weight = {}'.format(weights[-1]))\n",
        "print('Optimal Bias = {}'.format(biases[-1]))"
      ],
      "metadata": {
        "id": "W6OmdUiCfe7m",
        "colab": {
          "base_uri": "https://localhost:8080/"
        },
        "outputId": "1ae51edd-e047-46a2-e61f-573b730a6f16"
      },
      "id": "W6OmdUiCfe7m",
      "execution_count": null,
      "outputs": [
        {
          "output_type": "stream",
          "name": "stdout",
          "text": [
            "Scikit-Learn model:-\n",
            "Optimal Weight = 1.9822550788964692\n",
            "Optimal Bias = 9.544361289912072\n",
            "\n",
            "Scratch model:-\n",
            "Optimal Weight = 1.9822586835574079\n",
            "Optimal Bias = 9.544354806288116\n"
          ]
        }
      ]
    },
    {
      "cell_type": "markdown",
      "source": [
        "#### Step 4: Prediction\n",
        "\n",
        "**Make predictions:-**\n",
        "- Once the model is trained, you can use the `predict()` method to make predictions on new data points.\n",
        "- The model applies the learned linear relationship to these inputs."
      ],
      "metadata": {
        "id": "WKoJswlAz37-"
      },
      "id": "WKoJswlAz37-"
    },
    {
      "cell_type": "code",
      "source": [
        "predictions = sklearn_model.predict(X_test)\n",
        "mse_skl = np.mean((y_test - predictions)**2)\n",
        "print(f\"The MSE value of sklearn model:- {round(mse_skl, 5)} (5dp)\")\n",
        "print(f\"The MSE value of scratch model:- {round(mse, 5)} (5dp)\")"
      ],
      "metadata": {
        "id": "xvyW8fice8eg",
        "colab": {
          "base_uri": "https://localhost:8080/"
        },
        "outputId": "b338c258-f905-401f-f654-b0c1229c1079"
      },
      "id": "xvyW8fice8eg",
      "execution_count": null,
      "outputs": [
        {
          "output_type": "stream",
          "name": "stdout",
          "text": [
            "The MSE value of sklearn model:- 0.01231 (5dp)\n",
            "The MSE value of scratch model:- 0.01231 (5dp)\n"
          ]
        }
      ]
    },
    {
      "cell_type": "markdown",
      "source": [
        "* Both the Gradient Desecent and Ordinary Least Square Regression methods are performing well!"
      ],
      "metadata": {
        "id": "S_2mJ2KQq2xp"
      },
      "id": "S_2mJ2KQq2xp"
    },
    {
      "cell_type": "code",
      "source": [
        "# Visualise the performance of the test data\n",
        "plt.figure(figsize = (10,5))\n",
        "plt.plot(X_test, prediction, color=\"k\", label=\"predicted\", linewidth = 0.7)\n",
        "plt.plot(X_test, predictions,  \"g--\", label=\"predicted\", linewidth = 0.7)\n",
        "plt.scatter(X_test, y_test, color=\"c\", label=\"original\", marker = 'x', s = 20, zorder = 2)\n",
        "plt.title(f\"Visulaising the performance on the test data\", color = 'red')\n",
        "plt.xlabel(\"Test Inputs\", color = 'm', fontsize = 11)\n",
        "plt.ylabel(\"Star Property\", color = 'm', fontsize = 11)\n",
        "plt.legend(['Scratch Model', 'Scikit-Learn Model', 'True Values', ], loc = 'lower right')\n",
        "plt.show()"
      ],
      "metadata": {
        "id": "7Z521_QjhK2M",
        "colab": {
          "base_uri": "https://localhost:8080/",
          "height": 488
        },
        "outputId": "2e5c4c48-e59f-459c-9ac4-ed0bf4db6b8e"
      },
      "id": "7Z521_QjhK2M",
      "execution_count": null,
      "outputs": [
        {
          "output_type": "display_data",
          "data": {
            "text/plain": [
              "<Figure size 1000x500 with 1 Axes>"
            ],
            "image/png": "[encoded data removed]"
          },
          "metadata": {}
        }
      ]
    },
    {
      "cell_type": "markdown",
      "source": [
        "* Just look at how similar predictions we are getting!\n",
        "* Now that you have learnt gradient descent algorithm, it will be very useful in some of the upcoming lectures."
      ],
      "metadata": {
        "id": "wCBTnxRcq_6H"
      },
      "id": "wCBTnxRcq_6H"
    },
    {
      "cell_type": "markdown",
      "source": [
        "### Advantages of Linear Regression in scikit-learn\n",
        "\n",
        "\n",
        "- Linear Regression is easy to understand and implement.\n",
        "- For small datasets, it provides quick and accurate predictions.\n",
        "- It's a fundamental step towards understanding more complex machine learning techniques.\n",
        "\n"
      ],
      "metadata": {
        "id": "UsbAYetZ0ZnV"
      },
      "id": "UsbAYetZ0ZnV"
    },
    {
      "cell_type": "markdown",
      "source": [
        "### Limitations and Considerations\n",
        "\n",
        "- It assumes a linear relationship between inputs and target.\n",
        "- It doesn't capture non-linear relationships between variables.\n",
        "- Outliers can disproportionately affect the model's performance.\n",
        "\n",
        "<img src='http://cdn-0.r-statistics.co/screenshots/outliers_effect.png' width=75%>\n"
      ],
      "metadata": {
        "id": "aKe0ZVRA0yxV"
      },
      "id": "aKe0ZVRA0yxV"
    },
    {
      "cell_type": "markdown",
      "source": [
        "### Ending Notes\n",
        "- Remember, while Linear Regression is powerful, it's just the beginning.\n",
        "- Machine learning offers a vast array of algorithms for different tasks, each with its strengths and weaknesses.\n",
        "- We shall dive deeper into this exciting field to explore more advanced techniques in the upcoming days."
      ],
      "metadata": {
        "id": "qaqHdMI31KdC"
      },
      "id": "qaqHdMI31KdC"
    },
    {
      "cell_type": "markdown",
      "source": [
        "---"
      ],
      "metadata": {
        "id": "ILDZ0rPTaEJb"
      },
      "id": "ILDZ0rPTaEJb"
    }
  ]
}