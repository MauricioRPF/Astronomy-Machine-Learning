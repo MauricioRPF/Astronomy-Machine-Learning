{
  "nbformat": 4,
  "nbformat_minor": 0,
  "metadata": {
    "colab": {
      "provenance": []
    },
    "kernelspec": {
      "name": "python3",
      "display_name": "Python 3"
    },
    "language_info": {
      "name": "python"
    }
  },
  "cells": [
    {
      "cell_type": "markdown",
      "source": [
        "# Test the model, scaler, and encoder"
      ],
      "metadata": {
        "id": "0b-3Eo1wPL6y"
      }
    },
    {
      "cell_type": "code",
      "execution_count": 8,
      "metadata": {
        "id": "tliQaEuLIoBa"
      },
      "outputs": [],
      "source": [
        "# Imports\n",
        "from keras.models import load_model\n",
        "from joblib import load\n",
        "import pandas as pd\n",
        "import numpy as np\n",
        "import warnings\n",
        "\n",
        "# Ignore the warnings\n",
        "warnings.filterwarnings('ignore')"
      ]
    },
    {
      "cell_type": "code",
      "source": [
        "# Load the model, scaler, and encoder\n",
        "model = load_model('model.h5')\n",
        "scaler = load('min_max_scaler.joblib')\n",
        "encoder = load('encoder.joblib')"
      ],
      "metadata": {
        "id": "bKgnqHKVIw1M"
      },
      "execution_count": 2,
      "outputs": []
    },
    {
      "cell_type": "code",
      "source": [
        "# Single inputs\n",
        "objid = 1237650000000000000.0 # not there\n",
        "ra = 183.531326\n",
        "dec = 0.089693\n",
        "u = 19.47406\n",
        "g = 17.0424\n",
        "r = 15.94699\n",
        "i = 15.50342\n",
        "z = 15.22531\n",
        "run = 752\n",
        "rerun = 301 # not there\n",
        "camcol = 4\n",
        "field = 267\n",
        "specobjid = 3722360000000000000.0\n",
        "class_type = 'STAR' # not there for inputs\n",
        "redshift = -0.000009\n",
        "plate = 3306\n",
        "mjd = 54922\n",
        "fiberid = 491"
      ],
      "metadata": {
        "id": "haHXh_noJGZI"
      },
      "execution_count": 40,
      "outputs": []
    },
    {
      "cell_type": "code",
      "source": [
        "# Inputs for the model\n",
        "inputs = [[ra, dec, u, g, r, i, z,\n",
        "           run, camcol, field, specobjid,\n",
        "           redshift, plate, mjd, fiberid]]"
      ],
      "metadata": {
        "id": "clThn-Y2LvwX"
      },
      "execution_count": 43,
      "outputs": []
    },
    {
      "cell_type": "code",
      "source": [
        "# Check the example csv file\n",
        "df = pd.read_csv('example_test_set.csv')\n",
        "df.sample(3)"
      ],
      "metadata": {
        "colab": {
          "base_uri": "https://localhost:8080/",
          "height": 180
        },
        "id": "cFlpx8Y2MokT",
        "outputId": "68aefa73-93e0-4230-db23-af4db2565d7d"
      },
      "execution_count": 48,
      "outputs": [
        {
          "output_type": "execute_result",
          "data": {
            "text/plain": [
              "    Unnamed: 0         objid          ra        dec  ...  redshift  plate    mjd  fiberid\n",
              "6         9339  1.237650e+18  208.101267   0.088784  ...  0.023516    300  51943       76\n",
              "23        6719  1.237650e+18  200.183821   0.337158  ...  0.110840    297  51959      355\n",
              "54        7622  1.237650e+18  197.961361  67.865715  ...  0.107643   6964  56748      982\n",
              "\n",
              "[3 rows x 19 columns]"
            ],
            "text/html": [
              "\n",
              "  <div id=\"df-b98618e4-54aa-46cd-91b1-fe4ab8e60a9a\" class=\"colab-df-container\">\n",
              "    <div>\n",
              "<style scoped>\n",
              "    .dataframe tbody tr th:only-of-type {\n",
              "        vertical-align: middle;\n",
              "    }\n",
              "\n",
              "    .dataframe tbody tr th {\n",
              "        vertical-align: top;\n",
              "    }\n",
              "\n",
              "    .dataframe thead th {\n",
              "        text-align: right;\n",
              "    }\n",
              "</style>\n",
              "<table border=\"1\" class=\"dataframe\">\n",
              "  <thead>\n",
              "    <tr style=\"text-align: right;\">\n",
              "      <th></th>\n",
              "      <th>Unnamed: 0</th>\n",
              "      <th>objid</th>\n",
              "      <th>ra</th>\n",
              "      <th>dec</th>\n",
              "      <th>u</th>\n",
              "      <th>g</th>\n",
              "      <th>r</th>\n",
              "      <th>i</th>\n",
              "      <th>z</th>\n",
              "      <th>run</th>\n",
              "      <th>rerun</th>\n",
              "      <th>camcol</th>\n",
              "      <th>field</th>\n",
              "      <th>specobjid</th>\n",
              "      <th>class</th>\n",
              "      <th>redshift</th>\n",
              "      <th>plate</th>\n",
              "      <th>mjd</th>\n",
              "      <th>fiberid</th>\n",
              "    </tr>\n",
              "  </thead>\n",
              "  <tbody>\n",
              "    <tr>\n",
              "      <th>6</th>\n",
              "      <td>9339</td>\n",
              "      <td>1.237650e+18</td>\n",
              "      <td>208.101267</td>\n",
              "      <td>0.088784</td>\n",
              "      <td>19.13539</td>\n",
              "      <td>17.86134</td>\n",
              "      <td>17.44055</td>\n",
              "      <td>17.21586</td>\n",
              "      <td>17.14748</td>\n",
              "      <td>752</td>\n",
              "      <td>301</td>\n",
              "      <td>4</td>\n",
              "      <td>431</td>\n",
              "      <td>3.377910e+17</td>\n",
              "      <td>GALAXY</td>\n",
              "      <td>0.023516</td>\n",
              "      <td>300</td>\n",
              "      <td>51943</td>\n",
              "      <td>76</td>\n",
              "    </tr>\n",
              "    <tr>\n",
              "      <th>23</th>\n",
              "      <td>6719</td>\n",
              "      <td>1.237650e+18</td>\n",
              "      <td>200.183821</td>\n",
              "      <td>0.337158</td>\n",
              "      <td>19.09781</td>\n",
              "      <td>18.02957</td>\n",
              "      <td>17.49159</td>\n",
              "      <td>17.14819</td>\n",
              "      <td>16.97778</td>\n",
              "      <td>1334</td>\n",
              "      <td>301</td>\n",
              "      <td>4</td>\n",
              "      <td>24</td>\n",
              "      <td>3.344900e+17</td>\n",
              "      <td>GALAXY</td>\n",
              "      <td>0.110840</td>\n",
              "      <td>297</td>\n",
              "      <td>51959</td>\n",
              "      <td>355</td>\n",
              "    </tr>\n",
              "    <tr>\n",
              "      <th>54</th>\n",
              "      <td>7622</td>\n",
              "      <td>1.237650e+18</td>\n",
              "      <td>197.961361</td>\n",
              "      <td>67.865715</td>\n",
              "      <td>19.36847</td>\n",
              "      <td>17.42144</td>\n",
              "      <td>16.46410</td>\n",
              "      <td>16.04772</td>\n",
              "      <td>15.69934</td>\n",
              "      <td>1350</td>\n",
              "      <td>301</td>\n",
              "      <td>6</td>\n",
              "      <td>402</td>\n",
              "      <td>7.841040e+18</td>\n",
              "      <td>GALAXY</td>\n",
              "      <td>0.107643</td>\n",
              "      <td>6964</td>\n",
              "      <td>56748</td>\n",
              "      <td>982</td>\n",
              "    </tr>\n",
              "  </tbody>\n",
              "</table>\n",
              "</div>\n",
              "    <div class=\"colab-df-buttons\">\n",
              "\n",
              "  <div class=\"colab-df-container\">\n",
              "    <button class=\"colab-df-convert\" onclick=\"convertToInteractive('df-b98618e4-54aa-46cd-91b1-fe4ab8e60a9a')\"\n",
              "            title=\"Convert this dataframe to an interactive table.\"\n",
              "            style=\"display:none;\">\n",
              "\n",
              "  <svg xmlns=\"http://www.w3.org/2000/svg\" height=\"24px\" viewBox=\"0 -960 960 960\">\n",
              "    <path d=\"M120-120v-720h720v720H120Zm60-500h600v-160H180v160Zm220 220h160v-160H400v160Zm0 220h160v-160H400v160ZM180-400h160v-160H180v160Zm440 0h160v-160H620v160ZM180-180h160v-160H180v160Zm440 0h160v-160H620v160Z\"/>\n",
              "  </svg>\n",
              "    </button>\n",
              "\n",
              "  <style>\n",
              "    .colab-df-container {\n",
              "      display:flex;\n",
              "      gap: 12px;\n",
              "    }\n",
              "\n",
              "    .colab-df-convert {\n",
              "      background-color: #E8F0FE;\n",
              "      border: none;\n",
              "      border-radius: 50%;\n",
              "      cursor: pointer;\n",
              "      display: none;\n",
              "      fill: #1967D2;\n",
              "      height: 32px;\n",
              "      padding: 0 0 0 0;\n",
              "      width: 32px;\n",
              "    }\n",
              "\n",
              "    .colab-df-convert:hover {\n",
              "      background-color: #E2EBFA;\n",
              "      box-shadow: 0px 1px 2px rgba(60, 64, 67, 0.3), 0px 1px 3px 1px rgba(60, 64, 67, 0.15);\n",
              "      fill: #174EA6;\n",
              "    }\n",
              "\n",
              "    .colab-df-buttons div {\n",
              "      margin-bottom: 4px;\n",
              "    }\n",
              "\n",
              "    [theme=dark] .colab-df-convert {\n",
              "      background-color: #3B4455;\n",
              "      fill: #D2E3FC;\n",
              "    }\n",
              "\n",
              "    [theme=dark] .colab-df-convert:hover {\n",
              "      background-color: #434B5C;\n",
              "      box-shadow: 0px 1px 3px 1px rgba(0, 0, 0, 0.15);\n",
              "      filter: drop-shadow(0px 1px 2px rgba(0, 0, 0, 0.3));\n",
              "      fill: #FFFFFF;\n",
              "    }\n",
              "  </style>\n",
              "\n",
              "    <script>\n",
              "      const buttonEl =\n",
              "        document.querySelector('#df-b98618e4-54aa-46cd-91b1-fe4ab8e60a9a button.colab-df-convert');\n",
              "      buttonEl.style.display =\n",
              "        google.colab.kernel.accessAllowed ? 'block' : 'none';\n",
              "\n",
              "      async function convertToInteractive(key) {\n",
              "        const element = document.querySelector('#df-b98618e4-54aa-46cd-91b1-fe4ab8e60a9a');\n",
              "        const dataTable =\n",
              "          await google.colab.kernel.invokeFunction('convertToInteractive',\n",
              "                                                    [key], {});\n",
              "        if (!dataTable) return;\n",
              "\n",
              "        const docLinkHtml = 'Like what you see? Visit the ' +\n",
              "          '<a target=\"_blank\" href=https://colab.research.google.com/notebooks/data_table.ipynb>data table notebook</a>'\n",
              "          + ' to learn more about interactive tables.';\n",
              "        element.innerHTML = '';\n",
              "        dataTable['output_type'] = 'display_data';\n",
              "        await google.colab.output.renderOutput(dataTable, element);\n",
              "        const docLink = document.createElement('div');\n",
              "        docLink.innerHTML = docLinkHtml;\n",
              "        element.appendChild(docLink);\n",
              "      }\n",
              "    </script>\n",
              "  </div>\n",
              "\n",
              "\n",
              "<div id=\"df-1f21daca-2e06-4801-95cc-daa603f51337\">\n",
              "  <button class=\"colab-df-quickchart\" onclick=\"quickchart('df-1f21daca-2e06-4801-95cc-daa603f51337')\"\n",
              "            title=\"Suggest charts\"\n",
              "            style=\"display:none;\">\n",
              "\n",
              "<svg xmlns=\"http://www.w3.org/2000/svg\" height=\"24px\"viewBox=\"0 0 24 24\"\n",
              "     width=\"24px\">\n",
              "    <g>\n",
              "        <path d=\"M19 3H5c-1.1 0-2 .9-2 2v14c0 1.1.9 2 2 2h14c1.1 0 2-.9 2-2V5c0-1.1-.9-2-2-2zM9 17H7v-7h2v7zm4 0h-2V7h2v10zm4 0h-2v-4h2v4z\"/>\n",
              "    </g>\n",
              "</svg>\n",
              "  </button>\n",
              "\n",
              "<style>\n",
              "  .colab-df-quickchart {\n",
              "      --bg-color: #E8F0FE;\n",
              "      --fill-color: #1967D2;\n",
              "      --hover-bg-color: #E2EBFA;\n",
              "      --hover-fill-color: #174EA6;\n",
              "      --disabled-fill-color: #AAA;\n",
              "      --disabled-bg-color: #DDD;\n",
              "  }\n",
              "\n",
              "  [theme=dark] .colab-df-quickchart {\n",
              "      --bg-color: #3B4455;\n",
              "      --fill-color: #D2E3FC;\n",
              "      --hover-bg-color: #434B5C;\n",
              "      --hover-fill-color: #FFFFFF;\n",
              "      --disabled-bg-color: #3B4455;\n",
              "      --disabled-fill-color: #666;\n",
              "  }\n",
              "\n",
              "  .colab-df-quickchart {\n",
              "    background-color: var(--bg-color);\n",
              "    border: none;\n",
              "    border-radius: 50%;\n",
              "    cursor: pointer;\n",
              "    display: none;\n",
              "    fill: var(--fill-color);\n",
              "    height: 32px;\n",
              "    padding: 0;\n",
              "    width: 32px;\n",
              "  }\n",
              "\n",
              "  .colab-df-quickchart:hover {\n",
              "    background-color: var(--hover-bg-color);\n",
              "    box-shadow: 0 1px 2px rgba(60, 64, 67, 0.3), 0 1px 3px 1px rgba(60, 64, 67, 0.15);\n",
              "    fill: var(--button-hover-fill-color);\n",
              "  }\n",
              "\n",
              "  .colab-df-quickchart-complete:disabled,\n",
              "  .colab-df-quickchart-complete:disabled:hover {\n",
              "    background-color: var(--disabled-bg-color);\n",
              "    fill: var(--disabled-fill-color);\n",
              "    box-shadow: none;\n",
              "  }\n",
              "\n",
              "  .colab-df-spinner {\n",
              "    border: 2px solid var(--fill-color);\n",
              "    border-color: transparent;\n",
              "    border-bottom-color: var(--fill-color);\n",
              "    animation:\n",
              "      spin 1s steps(1) infinite;\n",
              "  }\n",
              "\n",
              "  @keyframes spin {\n",
              "    0% {\n",
              "      border-color: transparent;\n",
              "      border-bottom-color: var(--fill-color);\n",
              "      border-left-color: var(--fill-color);\n",
              "    }\n",
              "    20% {\n",
              "      border-color: transparent;\n",
              "      border-left-color: var(--fill-color);\n",
              "      border-top-color: var(--fill-color);\n",
              "    }\n",
              "    30% {\n",
              "      border-color: transparent;\n",
              "      border-left-color: var(--fill-color);\n",
              "      border-top-color: var(--fill-color);\n",
              "      border-right-color: var(--fill-color);\n",
              "    }\n",
              "    40% {\n",
              "      border-color: transparent;\n",
              "      border-right-color: var(--fill-color);\n",
              "      border-top-color: var(--fill-color);\n",
              "    }\n",
              "    60% {\n",
              "      border-color: transparent;\n",
              "      border-right-color: var(--fill-color);\n",
              "    }\n",
              "    80% {\n",
              "      border-color: transparent;\n",
              "      border-right-color: var(--fill-color);\n",
              "      border-bottom-color: var(--fill-color);\n",
              "    }\n",
              "    90% {\n",
              "      border-color: transparent;\n",
              "      border-bottom-color: var(--fill-color);\n",
              "    }\n",
              "  }\n",
              "</style>\n",
              "\n",
              "  <script>\n",
              "    async function quickchart(key) {\n",
              "      const quickchartButtonEl =\n",
              "        document.querySelector('#' + key + ' button');\n",
              "      quickchartButtonEl.disabled = true;  // To prevent multiple clicks.\n",
              "      quickchartButtonEl.classList.add('colab-df-spinner');\n",
              "      try {\n",
              "        const charts = await google.colab.kernel.invokeFunction(\n",
              "            'suggestCharts', [key], {});\n",
              "      } catch (error) {\n",
              "        console.error('Error during call to suggestCharts:', error);\n",
              "      }\n",
              "      quickchartButtonEl.classList.remove('colab-df-spinner');\n",
              "      quickchartButtonEl.classList.add('colab-df-quickchart-complete');\n",
              "    }\n",
              "    (() => {\n",
              "      let quickchartButtonEl =\n",
              "        document.querySelector('#df-1f21daca-2e06-4801-95cc-daa603f51337 button');\n",
              "      quickchartButtonEl.style.display =\n",
              "        google.colab.kernel.accessAllowed ? 'block' : 'none';\n",
              "    })();\n",
              "  </script>\n",
              "</div>\n",
              "\n",
              "    </div>\n",
              "  </div>\n"
            ],
            "application/vnd.google.colaboratory.intrinsic+json": {
              "type": "dataframe",
              "summary": "{\n  \"name\": \"df\",\n  \"rows\": 3,\n  \"fields\": [\n    {\n      \"column\": \"Unnamed: 0\",\n      \"properties\": {\n        \"dtype\": \"number\",\n        \"std\": 1330,\n        \"min\": 6719,\n        \"max\": 9339,\n        \"num_unique_values\": 3,\n        \"samples\": [\n          9339,\n          6719,\n          7622\n        ],\n        \"semantic_type\": \"\",\n        \"description\": \"\"\n      }\n    },\n    {\n      \"column\": \"objid\",\n      \"properties\": {\n        \"dtype\": \"number\",\n        \"std\": 0.0,\n        \"min\": 1.23765e+18,\n        \"max\": 1.23765e+18,\n        \"num_unique_values\": 1,\n        \"samples\": [\n          1.23765e+18\n        ],\n        \"semantic_type\": \"\",\n        \"description\": \"\"\n      }\n    },\n    {\n      \"column\": \"ra\",\n      \"properties\": {\n        \"dtype\": \"number\",\n        \"std\": 5.3298368329761665,\n        \"min\": 197.961361,\n        \"max\": 208.1012669,\n        \"num_unique_values\": 3,\n        \"samples\": [\n          208.1012669\n        ],\n        \"semantic_type\": \"\",\n        \"description\": \"\"\n      }\n    },\n    {\n      \"column\": \"dec\",\n      \"properties\": {\n        \"dtype\": \"number\",\n        \"std\": 39.05952776163875,\n        \"min\": 0.088783885,\n        \"max\": 67.86571549,\n        \"num_unique_values\": 3,\n        \"samples\": [\n          0.088783885\n        ],\n        \"semantic_type\": \"\",\n        \"description\": \"\"\n      }\n    },\n    {\n      \"column\": \"u\",\n      \"properties\": {\n        \"dtype\": \"number\",\n        \"std\": 0.14662615637509263,\n        \"min\": 19.09781,\n        \"max\": 19.36847,\n        \"num_unique_values\": 3,\n        \"samples\": [\n          19.13539\n        ],\n        \"semantic_type\": \"\",\n        \"description\": \"\"\n      }\n    },\n    {\n      \"column\": \"g\",\n      \"properties\": {\n        \"dtype\": \"number\",\n        \"std\": 0.31401577449760854,\n        \"min\": 17.42144,\n        \"max\": 18.02957,\n        \"num_unique_values\": 3,\n        \"samples\": [\n          17.86134\n        ],\n        \"semantic_type\": \"\",\n        \"description\": \"\"\n      }\n    },\n    {\n      \"column\": \"r\",\n      \"properties\": {\n        \"dtype\": \"number\",\n        \"std\": 0.579050283395148,\n        \"min\": 16.4641,\n        \"max\": 17.49159,\n        \"num_unique_values\": 3,\n        \"samples\": [\n          17.44055\n        ],\n        \"semantic_type\": \"\",\n        \"description\": \"\"\n      }\n    },\n    {\n      \"column\": \"i\",\n      \"properties\": {\n        \"dtype\": \"number\",\n        \"std\": 0.6557647583038689,\n        \"min\": 16.04772,\n        \"max\": 17.21586,\n        \"num_unique_values\": 3,\n        \"samples\": [\n          17.21586\n        ],\n        \"semantic_type\": \"\",\n        \"description\": \"\"\n      }\n    },\n    {\n      \"column\": \"z\",\n      \"properties\": {\n        \"dtype\": \"number\",\n        \"std\": 0.7916561104419021,\n        \"min\": 15.69934,\n        \"max\": 17.14748,\n        \"num_unique_values\": 3,\n        \"samples\": [\n          17.14748\n        ],\n        \"semantic_type\": \"\",\n        \"description\": \"\"\n      }\n    },\n    {\n      \"column\": \"run\",\n      \"properties\": {\n        \"dtype\": \"number\",\n        \"std\": 340,\n        \"min\": 752,\n        \"max\": 1350,\n        \"num_unique_values\": 3,\n        \"samples\": [\n          752\n        ],\n        \"semantic_type\": \"\",\n        \"description\": \"\"\n      }\n    },\n    {\n      \"column\": \"rerun\",\n      \"properties\": {\n        \"dtype\": \"number\",\n        \"std\": 0,\n        \"min\": 301,\n        \"max\": 301,\n        \"num_unique_values\": 1,\n        \"samples\": [\n          301\n        ],\n        \"semantic_type\": \"\",\n        \"description\": \"\"\n      }\n    },\n    {\n      \"column\": \"camcol\",\n      \"properties\": {\n        \"dtype\": \"number\",\n        \"std\": 1,\n        \"min\": 4,\n        \"max\": 6,\n        \"num_unique_values\": 2,\n        \"samples\": [\n          6\n        ],\n        \"semantic_type\": \"\",\n        \"description\": \"\"\n      }\n    },\n    {\n      \"column\": \"field\",\n      \"properties\": {\n        \"dtype\": \"number\",\n        \"std\": 227,\n        \"min\": 24,\n        \"max\": 431,\n        \"num_unique_values\": 3,\n        \"samples\": [\n          431\n        ],\n        \"semantic_type\": \"\",\n        \"description\": \"\"\n      }\n    },\n    {\n      \"column\": \"specobjid\",\n      \"properties\": {\n        \"dtype\": \"number\",\n        \"std\": 4.332956060918497e+18,\n        \"min\": 3.3449e+17,\n        \"max\": 7.84104e+18,\n        \"num_unique_values\": 3,\n        \"samples\": [\n          3.37791e+17\n        ],\n        \"semantic_type\": \"\",\n        \"description\": \"\"\n      }\n    },\n    {\n      \"column\": \"class\",\n      \"properties\": {\n        \"dtype\": \"category\",\n        \"num_unique_values\": 1,\n        \"samples\": [\n          \"GALAXY\"\n        ],\n        \"semantic_type\": \"\",\n        \"description\": \"\"\n      }\n    },\n    {\n      \"column\": \"redshift\",\n      \"properties\": {\n        \"dtype\": \"number\",\n        \"std\": 0.049519332732323174,\n        \"min\": 0.02351624,\n        \"max\": 0.1108399,\n        \"num_unique_values\": 3,\n        \"samples\": [\n          0.02351624\n        ],\n        \"semantic_type\": \"\",\n        \"description\": \"\"\n      }\n    },\n    {\n      \"column\": \"plate\",\n      \"properties\": {\n        \"dtype\": \"number\",\n        \"std\": 3848,\n        \"min\": 297,\n        \"max\": 6964,\n        \"num_unique_values\": 3,\n        \"samples\": [\n          300\n        ],\n        \"semantic_type\": \"\",\n        \"description\": \"\"\n      }\n    },\n    {\n      \"column\": \"mjd\",\n      \"properties\": {\n        \"dtype\": \"number\",\n        \"std\": 2769,\n        \"min\": 51943,\n        \"max\": 56748,\n        \"num_unique_values\": 3,\n        \"samples\": [\n          51943\n        ],\n        \"semantic_type\": \"\",\n        \"description\": \"\"\n      }\n    },\n    {\n      \"column\": \"fiberid\",\n      \"properties\": {\n        \"dtype\": \"number\",\n        \"std\": 464,\n        \"min\": 76,\n        \"max\": 982,\n        \"num_unique_values\": 3,\n        \"samples\": [\n          76\n        ],\n        \"semantic_type\": \"\",\n        \"description\": \"\"\n      }\n    }\n  ]\n}"
            }
          },
          "metadata": {},
          "execution_count": 48
        }
      ]
    },
    {
      "cell_type": "code",
      "source": [
        "# Create inputs from the csv file and respective outputs\n",
        "inputs = df.drop(['Unnamed: 0', 'rerun', 'class', 'objid'], axis=1)\n",
        "outputs = df['class']"
      ],
      "metadata": {
        "id": "Jl5EfLo-NC1c"
      },
      "execution_count": 49,
      "outputs": []
    },
    {
      "cell_type": "code",
      "source": [
        "# Converting the outputs shape to compare it with prediction_class\n",
        "outputs = outputs.values.reshape(-1 ,1)"
      ],
      "metadata": {
        "id": "ApjOnEXoNKi-"
      },
      "execution_count": 50,
      "outputs": []
    },
    {
      "cell_type": "code",
      "source": [
        "# Apply scaler on inputs and get output of softmax probabilities and finally conver it to class\n",
        "scaled_inputs = scaler.transform(inputs)\n",
        "prediction = model.predict(scaled_inputs)\n",
        "prediction_class = encoder.inverse_transform(prediction)"
      ],
      "metadata": {
        "colab": {
          "base_uri": "https://localhost:8080/"
        },
        "id": "sdxbvZx6LIF5",
        "outputId": "0db0fbc5-d246-4268-d4f8-534f5a56143d"
      },
      "execution_count": 51,
      "outputs": [
        {
          "output_type": "stream",
          "name": "stdout",
          "text": [
            "4/4 [==============================] - 0s 3ms/step\n"
          ]
        }
      ]
    },
    {
      "cell_type": "code",
      "source": [
        "# Check where the outputs don't meet the prediction class\n",
        "np.where(outputs!=prediction_class)[0]"
      ],
      "metadata": {
        "colab": {
          "base_uri": "https://localhost:8080/"
        },
        "id": "UL9Iu_f9NpJi",
        "outputId": "bf8b1423-d5f6-41e3-f388-266a78069370"
      },
      "execution_count": 34,
      "outputs": [
        {
          "output_type": "execute_result",
          "data": {
            "text/plain": [
              "array([ 6, 85, 95])"
            ]
          },
          "metadata": {},
          "execution_count": 34
        }
      ]
    },
    {
      "cell_type": "code",
      "source": [
        "# Get the classification report\n",
        "from sklearn.metrics import classification_report\n",
        "print(classification_report(outputs, prediction_class))"
      ],
      "metadata": {
        "colab": {
          "base_uri": "https://localhost:8080/"
        },
        "id": "nwrwqVu8NWXY",
        "outputId": "1fe818dc-f145-42f5-b29c-ce1a8270610e"
      },
      "execution_count": 39,
      "outputs": [
        {
          "output_type": "stream",
          "name": "stdout",
          "text": [
            "              precision    recall  f1-score   support\n",
            "\n",
            "      GALAXY       1.00      0.94      0.97        53\n",
            "         QSO       1.00      1.00      1.00         9\n",
            "        STAR       0.93      1.00      0.96        38\n",
            "\n",
            "    accuracy                           0.97       100\n",
            "   macro avg       0.98      0.98      0.98       100\n",
            "weighted avg       0.97      0.97      0.97       100\n",
            "\n"
          ]
        }
      ]
    }
  ]
}