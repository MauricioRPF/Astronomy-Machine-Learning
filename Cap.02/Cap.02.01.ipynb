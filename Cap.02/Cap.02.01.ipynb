{
  "cells": [
    {
      "cell_type": "markdown",
      "metadata": {
        "id": "bKuBeNGORFjA"
      },
      "source": [
        "# <center> Cap 02.01 | Control Flow and Functions\n",
        "\n",
        "---\n"
      ]
    },
    {
      "cell_type": "markdown",
      "metadata": {
        "id": "vF1FVAFqpQbr"
      },
      "source": [
        "**In this session we will cover some of the most important concepts:-**\n",
        "1. Control Flow - Loops and Conditions\n",
        "2. Functions\n",
        "\n"
      ]
    },
    {
      "cell_type": "markdown",
      "metadata": {
        "id": "Zcx8L2XE7nqh"
      },
      "source": [
        "### 6. Control Flow"
      ]
    },
    {
      "cell_type": "code",
      "execution_count": null,
      "metadata": {
        "colab": {
          "base_uri": "https://localhost:8080/"
        },
        "id": "BnOBdncw7nqh",
        "outputId": "5ef1ab17-c13b-4d28-8158-463e21e0069f"
      },
      "outputs": [
        {
          "data": {
            "text/plain": [
              "[-5, -2, 1, 4]"
            ]
          },
          "execution_count": 8,
          "metadata": {},
          "output_type": "execute_result"
        }
      ],
      "source": [
        "# Understand the range() function of Python\n",
        "list(range(10))     # integers from 0 to 9\n",
        "list(range(-1, 11)) # integers from -1 to 10\n",
        "list(range(-5, 6, 3)) # integers from -5 to 4 but skipping 3 values"
      ]
    },
    {
      "cell_type": "code",
      "execution_count": null,
      "metadata": {
        "colab": {
          "base_uri": "https://localhost:8080/"
        },
        "id": "chkbZP0S7nqh",
        "outputId": "70f8b7d1-20a2-45b6-b7d8-de7fc413399d"
      },
      "outputs": [
        {
          "name": "stdout",
          "output_type": "stream",
          "text": [
            "1\n",
            "2\n",
            "3\n",
            "4\n",
            "5\n",
            "6\n",
            "7\n",
            "8\n",
            "9\n",
            "10\n"
          ]
        }
      ],
      "source": [
        "# For loop with range to print numbers between 1 to 10\n",
        "for _ in range(1,11): # _ represents each element that is run \"in\" the specified range\n",
        "  print(_) # inside the loop body is the code that will be executed each run\n"
      ]
    },
    {
      "cell_type": "code",
      "execution_count": null,
      "metadata": {
        "colab": {
          "base_uri": "https://localhost:8080/"
        },
        "id": "8MUCUCim7nqh",
        "outputId": "cdc779f5-da5b-4774-9b97-04910d87b7bd"
      },
      "outputs": [
        {
          "name": "stdout",
          "output_type": "stream",
          "text": [
            "1\n",
            "2\n",
            "3\n",
            "4\n",
            "5\n",
            "6\n",
            "7\n",
            "8\n",
            "9\n",
            "10\n"
          ]
        }
      ],
      "source": [
        "# While loop to print the numbers between 1 to 10\n",
        "# it's going to loop until the run reach the value specified on the counter \"ct\"\n",
        "ct = 1\n",
        "while ct<=10: #While counter is less than or equal to 10, it's going to perform a run\n",
        "  print(ct)\n",
        "  ct = ct + 1   # increment the counter by 1, then loop again"
      ]
    },
    {
      "cell_type": "code",
      "execution_count": null,
      "metadata": {
        "colab": {
          "base_uri": "https://localhost:8080/"
        },
        "id": "7aGx72KK6NOC",
        "outputId": "6b9659ba-88d6-4797-acd9-a711ada9eae0"
      },
      "outputs": [
        {
          "name": "stdout",
          "output_type": "stream",
          "text": [
            "1\n",
            "2\n",
            "3\n",
            "4\n",
            "5\n",
            "6\n",
            "7\n",
            "8\n",
            "9\n",
            "10\n"
          ]
        }
      ],
      "source": [
        "# It's going to increment each run until ct is equal to 10\n",
        "# when the counter is equal to eleve it's gonna execute the \"break\"\n",
        "\n",
        "ct = 1 # Atributes the value\n",
        "while True:\n",
        "  if ct == 11: # Compares the value\n",
        "    break\n",
        "  print(ct)\n",
        "  ct+=1   # same as ct = ct + 1"
      ]
    },
    {
      "cell_type": "code",
      "execution_count": null,
      "metadata": {
        "colab": {
          "base_uri": "https://localhost:8080/"
        },
        "id": "u6B0TTmx7nqh",
        "outputId": "b874b773-c1c3-4f51-f0fd-91ca63e67377"
      },
      "outputs": [
        {
          "name": "stdout",
          "output_type": "stream",
          "text": [
            "['BLACK HOLE', 'EXOPLANETS', 'NEUTRON STAR']\n"
          ]
        }
      ],
      "source": [
        "# Looping through a List of celestial bodies and printing each element\n",
        "celestial_bodies = ['Black Hole', 'Exoplanets', 'Neutron Star']\n",
        "\n",
        "# Create a for loop that takes the celestial_bodies list and converts its elements to uppercase strings\n",
        "\n",
        "for i in range(len(celestial_bodies)): # function len counts the number of elements in the list\n",
        "    celestial_bodies[i] = celestial_bodies[i].upper()\n",
        "\n",
        "print(celestial_bodies)"
      ]
    },
    {
      "cell_type": "code",
      "execution_count": null,
      "metadata": {
        "colab": {
          "base_uri": "https://localhost:8080/"
        },
        "id": "EUAclPfX9VD5",
        "outputId": "529097b6-97a6-45d1-d9c5-f15f03bf1047"
      },
      "outputs": [
        {
          "name": "stdout",
          "output_type": "stream",
          "text": [
            "['black hole', 'exoplanets', 'neutron star']\n"
          ]
        }
      ],
      "source": [
        "# Use enumerate to loop over the list and convert its elements to lower cases\n",
        "for i, cb in enumerate(celestial_bodies): # enumerate gives two outputs per element: index, value\n",
        "  celestial_bodies[i] = cb.lower()\n",
        "\n",
        "print(celestial_bodies)"
      ]
    },
    {
      "cell_type": "code",
      "execution_count": 1,
      "metadata": {
        "colab": {
          "base_uri": "https://localhost:8080/"
        },
        "id": "KWR9H6_t7nqh",
        "outputId": "18e4ff03-5495-479e-c41c-339a78cef019"
      },
      "outputs": [
        {
          "name": "stdout",
          "output_type": "stream",
          "text": [
            "Mercury has 0 moons\n",
            "Venus has 0 moons\n",
            "Mars has 2 moons\n",
            "Earth has 1 moons\n"
          ]
        }
      ],
      "source": [
        "# Looping through tuple is similar to list, here is how you can loop through a dictionary\n",
        "inner_planet_moons = {'Mercury' : 0,\n",
        "                      'Venus' : 0,\n",
        "                      'Mars' : 2,\n",
        "                      'Earth' : 1}\n",
        "\n",
        "# Use items of dict to loop through it\n",
        "for key, value in inner_planet_moons.items():\n",
        "  print(f'{key} has {value} moons')\n"
      ]
    },
    {
      "cell_type": "markdown",
      "metadata": {
        "id": "DpqxC4qH7nqh"
      },
      "source": [
        "#### Loops with Conditions"
      ]
    },
    {
      "cell_type": "code",
      "execution_count": null,
      "metadata": {
        "colab": {
          "base_uri": "https://localhost:8080/"
        },
        "id": "4x59akZr7nqh",
        "outputId": "e211ee02-abfb-4cf1-9eaf-813d2ad373e4"
      },
      "outputs": [
        {
          "name": "stdout",
          "output_type": "stream",
          "text": [
            "2 == 2\n"
          ]
        }
      ],
      "source": [
        "# Create two variables to compare using if-elif-else block\n",
        "a = 2\n",
        "b = 2\n",
        "\n",
        "# Check if a > b, a<b or a==b using\n",
        "if a > b:                # If this is true\n",
        "  print(f'{a} > {b}')    # Print this\n",
        "elif a < b:              # Else if the above condition is not true, this is true\n",
        "  print(f'{a} < {b}')    # Then print this\n",
        "else:                    # If none of the above conditions are true\n",
        "  print(f'{a} == {b}')   # Then print this"
      ]
    },
    {
      "cell_type": "code",
      "execution_count": null,
      "metadata": {
        "colab": {
          "base_uri": "https://localhost:8080/"
        },
        "id": "C-jZ2BVA7nqi",
        "outputId": "d3189a6c-5529-421c-8c89-124fdc0d168b"
      },
      "outputs": [
        {
          "name": "stdout",
          "output_type": "stream",
          "text": [
            "0\n",
            "1\n",
            "2\n",
            "3\n"
          ]
        }
      ],
      "source": [
        "# Guess the output of this code\n",
        "for index in range(0, 10):\n",
        "    print(index)\n",
        "    if index == 3:\n",
        "        break"
      ]
    },
    {
      "cell_type": "code",
      "execution_count": null,
      "metadata": {
        "id": "9NYlTRJs7nqn"
      },
      "outputs": [],
      "source": [
        "# Can you guess what's happening here and which loop will break?\n",
        "for x in range(5):\n",
        "    for y in range(5):\n",
        "        if y > 2:\n",
        "            break\n",
        "        print(f\"({x},{y})\")"
      ]
    },
    {
      "cell_type": "code",
      "execution_count": null,
      "metadata": {
        "colab": {
          "base_uri": "https://localhost:8080/"
        },
        "id": "Fafj8qWb7nqn",
        "outputId": "b203309e-b8ad-4d6b-8bf0-f5cc0948c865"
      },
      "outputs": [],
      "source": [
        "# Can you guess the output of this code?\n",
        "ct = 0\n",
        "print('-- Help: type quit to exit --')\n",
        "while True:\n",
        "    ct+=1\n",
        "    cb = input(f'Enter your favorite celestial body {ct}:- ')\n",
        "    # Can you think of an alternate way to terminate the while loop? (very similar)\n",
        "    if cb.lower() == 'quit':\n",
        "        break"
      ]
    },
    {
      "cell_type": "code",
      "execution_count": null,
      "metadata": {
        "colab": {
          "base_uri": "https://localhost:8080/"
        },
        "id": "3fMLc0uW7nqn",
        "outputId": "9521776f-3645-47fb-cfb3-56f2694b6992"
      },
      "outputs": [],
      "source": [
        "# Create a tuple to store all the planets in our solar system\n",
        "planets = (\"Mercury\", \"Venus\", \"Earth\", \"Mars\", \"Jupiter\", \"Saturn\", \"Uranus\", \"Neptune\")\n",
        "\n",
        "# Your mission is to find if any gas giant is present in the planets tuple. If found even one, terminate the search\n",
        "gas_giants = ('Jupiter', 'Saturn', 'Uranus', 'Neptune')\n",
        "\n",
        "# Code your solution here\n",
        "for planet in planets:\n",
        "  if planet in gas_giants:\n",
        "    print(f'{planet} is a gas giant')\n",
        "    break"
      ]
    },
    {
      "cell_type": "markdown",
      "metadata": {
        "id": "HYAIGCpR7nqn"
      },
      "source": [
        "### 7. List Comprehension"
      ]
    },
    {
      "cell_type": "code",
      "execution_count": 4,
      "metadata": {
        "colab": {
          "base_uri": "https://localhost:8080/"
        },
        "id": "z67ThoMn7nqn",
        "outputId": "6ef60513-de74-437d-8043-6a77aedd15fc"
      },
      "outputs": [
        {
          "name": "stdout",
          "output_type": "stream",
          "text": [
            "[6, 7, 8, 9]\n"
          ]
        }
      ],
      "source": [
        "''' CODE WITHOUT LIST COMPREHENSION '''\n",
        "\n",
        "# Create a string\n",
        "str_var = '123456789'\n",
        "\n",
        "# Store charachter of this string as an integer element of a list called char_list if it is more than 5\n",
        "char_list = []\n",
        "\n",
        "for ch in str_var:\n",
        "  if int(ch) > 5:\n",
        "    char_list.append(int(ch))\n",
        "    #print(char_list)\n",
        "\n",
        "# Print the char_list\n",
        "print(char_list)"
      ]
    },
    {
      "cell_type": "code",
      "execution_count": null,
      "metadata": {
        "colab": {
          "base_uri": "https://localhost:8080/"
        },
        "id": "tcxY9G5B7nqo",
        "outputId": "3406137c-8901-49dd-9993-cfa1884c1bad"
      },
      "outputs": [
        {
          "name": "stdout",
          "output_type": "stream",
          "text": [
            "[6, 7, 8, 9]\n"
          ]
        }
      ],
      "source": [
        "''' CODE WITH LIST COMPREHENSION '''\n",
        "\n",
        "# [<element to append in list> <for loop> <if condition>]\n",
        "lst_comprehension = [int(ch) for ch in str_var if int(ch) > 5]\n",
        "print(lst_comprehension)"
      ]
    },
    {
      "cell_type": "markdown",
      "metadata": {
        "id": "Z9UC6fAKDYAs"
      },
      "source": [
        "### Introduction to Functions\n"
      ]
    },
    {
      "cell_type": "code",
      "execution_count": null,
      "metadata": {
        "id": "MpLp4ayZDbLO"
      },
      "outputs": [],
      "source": [
        "# Define a Function\n",
        "def greet():\n",
        "  print(\"Hello All!\")"
      ]
    },
    {
      "cell_type": "code",
      "execution_count": null,
      "metadata": {
        "colab": {
          "base_uri": "https://localhost:8080/"
        },
        "id": "mXvsLPLREApv",
        "outputId": "a31ae368-afec-4957-bc80-7a8b4979de08"
      },
      "outputs": [
        {
          "name": "stdout",
          "output_type": "stream",
          "text": [
            "Hello All!\n"
          ]
        }
      ],
      "source": [
        "# call the function\n",
        "greet()"
      ]
    },
    {
      "cell_type": "code",
      "execution_count": null,
      "metadata": {
        "id": "Ln_i9Xp8ELzQ"
      },
      "outputs": [],
      "source": [
        "def greet_name(name_student):\n",
        "  print(f'Hello {name_student}')"
      ]
    },
    {
      "cell_type": "code",
      "execution_count": null,
      "metadata": {
        "colab": {
          "base_uri": "https://localhost:8080/"
        },
        "id": "aicdi5EQEmPM",
        "outputId": "e42c47dc-f24a-47aa-d2df-3ed93fdbf35e"
      },
      "outputs": [
        {
          "name": "stdout",
          "output_type": "stream",
          "text": [
            "Hello Anish\n"
          ]
        }
      ],
      "source": [
        "greet_name('Anish')"
      ]
    },
    {
      "cell_type": "code",
      "execution_count": null,
      "metadata": {
        "colab": {
          "base_uri": "https://localhost:8080/"
        },
        "id": "yOsa9zYMEssO",
        "outputId": "bb4ae143-396d-4963-a06f-f6604ebc1c8e"
      },
      "outputs": [
        {
          "name": "stdout",
          "output_type": "stream",
          "text": [
            "Hello Mahima\n"
          ]
        }
      ],
      "source": [
        "greet_name('Mahima')"
      ]
    },
    {
      "cell_type": "code",
      "execution_count": null,
      "metadata": {
        "colab": {
          "base_uri": "https://localhost:8080/"
        },
        "id": "mPeZOI61EvmK",
        "outputId": "6c9bc1c4-05f6-4e86-95f9-01996e27d0f9"
      },
      "outputs": [
        {
          "name": "stdout",
          "output_type": "stream",
          "text": [
            "Hello Joshua\n"
          ]
        }
      ],
      "source": [
        "greet_name('Joshua')"
      ]
    },
    {
      "cell_type": "code",
      "execution_count": null,
      "metadata": {
        "colab": {
          "base_uri": "https://localhost:8080/"
        },
        "id": "GFfpyf6NE8yO",
        "outputId": "c184f641-f799-4dac-a02d-4d2041d64109"
      },
      "outputs": [
        {
          "data": {
            "text/plain": [
              "6"
            ]
          },
          "execution_count": 55,
          "metadata": {},
          "output_type": "execute_result"
        }
      ],
      "source": [
        "# define the function with doc string\n",
        "def add_nums(num1, num2):\n",
        "  \"\"\"\n",
        "  Add two numbers given as inputs\n",
        "\n",
        "  Parameters\n",
        "  ----------\n",
        "  num1: first number\n",
        "  num2: second number\n",
        "\n",
        "  Returns\n",
        "  -------\n",
        "  out: summation of num1 and num2\n",
        "  \"\"\"\n",
        "  out = num1 + num2\n",
        "  return out\n",
        "\n",
        "# Call the function\n",
        "four_plus_two = add_nums(4, 2)\n",
        "four_plus_two"
      ]
    },
    {
      "cell_type": "markdown",
      "metadata": {
        "id": "alYdfC38GOAe"
      },
      "source": [
        "### Difference between inputs of the function\n",
        "1. Postional Arguments\n",
        "2. Keyword Arguments\n",
        "3. Default Arguments"
      ]
    },
    {
      "cell_type": "code",
      "execution_count": null,
      "metadata": {
        "id": "pVIbDLRWGVMm"
      },
      "outputs": [],
      "source": [
        "# Default Argument for msg\n",
        "def greet_name(name, msg='how are you?'):\n",
        "  print(f\"Hey {name}, {msg}\")"
      ]
    },
    {
      "cell_type": "code",
      "execution_count": null,
      "metadata": {
        "colab": {
          "base_uri": "https://localhost:8080/"
        },
        "id": "7Kd4RLSiHpkG",
        "outputId": "c209b45d-dbdc-46b1-d29b-63028efe0dcb"
      },
      "outputs": [
        {
          "name": "stdout",
          "output_type": "stream",
          "text": [
            "Hey Waddup cutie, Anubhav\n"
          ]
        }
      ],
      "source": [
        "greet_name('Waddup cutie', msg='Anubhav')"
      ]
    },
    {
      "cell_type": "code",
      "execution_count": null,
      "metadata": {
        "colab": {
          "base_uri": "https://localhost:8080/"
        },
        "id": "9MlMCAjJHXAG",
        "outputId": "95bdb218-7eea-4dd6-b4ec-b18a55bb5b72"
      },
      "outputs": [
        {
          "name": "stdout",
          "output_type": "stream",
          "text": [
            "Hey Wadup Cutie, Anubhav\n"
          ]
        }
      ],
      "source": [
        "# Positional args - postion matters\n",
        "greet_name('Wadup Cutie', 'Anubhav') # incorrect order"
      ]
    },
    {
      "cell_type": "code",
      "execution_count": null,
      "metadata": {
        "colab": {
          "base_uri": "https://localhost:8080/"
        },
        "id": "QZeMRBdUG2at",
        "outputId": "d31fe8af-fc03-47a1-fd53-95207c9b0a20"
      },
      "outputs": [
        {
          "name": "stdout",
          "output_type": "stream",
          "text": [
            "Hey Anubhav, Waddup cutie?\n"
          ]
        }
      ],
      "source": [
        "# keyword args - position doesn't matter\n",
        "greet_name(msg='Waddup cutie?', name='Anubhav')"
      ]
    }
  ],
  "metadata": {
    "colab": {
      "provenance": []
    },
    "kaggle": {
      "accelerator": "nvidiaTeslaT4",
      "dataSources": [
        {
          "datasetId": 910930,
          "sourceId": 1544285,
          "sourceType": "datasetVersion"
        }
      ],
      "dockerImageVersionId": 30733,
      "isGpuEnabled": true,
      "isInternetEnabled": true,
      "language": "python",
      "sourceType": "notebook"
    },
    "kernelspec": {
      "display_name": "Python 3",
      "name": "python3"
    },
    "language_info": {
      "codemirror_mode": {
        "name": "ipython",
        "version": 3
      },
      "file_extension": ".py",
      "mimetype": "text/x-python",
      "name": "python",
      "nbconvert_exporter": "python",
      "pygments_lexer": "ipython3",
      "version": "3.12.1"
    }
  },
  "nbformat": 4,
  "nbformat_minor": 0
}
