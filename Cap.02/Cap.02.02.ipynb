{
  "cells": [
    {
      "cell_type": "markdown",
      "metadata": {
        "id": "FdzAAGxsgreY"
      },
      "source": [
        "# <center> W2S2 - Python Libraries\n",
        "\n",
        "---\n"
      ]
    },
    {
      "cell_type": "markdown",
      "metadata": {
        "id": "GFzUoGnDgwcs"
      },
      "source": [
        "**So far we in this week we explored:-**\n",
        "* How to define and call a function with different type of input arguments.\n",
        "\n",
        "**In this notebook we will cover:-**\n",
        "* NumPy\n",
        "* Matplotlib\n",
        "\n",
        "\n",
        "All of the above are Python libraries."
      ]
    },
    {
      "cell_type": "markdown",
      "metadata": {
        "id": "BOTLZtUxhGg1"
      },
      "source": [
        "### **Python Libraries**\n",
        "\n",
        "* Python libraries provide pre-written code modules for specialized tasks.\n",
        "* They offer reusable functions and classes, saving development time.\n",
        "* Many libraries are open-source, benefiting from community contributions.\n",
        "* Libraries enhance Python's functionality with optimized algorithms.\n",
        "* They allow seamless integration for building comprehensive solutions."
      ]
    },
    {
      "cell_type": "markdown",
      "metadata": {
        "id": "ete3NtephdcT"
      },
      "source": [
        "### **NumPy (Numerical Python)**\n",
        "\n",
        "* How to create a numpy array\n",
        "* How to create a 1D, 2D, and 3D arrays using numpy\n",
        "* Multiple ways of creating numpy arrays\n",
        "* How to check dimensions and shape of numpy arrays\n",
        "* How to reshape the numpy arrays\n",
        "* How to find minimum, maximum, sum, and avg. values of numpy arrays?\n",
        "* How to perform indexing using numpy arrays\n",
        "* Concept of axis\n"
      ]
    },
    {
      "cell_type": "code",
      "execution_count": 1,
      "metadata": {
        "id": "I_8eCGxxgmcW"
      },
      "outputs": [],
      "source": [
        "# Importing the library\n",
        "import numpy as  np"
      ]
    },
    {
      "cell_type": "code",
      "execution_count": null,
      "metadata": {
        "colab": {
          "base_uri": "https://localhost:8080/"
        },
        "id": "SL_lUbtZiTRZ",
        "outputId": "64d82828-00f1-4a36-c465-53fa4f2f736c"
      },
      "outputs": [
        {
          "output_type": "stream",
          "name": "stdout",
          "text": [
            "[1. 2. 3. 4. 5.]\n",
            "<class 'numpy.ndarray'>\n"
          ]
        }
      ],
      "source": [
        "# Create an array\n",
        "my_array = np.array([1, 2, 3, 4, 5.0])\n",
        "\n",
        "# Print it out to see how it looks like\n",
        "print(my_array)\n",
        "print(type(my_array))"
      ]
    },
    {
      "cell_type": "code",
      "execution_count": null,
      "metadata": {
        "id": "N5A5wT0OiVKv"
      },
      "outputs": [],
      "source": [
        "'''Multiple ways of creating numpy arrays'''\n",
        "\n",
        "# Array of ones\n",
        "a = np.ones((3, 4))          # Creates an array full of 1s of size 3x4\n",
        "\n",
        "# Array of zeros\n",
        "b = np.zeros((2,3,4))      # Creates an array full of 0s of size 2x3x4\n",
        "\n",
        "# Array of random values\n",
        "c = np.random.random((2, 2)) # Creates an array of random values of size 2x2\n",
        "\n",
        "# Array of evenly spaced values\n",
        "d = np.arange(10, 25, 4)     # Creates an array starting from 10 (inclusive) till 25 (exclusive) after every 4 values\n",
        "\n",
        "# Array of equally spaced items\n",
        "e = np.linspace(1, 50, 10)   # Creates an array of 4 elements with equal spaces in between them including the last value!"
      ]
    },
    {
      "cell_type": "code",
      "execution_count": null,
      "metadata": {
        "colab": {
          "base_uri": "https://localhost:8080/"
        },
        "id": "_KjKXAhuiWiK",
        "outputId": "89968707-1959-4a4c-9c52-6bb2cf03341a"
      },
      "outputs": [
        {
          "output_type": "stream",
          "name": "stdout",
          "text": [
            "[[1. 1. 1. 1.]\n",
            " [1. 1. 1. 1.]\n",
            " [1. 1. 1. 1.]]\n"
          ]
        }
      ],
      "source": [
        "print(a)"
      ]
    },
    {
      "cell_type": "code",
      "execution_count": null,
      "metadata": {
        "colab": {
          "base_uri": "https://localhost:8080/"
        },
        "id": "99BZc8L5iYq2",
        "outputId": "d6cb0d02-5d4d-441d-fb39-03d3483de53b"
      },
      "outputs": [
        {
          "output_type": "stream",
          "name": "stdout",
          "text": [
            "Dimensions of array a = 2\n",
            "Size of array a = 12\n",
            "Shape of array a = (3, 4)\n"
          ]
        }
      ],
      "source": [
        "'''For the above array a, print its dimensions, size and shape'''\n",
        "\n",
        "print(f\"Dimensions of array a = {a.ndim}\")  # Dimensions of the array\n",
        "print(f\"Size of array a = {a.size}\")        # Total elements inside the array\n",
        "print(f\"Shape of array a = {a.shape}\")      # Shape of array in the form of rows x cols"
      ]
    },
    {
      "cell_type": "code",
      "execution_count": null,
      "metadata": {
        "colab": {
          "base_uri": "https://localhost:8080/"
        },
        "id": "7-b3xbO9iaBM",
        "outputId": "1fc3204c-85f5-4dee-9fb1-44f98d9b21ec"
      },
      "outputs": [
        {
          "output_type": "stream",
          "name": "stdout",
          "text": [
            "[[1. 1. 1. 1. 1. 1. 1. 1. 1. 1. 1. 1.]] (1, 12)\n"
          ]
        }
      ],
      "source": [
        "# You can also reshape the arrays - reshape array a to 1x12\n",
        "a = a.reshape(1, 12)\n",
        "print(a, a.shape)"
      ]
    },
    {
      "cell_type": "code",
      "execution_count": null,
      "metadata": {
        "colab": {
          "base_uri": "https://localhost:8080/"
        },
        "id": "rS1b9DfNibg3",
        "outputId": "932a0ea4-4090-4e33-b26a-17fbfa6ec74d"
      },
      "outputs": [
        {
          "output_type": "stream",
          "name": "stdout",
          "text": [
            "[[0.71443158 0.77839131]\n",
            " [0.36437683 0.87171569]]\n"
          ]
        }
      ],
      "source": [
        "print(c)"
      ]
    },
    {
      "cell_type": "code",
      "execution_count": null,
      "metadata": {
        "colab": {
          "base_uri": "https://localhost:8080/"
        },
        "id": "v7purFKbidRh",
        "outputId": "340c27c8-2092-4653-8d12-afd0c2552636"
      },
      "outputs": [
        {
          "output_type": "stream",
          "name": "stdout",
          "text": [
            "Minimum value of y = 0.36437682513065717\n",
            "Maximum value of y = 0.8717156920218839\n",
            "Sum of y = 2.728915408144752\n",
            "Mean of y = 0.682228852036188\n"
          ]
        }
      ],
      "source": [
        "# Finding minimum, maximum, sum, and mean an array c\n",
        "print(f'Minimum value of y = {c.min()}')\n",
        "print(f'Maximum value of y = {c.max()}')\n",
        "print(f'Sum of y = {c.sum()}')\n",
        "print(f'Mean of y = {c.mean()}')"
      ]
    },
    {
      "cell_type": "markdown",
      "metadata": {
        "id": "DirKt5UeifAD"
      },
      "source": [
        "**Q)**\n",
        "- *Create a 2D array as shown below:-*       \n",
        "  [[1 2 3 4]          \n",
        " [5 6 7 8]]\n",
        "\n",
        "- *Create a 3D array of random integers using np.random.randint(min_val, max_val, size)*       \n",
        "  Use min val = 1, max val = 100, size = (5,2,4)\n",
        "\n",
        "- *print both the arrays*"
      ]
    },
    {
      "cell_type": "code",
      "execution_count": null,
      "metadata": {
        "colab": {
          "base_uri": "https://localhost:8080/"
        },
        "id": "eGqRRDxAifg4",
        "outputId": "6812f421-7136-4c6a-d516-41cd98a8a958"
      },
      "outputs": [
        {
          "output_type": "stream",
          "name": "stdout",
          "text": [
            "2D array:-\n",
            "[[1 2 3 4]\n",
            " [5 6 7 8]]\n",
            "\n",
            "3D array:-\n",
            "[[[52 93 15 72]\n",
            "  [61 21 83 87]]\n",
            "\n",
            " [[75 75 88 24]\n",
            "  [ 3 22 53  2]]\n",
            "\n",
            " [[88 30 38  2]\n",
            "  [64 60 21 33]]\n",
            "\n",
            " [[76 58 22 89]\n",
            "  [49 91 59 42]]\n",
            "\n",
            " [[92 60 80 15]\n",
            "  [62 62 47 62]]]\n"
          ]
        }
      ],
      "source": [
        "arr_2d = np.array([[1, 2, 3, 4],\n",
        "                   [5, 6, 7, 8]])\n",
        "\n",
        "'''Something new!!'''\n",
        "np.random.seed(42) # Seed generates same set of random numbers each time we run it as it will be used later in this notebook we want it to genrate same 3D array always when we run it\n",
        "\n",
        "arr_3d = np.random.randint(1, 100, (5, 2, 4))\n",
        "\n",
        "print(f\"2D array:-\\n{arr_2d}\\n\\n3D array:-\\n{arr_3d}\")"
      ]
    },
    {
      "cell_type": "code",
      "execution_count": null,
      "metadata": {
        "colab": {
          "base_uri": "https://localhost:8080/"
        },
        "id": "T6hPLu1AiiHH",
        "outputId": "b1b6a53e-58ba-432e-9e70-4f0056fcbf01"
      },
      "outputs": [
        {
          "output_type": "stream",
          "name": "stdout",
          "text": [
            "[[1 2 3 4]\n",
            " [5 6 7 8]]\n"
          ]
        }
      ],
      "source": [
        "arr_2d = np.array([[1, 2, 3, 4],\n",
        "                   [5, 6, 7, 8]])\n",
        "print(arr_2d)"
      ]
    },
    {
      "cell_type": "code",
      "execution_count": null,
      "metadata": {
        "colab": {
          "base_uri": "https://localhost:8080/"
        },
        "id": "wIz92xnWiilf",
        "outputId": "51824c30-ecbb-4886-9986-c214c1e85907"
      },
      "outputs": [
        {
          "output_type": "stream",
          "name": "stdout",
          "text": [
            "[[[51 55 64  3]\n",
            "  [51  7 21 73]]\n",
            "\n",
            " [[39 18  4 89]\n",
            "  [60 14  9 90]]\n",
            "\n",
            " [[53  2 84 92]\n",
            "  [60 71 44  8]]\n",
            "\n",
            " [[47 35 78 81]\n",
            "  [36 50  4  2]]\n",
            "\n",
            " [[ 6 54  4 54]\n",
            "  [93 63 18 90]]]\n"
          ]
        }
      ],
      "source": [
        "arr_3d = np.random.randint(1, 100, (5,2,4))\n",
        "print(arr_3d)"
      ]
    },
    {
      "cell_type": "code",
      "execution_count": null,
      "metadata": {
        "colab": {
          "base_uri": "https://localhost:8080/"
        },
        "id": "JuSOa5jfimY9",
        "outputId": "21c4242d-9ae8-448d-8ff8-356516d49295"
      },
      "outputs": [
        {
          "output_type": "stream",
          "name": "stdout",
          "text": [
            "7\n",
            "21\n"
          ]
        }
      ],
      "source": [
        "'''Remember indexing starts with 0 in python!'''\n",
        "\n",
        "# Select the element at row 1 column 2 from 2D array\n",
        "print(arr_2d[1][2]) # 7\n",
        "\n",
        "# Select the element at row 1, column 2 from the 0th bunch from 3D array\n",
        "print(arr_3d[0][1][2]) # 21"
      ]
    },
    {
      "cell_type": "code",
      "execution_count": null,
      "metadata": {
        "colab": {
          "base_uri": "https://localhost:8080/"
        },
        "id": "kFaGokTlin4D",
        "outputId": "9cfcbeed-c844-44e9-f686-da62e9becd40"
      },
      "outputs": [
        {
          "output_type": "stream",
          "name": "stdout",
          "text": [
            "[[1 2 3 4]\n",
            " [5 6 7 8]]\n"
          ]
        }
      ],
      "source": [
        "print(arr_2d)"
      ]
    },
    {
      "cell_type": "code",
      "execution_count": null,
      "metadata": {
        "id": "DToyHJEmiqkt",
        "colab": {
          "base_uri": "https://localhost:8080/"
        },
        "outputId": "fc292bed-5537-4135-9a6f-558f7d3ddb8c"
      },
      "outputs": [
        {
          "output_type": "execute_result",
          "data": {
            "text/plain": [
              "array([[2, 3],\n",
              "       [6, 7]])"
            ]
          },
          "metadata": {},
          "execution_count": 113
        }
      ],
      "source": [
        "# Let us now slice the 2D and 3D arrays\n",
        "\n",
        "'''\n",
        "Grab the following numbers from 2D array:-\n",
        "[[1 2]\n",
        "[5 6]]\n",
        "'''\n",
        "\n",
        "# That is in 0th row and 1st row we need first 2 cols\n",
        "arr_2d[:, 1:3]"
      ]
    },
    {
      "cell_type": "markdown",
      "metadata": {
        "id": "UqT9poOi3MvL"
      },
      "source": [
        "Activity:-"
      ]
    },
    {
      "cell_type": "code",
      "execution_count": null,
      "metadata": {
        "id": "WAgl-vP4ixSO",
        "colab": {
          "base_uri": "https://localhost:8080/"
        },
        "outputId": "8567ebeb-fe7b-4877-f14c-e1ca220584bd"
      },
      "outputs": [
        {
          "output_type": "stream",
          "name": "stdout",
          "text": [
            "2D array:-\n",
            "[[1 2 3 4]\n",
            " [5 6 7 8]]\n",
            "\n",
            "3D array:-\n",
            "[[[52 93 15 72]\n",
            "  [61 21 83 87]]\n",
            "\n",
            " [[75 75 88 24]\n",
            "  [ 3 22 53  2]]\n",
            "\n",
            " [[88 30 38  2]\n",
            "  [64 60 21 33]]\n",
            "\n",
            " [[76 58 22 89]\n",
            "  [49 91 59 42]]\n",
            "\n",
            " [[92 60 80 15]\n",
            "  [62 62 47 62]]]\n"
          ]
        }
      ],
      "source": [
        "np.random.seed(42) # Seed generates same set of random numbers each time we run it as it will be used later in this notebook we want it to genrate same 3D array always when we run it\n",
        "\n",
        "arr_3d = np.random.randint(1, 100, (5,2,4))\n",
        "\n",
        "print(f\"2D array:-\\n{arr_2d}\\n\\n3D array:-\\n{arr_3d}\")"
      ]
    },
    {
      "cell_type": "code",
      "execution_count": null,
      "metadata": {
        "id": "O5JDNs4ciyJ5"
      },
      "outputs": [],
      "source": [
        "'''\n",
        "Grab the following numbers from 3D array:-\n",
        "[[88 38]\n",
        "[64 21]]\n",
        "'''\n",
        "\n",
        "# From the 2nd bunch we need both the rows and alternate columns\n",
        "# here we are using the start(inclusive):end(exclusive):skip notation to get the required output"
      ]
    },
    {
      "cell_type": "markdown",
      "metadata": {
        "id": "zyRnjad9i0_1"
      },
      "source": [
        "### **Very important concept of numpy ---> axis**\n",
        "<img src = 'https://www.sharpsightlabs.com/wp-content/uploads/2018/12/numpy-arrays-have-axes_updated_v2.png' width = 55%>"
      ]
    },
    {
      "cell_type": "code",
      "execution_count": 10,
      "metadata": {
        "colab": {
          "base_uri": "https://localhost:8080/"
        },
        "id": "pHzEZJJ7i0ba",
        "outputId": "286e8536-5953-4b08-d638-03fdcf787b04"
      },
      "outputs": [
        {
          "output_type": "stream",
          "name": "stdout",
          "text": [
            "[[ 10  20  30  40]\n",
            " [ 50  60  70  80]\n",
            " [ 90 100 110 120]]\n"
          ]
        }
      ],
      "source": [
        "'''\n",
        "Create the following array using numpy techniques:-\n",
        "[[10 20 30 40]\n",
        "[50 60 70 80]\n",
        "[90 100 110 120]]\n",
        "'''\n",
        "\n",
        "arr = np.arange(10, 121, 10).reshape(3, 4)\n",
        "print(arr)"
      ]
    },
    {
      "cell_type": "code",
      "execution_count": 11,
      "metadata": {
        "colab": {
          "base_uri": "https://localhost:8080/"
        },
        "id": "3GbtoahLi5az",
        "outputId": "59a355d3-300b-49bf-edf8-4de9579471af"
      },
      "outputs": [
        {
          "output_type": "stream",
          "name": "stdout",
          "text": [
            "[150 180 210 240]\n",
            "[100 260 420]\n"
          ]
        }
      ],
      "source": [
        "print(arr.sum(axis = 0)) # Sums up the rows\n",
        "print(arr.sum(axis = 1)) # Sums up the cols"
      ]
    },
    {
      "cell_type": "markdown",
      "metadata": {
        "id": "I2rMj6Xyi6ag"
      },
      "source": [
        "### **Matplotlib**\n",
        "\n",
        "* How to create a line plot\n",
        "* How to cuztomize a plot\n",
        "* How to create subplot"
      ]
    },
    {
      "cell_type": "markdown",
      "metadata": {
        "id": "oyCC3qU9jL_F"
      },
      "source": [
        "**Q)**\n",
        "- *Create an array of integer values in between 5 to 20 (both inclusive) after every 2 values*\n",
        "- *Create another array of 8 random values between 0 and 1*          \n",
        "- *Print both of it*"
      ]
    },
    {
      "cell_type": "code",
      "execution_count": 12,
      "metadata": {
        "colab": {
          "base_uri": "https://localhost:8080/"
        },
        "id": "fV96AsS3i705",
        "outputId": "31ea59d8-a5fe-46ed-8b9f-056af44a4566"
      },
      "outputs": [
        {
          "output_type": "stream",
          "name": "stdout",
          "text": [
            "[ 5  7  9 11 13 15 17 19] \n",
            "\n",
            " [0.63788256 0.22414407 0.96393651 0.59160797 0.24174683 0.8359985\n",
            " 0.45890004 0.14423894]\n"
          ]
        }
      ],
      "source": [
        "int_arr = np.arange(5, 21, 2)\n",
        "rand_arr = np.random.random(8)\n",
        "print(int_arr, '\\n\\n' ,rand_arr)"
      ]
    },
    {
      "cell_type": "code",
      "execution_count": 13,
      "metadata": {
        "id": "2KJmwTTTjOpD"
      },
      "outputs": [],
      "source": [
        "import matplotlib.pyplot as plt"
      ]
    },
    {
      "cell_type": "code",
      "execution_count": 14,
      "metadata": {
        "colab": {
          "base_uri": "https://localhost:8080/",
          "height": 433
        },
        "id": "k4GPwozxjP-M",
        "outputId": "6c954079-d97e-4002-91ac-b0b8c0ebcc4e"
      },
      "outputs": [
        {
          "output_type": "display_data",
          "data": {
            "text/plain": [
              "<Figure size 640x480 with 1 Axes>"
            ],
            "image/png": "[encoded data removed]"
          },
          "metadata": {}
        }
      ],
      "source": [
        "# Plot integer array and random array and label it as random line\n",
        "# Plot integer array and 1/20th of integer array and label it as straight line\n",
        "# Display the legend\n",
        "# Show the output\n",
        "plt.plot(int_arr, rand_arr)\n",
        "plt.plot(int_arr, 1/20*int_arr)\n",
        "plt.legend(['Random Line', 'Straight Line'])\n",
        "plt.show()"
      ]
    },
    {
      "cell_type": "code",
      "execution_count": 15,
      "metadata": {
        "colab": {
          "base_uri": "https://localhost:8080/",
          "height": 478
        },
        "id": "EgGokqNijRM3",
        "outputId": "8b95d1c2-edd1-4b4b-b99d-4cfeffb5b701"
      },
      "outputs": [
        {
          "output_type": "display_data",
          "data": {
            "text/plain": [
              "<Figure size 640x480 with 1 Axes>"
            ],
            "image/png": "[encoded data removed]"
          },
          "metadata": {}
        }
      ],
      "source": [
        "# Customise the plot by adding title, labels, e.t.c.c\n",
        "plt.plot(int_arr, rand_arr, color='r')\n",
        "plt.plot(int_arr, 1/20*int_arr, color='orange')\n",
        "plt.xlabel('Inputs', color = 'm', fontsize = 13)\n",
        "plt.ylabel('Outputs', color = 'm', fontsize = 13)\n",
        "plt.title('Title Demo', color = 'royalblue', fontsize=15, weight = 'bold')\n",
        "plt.legend(['Random Line', 'Straight Line'])\n",
        "plt.show()"
      ]
    },
    {
      "cell_type": "code",
      "execution_count": 22,
      "metadata": {
        "colab": {
          "base_uri": "https://localhost:8080/",
          "height": 454
        },
        "id": "aonOMaZjjSaW",
        "outputId": "b9afbd05-10b3-479c-d00f-da54031187a1"
      },
      "outputs": [
        {
          "output_type": "display_data",
          "data": {
            "text/plain": [
              "<Figure size 640x480 with 6 Axes>"
            ],
            "image/png": "[encoded data removed]"
          },
          "metadata": {}
        }
      ],
      "source": [
        "# Subplot\n",
        "plt.suptitle('Demonstrating Subplot', color = 'r', weight='bold', fontsize=11)\n",
        "for i in range(6): # i = 0, 1, 2, 3\n",
        "  plt.subplot(2, 3, i+1) # 2 = rows , 3 = colummns\n",
        "  #Plot whatever you want here\n",
        "  plt.title(f'(2, 2, {i+1})', color = 'royalblue')\n",
        "  plt.xticks([])\n",
        "  plt.yticks([])\n",
        "plt.show()"
      ]
    },
    {
      "cell_type": "code",
      "execution_count": null,
      "metadata": {
        "id": "dK1NocT7Fg4x"
      },
      "outputs": [],
      "source": [
        "# Create a subplot of 1x2 displaying random line in first axis, and straight line in second axis\n",
        "\n"
      ]
    }
  ],
  "metadata": {
    "colab": {
      "provenance": []
    },
    "kernelspec": {
      "display_name": "Python 3",
      "name": "python3"
    },
    "language_info": {
      "name": "python"
    }
  },
  "nbformat": 4,
  "nbformat_minor": 0
}